{
 "cells": [
  {
   "cell_type": "code",
   "execution_count": 1,
   "metadata": {
    "id": "y5lmmLVK06aI"
   },
   "outputs": [],
   "source": [
    "import numpy as np\n",
    "import pandas as pd\n",
    "import matplotlib.pyplot as plt\n",
    "import seaborn as sns\n",
    "import math\n",
    "import scipy.stats as stats\n",
    "import patsy\n",
    "import sklearn.linear_model as linear\n",
    "import random\n",
    "from pprint import pprint\n",
    "from IPython.display import HTML, display_html\n",
    "from tabulate import tabulate\n",
    "from sklearn.model_selection import train_test_split\n",
    "from sklearn.neighbors import KNeighborsClassifier\n",
    "from sklearn.preprocessing import MinMaxScaler\n",
    "from sklearn.model_selection import KFold\n",
    "from sklearn.metrics import confusion_matrix\n",
    "from sklearn.model_selection import validation_curve\n",
    "from sklearn.model_selection import learning_curve\n",
    "from sklearn.metrics import accuracy_score\n",
    "from sklearn.metrics import precision_score\n",
    "from sklearn.metrics import recall_score\n",
    "from sklearn.pipeline import Pipeline\n",
    "from sklearn.preprocessing import StandardScaler\n",
    "from sklearn.linear_model import LogisticRegression\n",
    "\n",
    "sns.set(style=\"whitegrid\")"
   ]
  },
  {
   "cell_type": "markdown",
   "metadata": {
    "id": "yD85BoHay06j"
   },
   "source": [
    "# Spam Email Classification"
   ]
  },
  {
   "cell_type": "markdown",
   "metadata": {
    "id": "HsDuITGQz69N"
   },
   "source": [
    "Authors: Group 3:  Greg Carmean, Randall Hanna, Michael Hsien, Jeremy Kline, Jack Shu, William Stone"
   ]
  },
  {
   "cell_type": "markdown",
   "metadata": {
    "id": "aJn_-N1NzMDB"
   },
   "source": [
    "This report details the creation of a spam email classifier based on the following dataset: https://www.openintro.org/data/index.php?data=email. \n",
    "\n",
    "The data represents incoming emails for the first three months of 2012 for an email account.\n",
    "\n",
    "The objective is to build a classifier that will filter out as much of the spam as possible while allowing non-spam emails through to the users inbox"
   ]
  },
  {
   "cell_type": "markdown",
   "metadata": {
    "id": "Pv_mFk4jyxF0"
   },
   "source": [
    "# 1 ETL"
   ]
  },
  {
   "cell_type": "markdown",
   "metadata": {
    "id": "KWCqEoK5AI0S"
   },
   "source": [
    "The first step is to load in the data. The .csv file was downloaded in a .zip file from the openintro site and uploaded to an authors GitHub page so it could be reliably read into Colab."
   ]
  },
  {
   "cell_type": "code",
   "execution_count": 2,
   "metadata": {
    "id": "8XFNFGDa0_Ln"
   },
   "outputs": [],
   "source": [
    "emails = pd.read_csv(\"https://raw.githubusercontent.com/MeanMachine9918/spam_email_data/main/Email_Data.csv\")\n"
   ]
  },
  {
   "cell_type": "markdown",
   "metadata": {
    "id": "7bdAIXE0AXli"
   },
   "source": [
    "We'll look at the overall characteristics of the data to make sure it loaded correctly. First, let's get the basic data frame info:"
   ]
  },
  {
   "cell_type": "code",
   "execution_count": 3,
   "metadata": {
    "colab": {
     "base_uri": "https://localhost:8080/"
    },
    "executionInfo": {
     "elapsed": 5225,
     "status": "ok",
     "timestamp": 1607486099310,
     "user": {
      "displayName": "Greg Carmean",
      "photoUrl": "",
      "userId": "03862132237162494275"
     },
     "user_tz": 300
    },
    "id": "fra32HiFAb0d",
    "outputId": "74a9162b-a744-4444-9290-5fcb195db28a"
   },
   "outputs": [
    {
     "name": "stdout",
     "output_type": "stream",
     "text": [
      "<class 'pandas.core.frame.DataFrame'>\n",
      "RangeIndex: 3921 entries, 0 to 3920\n",
      "Data columns (total 22 columns):\n",
      " #   Column        Non-Null Count  Dtype  \n",
      "---  ------        --------------  -----  \n",
      " 0   row           3921 non-null   int64  \n",
      " 1   spam          3921 non-null   int64  \n",
      " 2   to_multiple   3921 non-null   int64  \n",
      " 3   from          3921 non-null   int64  \n",
      " 4   cc            3921 non-null   int64  \n",
      " 5   sent_email    3921 non-null   int64  \n",
      " 6   time          3921 non-null   object \n",
      " 7   image         3921 non-null   int64  \n",
      " 8   attach        3921 non-null   int64  \n",
      " 9   dollar        3921 non-null   int64  \n",
      " 10  winner        3921 non-null   object \n",
      " 11  inherit       3921 non-null   int64  \n",
      " 12  viagra        3921 non-null   int64  \n",
      " 13  password      3921 non-null   int64  \n",
      " 14  num_char      3921 non-null   float64\n",
      " 15  line_breaks   3921 non-null   int64  \n",
      " 16  format        3921 non-null   int64  \n",
      " 17  re_subj       3921 non-null   int64  \n",
      " 18  exclaim_subj  3921 non-null   int64  \n",
      " 19  urgent_subj   3921 non-null   int64  \n",
      " 20  exclaim_mess  3921 non-null   int64  \n",
      " 21  number        3921 non-null   object \n",
      "dtypes: float64(1), int64(18), object(3)\n",
      "memory usage: 628.0+ KB\n"
     ]
    }
   ],
   "source": [
    "emails.info()"
   ]
  },
  {
   "cell_type": "markdown",
   "metadata": {
    "id": "nVc53xCiAiSO"
   },
   "source": [
    "There are a total of 3921 entries and 3921 observations for each variable, so there are no missing values which is good."
   ]
  },
  {
   "cell_type": "markdown",
   "metadata": {
    "id": "wM0kpxHzAxxV"
   },
   "source": [
    "We look at the first few rows to see if there are any issues with the format of the data"
   ]
  },
  {
   "cell_type": "code",
   "execution_count": 4,
   "metadata": {
    "colab": {
     "base_uri": "https://localhost:8080/",
     "height": 309
    },
    "executionInfo": {
     "elapsed": 5183,
     "status": "ok",
     "timestamp": 1607486099313,
     "user": {
      "displayName": "Greg Carmean",
      "photoUrl": "",
      "userId": "03862132237162494275"
     },
     "user_tz": 300
    },
    "id": "k3vbKhgOAV7B",
    "outputId": "ee312fb3-77bc-46e7-b2eb-5d220ff4d383"
   },
   "outputs": [
    {
     "data": {
      "text/html": [
       "<div>\n",
       "<style scoped>\n",
       "    .dataframe tbody tr th:only-of-type {\n",
       "        vertical-align: middle;\n",
       "    }\n",
       "\n",
       "    .dataframe tbody tr th {\n",
       "        vertical-align: top;\n",
       "    }\n",
       "\n",
       "    .dataframe thead th {\n",
       "        text-align: right;\n",
       "    }\n",
       "</style>\n",
       "<table border=\"1\" class=\"dataframe\">\n",
       "  <thead>\n",
       "    <tr style=\"text-align: right;\">\n",
       "      <th></th>\n",
       "      <th>row</th>\n",
       "      <th>spam</th>\n",
       "      <th>to_multiple</th>\n",
       "      <th>from</th>\n",
       "      <th>cc</th>\n",
       "      <th>sent_email</th>\n",
       "      <th>time</th>\n",
       "      <th>image</th>\n",
       "      <th>attach</th>\n",
       "      <th>dollar</th>\n",
       "      <th>...</th>\n",
       "      <th>viagra</th>\n",
       "      <th>password</th>\n",
       "      <th>num_char</th>\n",
       "      <th>line_breaks</th>\n",
       "      <th>format</th>\n",
       "      <th>re_subj</th>\n",
       "      <th>exclaim_subj</th>\n",
       "      <th>urgent_subj</th>\n",
       "      <th>exclaim_mess</th>\n",
       "      <th>number</th>\n",
       "    </tr>\n",
       "  </thead>\n",
       "  <tbody>\n",
       "    <tr>\n",
       "      <th>0</th>\n",
       "      <td>1</td>\n",
       "      <td>0</td>\n",
       "      <td>0</td>\n",
       "      <td>1</td>\n",
       "      <td>0</td>\n",
       "      <td>0</td>\n",
       "      <td>12/31/2011 22:16</td>\n",
       "      <td>0</td>\n",
       "      <td>0</td>\n",
       "      <td>0</td>\n",
       "      <td>...</td>\n",
       "      <td>0</td>\n",
       "      <td>0</td>\n",
       "      <td>11.370</td>\n",
       "      <td>202</td>\n",
       "      <td>1</td>\n",
       "      <td>0</td>\n",
       "      <td>0</td>\n",
       "      <td>0</td>\n",
       "      <td>0</td>\n",
       "      <td>big</td>\n",
       "    </tr>\n",
       "    <tr>\n",
       "      <th>1</th>\n",
       "      <td>2</td>\n",
       "      <td>0</td>\n",
       "      <td>0</td>\n",
       "      <td>1</td>\n",
       "      <td>0</td>\n",
       "      <td>0</td>\n",
       "      <td>12/31/2011 23:03</td>\n",
       "      <td>0</td>\n",
       "      <td>0</td>\n",
       "      <td>0</td>\n",
       "      <td>...</td>\n",
       "      <td>0</td>\n",
       "      <td>0</td>\n",
       "      <td>10.504</td>\n",
       "      <td>202</td>\n",
       "      <td>1</td>\n",
       "      <td>0</td>\n",
       "      <td>0</td>\n",
       "      <td>0</td>\n",
       "      <td>1</td>\n",
       "      <td>small</td>\n",
       "    </tr>\n",
       "    <tr>\n",
       "      <th>2</th>\n",
       "      <td>3</td>\n",
       "      <td>0</td>\n",
       "      <td>0</td>\n",
       "      <td>1</td>\n",
       "      <td>0</td>\n",
       "      <td>0</td>\n",
       "      <td>1/1/2012 1:09</td>\n",
       "      <td>0</td>\n",
       "      <td>0</td>\n",
       "      <td>0</td>\n",
       "      <td>...</td>\n",
       "      <td>0</td>\n",
       "      <td>0</td>\n",
       "      <td>13.256</td>\n",
       "      <td>255</td>\n",
       "      <td>1</td>\n",
       "      <td>0</td>\n",
       "      <td>0</td>\n",
       "      <td>0</td>\n",
       "      <td>48</td>\n",
       "      <td>small</td>\n",
       "    </tr>\n",
       "    <tr>\n",
       "      <th>3</th>\n",
       "      <td>4</td>\n",
       "      <td>0</td>\n",
       "      <td>0</td>\n",
       "      <td>1</td>\n",
       "      <td>0</td>\n",
       "      <td>0</td>\n",
       "      <td>1/1/2012 2:00</td>\n",
       "      <td>0</td>\n",
       "      <td>0</td>\n",
       "      <td>0</td>\n",
       "      <td>...</td>\n",
       "      <td>0</td>\n",
       "      <td>2</td>\n",
       "      <td>1.231</td>\n",
       "      <td>29</td>\n",
       "      <td>0</td>\n",
       "      <td>0</td>\n",
       "      <td>0</td>\n",
       "      <td>0</td>\n",
       "      <td>1</td>\n",
       "      <td>none</td>\n",
       "    </tr>\n",
       "    <tr>\n",
       "      <th>4</th>\n",
       "      <td>5</td>\n",
       "      <td>0</td>\n",
       "      <td>0</td>\n",
       "      <td>1</td>\n",
       "      <td>0</td>\n",
       "      <td>0</td>\n",
       "      <td>1/1/2012 2:04</td>\n",
       "      <td>0</td>\n",
       "      <td>0</td>\n",
       "      <td>0</td>\n",
       "      <td>...</td>\n",
       "      <td>0</td>\n",
       "      <td>2</td>\n",
       "      <td>1.091</td>\n",
       "      <td>25</td>\n",
       "      <td>0</td>\n",
       "      <td>0</td>\n",
       "      <td>0</td>\n",
       "      <td>0</td>\n",
       "      <td>1</td>\n",
       "      <td>none</td>\n",
       "    </tr>\n",
       "  </tbody>\n",
       "</table>\n",
       "<p>5 rows × 22 columns</p>\n",
       "</div>"
      ],
      "text/plain": [
       "   row  spam  to_multiple  from  cc  sent_email              time  image  \\\n",
       "0    1     0            0     1   0           0  12/31/2011 22:16      0   \n",
       "1    2     0            0     1   0           0  12/31/2011 23:03      0   \n",
       "2    3     0            0     1   0           0     1/1/2012 1:09      0   \n",
       "3    4     0            0     1   0           0     1/1/2012 2:00      0   \n",
       "4    5     0            0     1   0           0     1/1/2012 2:04      0   \n",
       "\n",
       "   attach  dollar  ... viagra  password  num_char  line_breaks  format  \\\n",
       "0       0       0  ...      0         0    11.370          202       1   \n",
       "1       0       0  ...      0         0    10.504          202       1   \n",
       "2       0       0  ...      0         0    13.256          255       1   \n",
       "3       0       0  ...      0         2     1.231           29       0   \n",
       "4       0       0  ...      0         2     1.091           25       0   \n",
       "\n",
       "   re_subj  exclaim_subj  urgent_subj  exclaim_mess  number  \n",
       "0        0             0            0             0     big  \n",
       "1        0             0            0             1   small  \n",
       "2        0             0            0            48   small  \n",
       "3        0             0            0             1    none  \n",
       "4        0             0            0             1    none  \n",
       "\n",
       "[5 rows x 22 columns]"
      ]
     },
     "execution_count": 4,
     "metadata": {},
     "output_type": "execute_result"
    }
   ],
   "source": [
    "emails.head()"
   ]
  },
  {
   "cell_type": "markdown",
   "metadata": {
    "id": "2HZsI8AzA44-"
   },
   "source": [
    "Everything looks good so we can now begin exploring the dataset"
   ]
  },
  {
   "cell_type": "markdown",
   "metadata": {
    "id": "tquiqlnM1EBM"
   },
   "source": [
    "#2 EDA"
   ]
  },
  {
   "cell_type": "markdown",
   "metadata": {
    "id": "vvwc7vJn7nej"
   },
   "source": [
    "The EDA section will explore the dataset to understand what emails are contained in the dataset and trends across the emails that relate to their classification as spam. Each variable will be analyzed individually and then its relationship with spam will be examined. "
   ]
  },
  {
   "cell_type": "markdown",
   "metadata": {
    "id": "PNKZ2727mxef"
   },
   "source": [
    "## 2.1 Single Varialbe EDA"
   ]
  },
  {
   "cell_type": "markdown",
   "metadata": {
    "id": "piN2RZqpIUI2"
   },
   "source": [
    "This subsection will inspect each variable in the dataset individually."
   ]
  },
  {
   "cell_type": "markdown",
   "metadata": {
    "id": "WKB-c2bYm6su"
   },
   "source": [
    "### 2.1.1 spam"
   ]
  },
  {
   "cell_type": "markdown",
   "metadata": {
    "id": "hKwWpa3KGlGJ"
   },
   "source": [
    "Definition: Spam is the target variable of this dataset. It is a binary classification determining whether or not the email is spam. "
   ]
  },
  {
   "cell_type": "code",
   "execution_count": 5,
   "metadata": {
    "colab": {
     "base_uri": "https://localhost:8080/"
    },
    "executionInfo": {
     "elapsed": 5151,
     "status": "ok",
     "timestamp": 1607486099317,
     "user": {
      "displayName": "Greg Carmean",
      "photoUrl": "",
      "userId": "03862132237162494275"
     },
     "user_tz": 300
    },
    "id": "IxnXfEUBjfVr",
    "outputId": "c022b4c3-e08d-4c67-d207-eee1d0b62372"
   },
   "outputs": [
    {
     "data": {
      "text/plain": [
       "0    0.906401\n",
       "1    0.093599\n",
       "Name: spam, dtype: float64"
      ]
     },
     "execution_count": 5,
     "metadata": {},
     "output_type": "execute_result"
    }
   ],
   "source": [
    "emails[\"spam\"].value_counts(normalize=True)"
   ]
  },
  {
   "cell_type": "markdown",
   "metadata": {
    "id": "d4b1F2lpGvCG"
   },
   "source": [
    "Only a small portion of the dataset actually represents spam emails. 90.6% of the data is legitamate emails, and 9.4% is spam. Let's plot the values up as well."
   ]
  },
  {
   "cell_type": "code",
   "execution_count": 6,
   "metadata": {
    "colab": {
     "base_uri": "https://localhost:8080/",
     "height": 355
    },
    "executionInfo": {
     "elapsed": 5334,
     "status": "ok",
     "timestamp": 1607486099539,
     "user": {
      "displayName": "Greg Carmean",
      "photoUrl": "",
      "userId": "03862132237162494275"
     },
     "user_tz": 300
    },
    "id": "xcHxViBRGnRr",
    "outputId": "ad6f5fb9-c575-4e41-cc62-a2facde428b4"
   },
   "outputs": [
    {
     "data": {
      "image/png": "[encoded data removed]",
      "text/plain": [
       "<Figure size 360x360 with 1 Axes>"
      ]
     },
     "metadata": {},
     "output_type": "display_data"
    }
   ],
   "source": [
    "counts = emails[\"spam\"].value_counts(normalize=True).sort_index()\n",
    "x = range( len( counts))\n",
    "width = 1/1.5\n",
    "\n",
    "figure = plt.figure(figsize=(5, 5))\n",
    "\n",
    "axes = figure.add_subplot(1, 1, 1)\n",
    "axes.bar(x, counts, width, color=\"dimgray\", align=\"center\")\n",
    "axes.set_xticks(x)\n",
    "axes.set_xticklabels(counts.axes[0])\n",
    "axes.set_title( \"Is the email spam?\")\n",
    "axes.set_xlabel(\"spam?\")\n",
    "axes.set_ylabel( \"Density\")\n",
    "axes.xaxis.grid(False)\n",
    "\n",
    "plt.show()\n",
    "plt.close()"
   ]
  },
  {
   "cell_type": "markdown",
   "metadata": {
    "id": "1KCrWWR96jZx"
   },
   "source": [
    "### 2.1.2 to_multiple"
   ]
  },
  {
   "cell_type": "markdown",
   "metadata": {
    "id": "1NxutoqMG0B1"
   },
   "source": [
    "The to_multiple is a categorical variable that tracks whether or not their are multiple recipients in the to field. A hallmark of spam is that is sent indiscriminantly to many people so items that have this are more likely to be spam. However, these email blast can be done without including everyones name in the to field adding uncertainity to this variables relationship to spam."
   ]
  },
  {
   "cell_type": "code",
   "execution_count": 7,
   "metadata": {
    "colab": {
     "base_uri": "https://localhost:8080/",
     "height": 111
    },
    "executionInfo": {
     "elapsed": 5289,
     "status": "ok",
     "timestamp": 1607486099548,
     "user": {
      "displayName": "Greg Carmean",
      "photoUrl": "",
      "userId": "03862132237162494275"
     },
     "user_tz": 300
    },
    "id": "pPQHn8vaGxYW",
    "outputId": "8d2225bd-b3d6-446e-b9e6-59173d34f38c"
   },
   "outputs": [
    {
     "data": {
      "text/html": [
       "<div>\n",
       "<style scoped>\n",
       "    .dataframe tbody tr th:only-of-type {\n",
       "        vertical-align: middle;\n",
       "    }\n",
       "\n",
       "    .dataframe tbody tr th {\n",
       "        vertical-align: top;\n",
       "    }\n",
       "\n",
       "    .dataframe thead th {\n",
       "        text-align: right;\n",
       "    }\n",
       "</style>\n",
       "<table border=\"1\" class=\"dataframe\">\n",
       "  <thead>\n",
       "    <tr style=\"text-align: right;\">\n",
       "      <th></th>\n",
       "      <th>to_multiple</th>\n",
       "    </tr>\n",
       "  </thead>\n",
       "  <tbody>\n",
       "    <tr>\n",
       "      <th>0</th>\n",
       "      <td>0.841877</td>\n",
       "    </tr>\n",
       "    <tr>\n",
       "      <th>1</th>\n",
       "      <td>0.158123</td>\n",
       "    </tr>\n",
       "  </tbody>\n",
       "</table>\n",
       "</div>"
      ],
      "text/plain": [
       "   to_multiple\n",
       "0     0.841877\n",
       "1     0.158123"
      ]
     },
     "execution_count": 7,
     "metadata": {},
     "output_type": "execute_result"
    }
   ],
   "source": [
    "pd.DataFrame(emails[\"to_multiple\"].value_counts(normalize = True).sort_index())"
   ]
  },
  {
   "cell_type": "markdown",
   "metadata": {
    "id": "DVizZQ7_G45Q"
   },
   "source": [
    "Most of the data in the dataset includes multiple recipients. This does not make it an indicator of spam given the low incidence of spam in the dataset, however the lack of it may be a signal.\n",
    "\n",
    "These probabilities can be visualized to get a better understanding of their relative proportions."
   ]
  },
  {
   "cell_type": "code",
   "execution_count": 8,
   "metadata": {
    "colab": {
     "base_uri": "https://localhost:8080/",
     "height": 355
    },
    "executionInfo": {
     "elapsed": 5530,
     "status": "ok",
     "timestamp": 1607486099835,
     "user": {
      "displayName": "Greg Carmean",
      "photoUrl": "",
      "userId": "03862132237162494275"
     },
     "user_tz": 300
    },
    "id": "dIG0SHSZG2pL",
    "outputId": "69fae207-11b7-4809-824a-88444fdc8d14"
   },
   "outputs": [
    {
     "data": {
      "image/png": "[encoded data removed]",
      "text/plain": [
       "<Figure size 360x360 with 1 Axes>"
      ]
     },
     "metadata": {},
     "output_type": "display_data"
    }
   ],
   "source": [
    "counts = emails[\"to_multiple\"].value_counts(normalize=True).sort_index()\n",
    "x = range( len( counts))\n",
    "width = 1/1.5\n",
    "\n",
    "figure = plt.figure(figsize=(5, 5))\n",
    "\n",
    "axes = figure.add_subplot(1, 1, 1)\n",
    "axes.bar(x, counts, width, color=\"dimgray\", align=\"center\")\n",
    "axes.set_xticks(x)\n",
    "axes.set_xticklabels(counts.axes[0])\n",
    "axes.set_title( \"Was the email sent to multiple addresses?\")\n",
    "axes.set_xlabel(\"to_multiple?\")\n",
    "axes.set_ylabel( \"Density\")\n",
    "axes.xaxis.grid(False)\n",
    "\n",
    "plt.show()\n",
    "plt.close()"
   ]
  },
  {
   "cell_type": "markdown",
   "metadata": {
    "id": "EE_0NBW-G-hB"
   },
   "source": [
    "The emails not sent to other addresses is roughly 5 times larger than those that are.\n"
   ]
  },
  {
   "cell_type": "markdown",
   "metadata": {
    "id": "USZI8M1x6xY8"
   },
   "source": [
    "### 2.1.3 from"
   ]
  },
  {
   "cell_type": "markdown",
   "metadata": {
    "id": "ZaKh_q8GHA0d"
   },
   "source": [
    "The from indicator represents whether the from variable is listed as from anyone."
   ]
  },
  {
   "cell_type": "code",
   "execution_count": 9,
   "metadata": {
    "colab": {
     "base_uri": "https://localhost:8080/",
     "height": 111
    },
    "executionInfo": {
     "elapsed": 5484,
     "status": "ok",
     "timestamp": 1607486099837,
     "user": {
      "displayName": "Greg Carmean",
      "photoUrl": "",
      "userId": "03862132237162494275"
     },
     "user_tz": 300
    },
    "id": "VTkI2wZNG7WZ",
    "outputId": "3af96662-f69a-4940-ee98-a65ed6cc072e"
   },
   "outputs": [
    {
     "data": {
      "text/html": [
       "<div>\n",
       "<style scoped>\n",
       "    .dataframe tbody tr th:only-of-type {\n",
       "        vertical-align: middle;\n",
       "    }\n",
       "\n",
       "    .dataframe tbody tr th {\n",
       "        vertical-align: top;\n",
       "    }\n",
       "\n",
       "    .dataframe thead th {\n",
       "        text-align: right;\n",
       "    }\n",
       "</style>\n",
       "<table border=\"1\" class=\"dataframe\">\n",
       "  <thead>\n",
       "    <tr style=\"text-align: right;\">\n",
       "      <th></th>\n",
       "      <th>from</th>\n",
       "    </tr>\n",
       "  </thead>\n",
       "  <tbody>\n",
       "    <tr>\n",
       "      <th>0</th>\n",
       "      <td>0.000765</td>\n",
       "    </tr>\n",
       "    <tr>\n",
       "      <th>1</th>\n",
       "      <td>0.999235</td>\n",
       "    </tr>\n",
       "  </tbody>\n",
       "</table>\n",
       "</div>"
      ],
      "text/plain": [
       "       from\n",
       "0  0.000765\n",
       "1  0.999235"
      ]
     },
     "execution_count": 9,
     "metadata": {},
     "output_type": "execute_result"
    }
   ],
   "source": [
    "pd.DataFrame(emails[\"from\"].value_counts(normalize = True).sort_index())"
   ]
  },
  {
   "cell_type": "markdown",
   "metadata": {
    "id": "94ubr0K_HFyq"
   },
   "source": [
    "The vast majority of emails in the dataset have the from tab filled in. Its worth looking at the raw numbers to see how many don't with that small a percentage.\n",
    "\n",
    "Here are the raw numbers for the from tab\n"
   ]
  },
  {
   "cell_type": "code",
   "execution_count": 10,
   "metadata": {
    "colab": {
     "base_uri": "https://localhost:8080/",
     "height": 111
    },
    "executionInfo": {
     "elapsed": 5442,
     "status": "ok",
     "timestamp": 1607486099839,
     "user": {
      "displayName": "Greg Carmean",
      "photoUrl": "",
      "userId": "03862132237162494275"
     },
     "user_tz": 300
    },
    "id": "6b0ZqO-4HDom",
    "outputId": "4ca3c92b-ca86-4c8f-91bf-12bfb716c22d"
   },
   "outputs": [
    {
     "data": {
      "text/html": [
       "<div>\n",
       "<style scoped>\n",
       "    .dataframe tbody tr th:only-of-type {\n",
       "        vertical-align: middle;\n",
       "    }\n",
       "\n",
       "    .dataframe tbody tr th {\n",
       "        vertical-align: top;\n",
       "    }\n",
       "\n",
       "    .dataframe thead th {\n",
       "        text-align: right;\n",
       "    }\n",
       "</style>\n",
       "<table border=\"1\" class=\"dataframe\">\n",
       "  <thead>\n",
       "    <tr style=\"text-align: right;\">\n",
       "      <th></th>\n",
       "      <th>from</th>\n",
       "    </tr>\n",
       "  </thead>\n",
       "  <tbody>\n",
       "    <tr>\n",
       "      <th>0</th>\n",
       "      <td>3</td>\n",
       "    </tr>\n",
       "    <tr>\n",
       "      <th>1</th>\n",
       "      <td>3918</td>\n",
       "    </tr>\n",
       "  </tbody>\n",
       "</table>\n",
       "</div>"
      ],
      "text/plain": [
       "   from\n",
       "0     3\n",
       "1  3918"
      ]
     },
     "execution_count": 10,
     "metadata": {},
     "output_type": "execute_result"
    }
   ],
   "source": [
    "pd.DataFrame(emails[\"from\"].value_counts().sort_index())"
   ]
  },
  {
   "cell_type": "markdown",
   "metadata": {
    "id": "SoFmGuFgHK-e"
   },
   "source": [
    "Only 3 emails in the entire dataset don't have an entry in the from tab. These entries should be tabbed for further review as possible outliers.\n",
    "\n",
    "Here are the three entries not listed as from anyone\n"
   ]
  },
  {
   "cell_type": "code",
   "execution_count": 11,
   "metadata": {
    "colab": {
     "base_uri": "https://localhost:8080/",
     "height": 213
    },
    "executionInfo": {
     "elapsed": 5407,
     "status": "ok",
     "timestamp": 1607486099841,
     "user": {
      "displayName": "Greg Carmean",
      "photoUrl": "",
      "userId": "03862132237162494275"
     },
     "user_tz": 300
    },
    "id": "7MqGsNpvHIoV",
    "outputId": "e115a4c6-779d-41f7-d3ed-31ec7867dc1f"
   },
   "outputs": [
    {
     "data": {
      "text/html": [
       "<div>\n",
       "<style scoped>\n",
       "    .dataframe tbody tr th:only-of-type {\n",
       "        vertical-align: middle;\n",
       "    }\n",
       "\n",
       "    .dataframe tbody tr th {\n",
       "        vertical-align: top;\n",
       "    }\n",
       "\n",
       "    .dataframe thead th {\n",
       "        text-align: right;\n",
       "    }\n",
       "</style>\n",
       "<table border=\"1\" class=\"dataframe\">\n",
       "  <thead>\n",
       "    <tr style=\"text-align: right;\">\n",
       "      <th></th>\n",
       "      <th>row</th>\n",
       "      <th>spam</th>\n",
       "      <th>to_multiple</th>\n",
       "      <th>from</th>\n",
       "      <th>cc</th>\n",
       "      <th>sent_email</th>\n",
       "      <th>time</th>\n",
       "      <th>image</th>\n",
       "      <th>attach</th>\n",
       "      <th>dollar</th>\n",
       "      <th>...</th>\n",
       "      <th>viagra</th>\n",
       "      <th>password</th>\n",
       "      <th>num_char</th>\n",
       "      <th>line_breaks</th>\n",
       "      <th>format</th>\n",
       "      <th>re_subj</th>\n",
       "      <th>exclaim_subj</th>\n",
       "      <th>urgent_subj</th>\n",
       "      <th>exclaim_mess</th>\n",
       "      <th>number</th>\n",
       "    </tr>\n",
       "  </thead>\n",
       "  <tbody>\n",
       "    <tr>\n",
       "      <th>153</th>\n",
       "      <td>154</td>\n",
       "      <td>1</td>\n",
       "      <td>0</td>\n",
       "      <td>0</td>\n",
       "      <td>0</td>\n",
       "      <td>0</td>\n",
       "      <td>1/4/2012 15:19</td>\n",
       "      <td>0</td>\n",
       "      <td>0</td>\n",
       "      <td>0</td>\n",
       "      <td>...</td>\n",
       "      <td>0</td>\n",
       "      <td>0</td>\n",
       "      <td>3.543</td>\n",
       "      <td>21</td>\n",
       "      <td>1</td>\n",
       "      <td>0</td>\n",
       "      <td>0</td>\n",
       "      <td>0</td>\n",
       "      <td>1</td>\n",
       "      <td>small</td>\n",
       "    </tr>\n",
       "    <tr>\n",
       "      <th>1008</th>\n",
       "      <td>1009</td>\n",
       "      <td>1</td>\n",
       "      <td>0</td>\n",
       "      <td>0</td>\n",
       "      <td>0</td>\n",
       "      <td>0</td>\n",
       "      <td>1/25/2012 13:20</td>\n",
       "      <td>0</td>\n",
       "      <td>0</td>\n",
       "      <td>2</td>\n",
       "      <td>...</td>\n",
       "      <td>0</td>\n",
       "      <td>0</td>\n",
       "      <td>1.296</td>\n",
       "      <td>37</td>\n",
       "      <td>0</td>\n",
       "      <td>0</td>\n",
       "      <td>0</td>\n",
       "      <td>0</td>\n",
       "      <td>0</td>\n",
       "      <td>big</td>\n",
       "    </tr>\n",
       "    <tr>\n",
       "      <th>1009</th>\n",
       "      <td>1010</td>\n",
       "      <td>1</td>\n",
       "      <td>0</td>\n",
       "      <td>0</td>\n",
       "      <td>0</td>\n",
       "      <td>0</td>\n",
       "      <td>1/25/2012 13:23</td>\n",
       "      <td>0</td>\n",
       "      <td>0</td>\n",
       "      <td>2</td>\n",
       "      <td>...</td>\n",
       "      <td>0</td>\n",
       "      <td>0</td>\n",
       "      <td>1.296</td>\n",
       "      <td>37</td>\n",
       "      <td>0</td>\n",
       "      <td>0</td>\n",
       "      <td>0</td>\n",
       "      <td>0</td>\n",
       "      <td>0</td>\n",
       "      <td>big</td>\n",
       "    </tr>\n",
       "  </tbody>\n",
       "</table>\n",
       "<p>3 rows × 22 columns</p>\n",
       "</div>"
      ],
      "text/plain": [
       "       row  spam  to_multiple  from  cc  sent_email             time  image  \\\n",
       "153    154     1            0     0   0           0   1/4/2012 15:19      0   \n",
       "1008  1009     1            0     0   0           0  1/25/2012 13:20      0   \n",
       "1009  1010     1            0     0   0           0  1/25/2012 13:23      0   \n",
       "\n",
       "      attach  dollar  ... viagra  password  num_char  line_breaks  format  \\\n",
       "153        0       0  ...      0         0     3.543           21       1   \n",
       "1008       0       2  ...      0         0     1.296           37       0   \n",
       "1009       0       2  ...      0         0     1.296           37       0   \n",
       "\n",
       "      re_subj  exclaim_subj  urgent_subj  exclaim_mess  number  \n",
       "153         0             0            0             1   small  \n",
       "1008        0             0            0             0     big  \n",
       "1009        0             0            0             0     big  \n",
       "\n",
       "[3 rows x 22 columns]"
      ]
     },
     "execution_count": 11,
     "metadata": {},
     "output_type": "execute_result"
    }
   ],
   "source": [
    "emails[emails[\"from\"] == 0]"
   ]
  },
  {
   "cell_type": "markdown",
   "metadata": {
    "id": "j2bWqJP1HRmE"
   },
   "source": [
    "All of these 3 emails are classified as spam and do not otherwise stand out as outliers or misentered data. Therefore the entries will be kept and analyzed as part of the dataset."
   ]
  },
  {
   "cell_type": "markdown",
   "metadata": {
    "id": "9y61ibFM7Yek"
   },
   "source": [
    "### 2.1.4 cc"
   ]
  },
  {
   "cell_type": "markdown",
   "metadata": {
    "id": "WlEAWuu9HVm8"
   },
   "source": [
    "The cc variable is an integer numeric variable, and denotes how many people were cc'd on the email. It's possible that having a high number of people cc'd on the email could be a good indicator for spam."
   ]
  },
  {
   "cell_type": "code",
   "execution_count": 12,
   "metadata": {
    "colab": {
     "base_uri": "https://localhost:8080/"
    },
    "executionInfo": {
     "elapsed": 5377,
     "status": "ok",
     "timestamp": 1607486099842,
     "user": {
      "displayName": "Greg Carmean",
      "photoUrl": "",
      "userId": "03862132237162494275"
     },
     "user_tz": 300
    },
    "id": "zur78AAEHOJU",
    "outputId": "b2eae1ac-f4e6-492a-d2d4-6b6ec7bf2a5a"
   },
   "outputs": [
    {
     "data": {
      "text/plain": [
       "0     3436\n",
       "1      278\n",
       "2       80\n",
       "3       41\n",
       "4       33\n",
       "5        7\n",
       "6        9\n",
       "7        8\n",
       "8        2\n",
       "9        2\n",
       "12       1\n",
       "13       1\n",
       "15       3\n",
       "16       3\n",
       "18       1\n",
       "19       1\n",
       "21       1\n",
       "23       1\n",
       "25       1\n",
       "31       2\n",
       "33       1\n",
       "35       5\n",
       "38       1\n",
       "50       1\n",
       "64       1\n",
       "68       1\n",
       "Name: cc, dtype: int64"
      ]
     },
     "execution_count": 12,
     "metadata": {},
     "output_type": "execute_result"
    }
   ],
   "source": [
    "emails[\"cc\"].value_counts(normalize=False).sort_index()"
   ]
  },
  {
   "cell_type": "markdown",
   "metadata": {
    "id": "fIUCj1d5HbXO"
   },
   "source": [
    "Here we see that having no one cc'd is by far the most common instance, occuring 87.6% of the time. Having 1-4 people cc'd on the email also happens sometimes but scarcely. Numbers above this are rare and appear sporadically in the set. Let's plot them up."
   ]
  },
  {
   "cell_type": "code",
   "execution_count": 13,
   "metadata": {
    "colab": {
     "base_uri": "https://localhost:8080/"
    },
    "executionInfo": {
     "elapsed": 5351,
     "status": "ok",
     "timestamp": 1607486099844,
     "user": {
      "displayName": "Greg Carmean",
      "photoUrl": "",
      "userId": "03862132237162494275"
     },
     "user_tz": 300
    },
    "id": "-Tq0YtP0HYbS",
    "outputId": "058122c7-93f4-41b6-818f-30504d397a5d"
   },
   "outputs": [
    {
     "data": {
      "text/plain": [
       "count    3921.000000\n",
       "mean        0.404489\n",
       "std         2.666424\n",
       "min         0.000000\n",
       "25%         0.000000\n",
       "50%         0.000000\n",
       "75%         0.000000\n",
       "max        68.000000\n",
       "Name: cc, dtype: float64"
      ]
     },
     "execution_count": 13,
     "metadata": {},
     "output_type": "execute_result"
    }
   ],
   "source": [
    "emails[\"cc\"].describe()"
   ]
  },
  {
   "cell_type": "code",
   "execution_count": 14,
   "metadata": {
    "colab": {
     "base_uri": "https://localhost:8080/",
     "height": 355
    },
    "executionInfo": {
     "elapsed": 5896,
     "status": "ok",
     "timestamp": 1607486100422,
     "user": {
      "displayName": "Greg Carmean",
      "photoUrl": "",
      "userId": "03862132237162494275"
     },
     "user_tz": 300
    },
    "id": "l1te-mWOHeCN",
    "outputId": "1a08c8a1-dcef-43ca-ab63-a27a23bb34aa"
   },
   "outputs": [
    {
     "data": {
      "image/png": "[encoded data removed]",
      "text/plain": [
       "<Figure size 720x360 with 1 Axes>"
      ]
     },
     "metadata": {},
     "output_type": "display_data"
    }
   ],
   "source": [
    "counts = emails[\"cc\"].value_counts(normalize=True).sort_index()\n",
    "x = range( len( counts))\n",
    "width = 1/1.5\n",
    "\n",
    "figure = plt.figure(figsize=(10, 5))\n",
    "\n",
    "axes = figure.add_subplot(1, 1, 1)\n",
    "axes.bar(x, counts, width, color=\"dimgray\", align=\"center\")\n",
    "axes.set_xticks(x)\n",
    "axes.set_xticklabels(counts.axes[0])\n",
    "axes.set_title( \"How many cc'd on email?\")\n",
    "axes.set_xlabel(\"Number cc'd\")\n",
    "axes.set_ylabel( \"Density\")\n",
    "axes.xaxis.grid(False)\n",
    "\n",
    "plt.show()\n",
    "plt.close()"
   ]
  },
  {
   "cell_type": "markdown",
   "metadata": {
    "id": "xT-IwpwiHjV3"
   },
   "source": [
    "The distribution on cc looks to be approximately exponential."
   ]
  },
  {
   "cell_type": "markdown",
   "metadata": {
    "id": "xJya0_AW7WLS"
   },
   "source": [
    "### 2.1.5 sent_email"
   ]
  },
  {
   "cell_type": "markdown",
   "metadata": {
    "id": "yjYPitVkHpfA"
   },
   "source": [
    "sent_email is a binary categorical attribute, and determines if another email was received from the sender 30 days prior to the email in question. This is probably going to be a decent indicator of the email being spam."
   ]
  },
  {
   "cell_type": "code",
   "execution_count": 15,
   "metadata": {
    "colab": {
     "base_uri": "https://localhost:8080/"
    },
    "executionInfo": {
     "elapsed": 5867,
     "status": "ok",
     "timestamp": 1607486100425,
     "user": {
      "displayName": "Greg Carmean",
      "photoUrl": "",
      "userId": "03862132237162494275"
     },
     "user_tz": 300
    },
    "id": "w3_6HcFmHgV0",
    "outputId": "a27a6698-3a81-49b1-938a-6a75aafb36f8"
   },
   "outputs": [
    {
     "data": {
      "text/plain": [
       "0    0.72201\n",
       "1    0.27799\n",
       "Name: sent_email, dtype: float64"
      ]
     },
     "execution_count": 15,
     "metadata": {},
     "output_type": "execute_result"
    }
   ],
   "source": [
    "emails[\"sent_email\"].value_counts(normalize=True)"
   ]
  },
  {
   "cell_type": "markdown",
   "metadata": {
    "id": "i4QOGia_Hu_r"
   },
   "source": [
    "Here we see that it is most often the case (72.2%) that they have received 0 other emails from the sender during that duration. That number seems pretty high from personal experience."
   ]
  },
  {
   "cell_type": "code",
   "execution_count": 16,
   "metadata": {
    "colab": {
     "base_uri": "https://localhost:8080/",
     "height": 355
    },
    "executionInfo": {
     "elapsed": 6062,
     "status": "ok",
     "timestamp": 1607486100658,
     "user": {
      "displayName": "Greg Carmean",
      "photoUrl": "",
      "userId": "03862132237162494275"
     },
     "user_tz": 300
    },
    "id": "IQtZ3O8qHslr",
    "outputId": "0b473b84-07f1-4601-9b88-2dd5721e6ce1"
   },
   "outputs": [
    {
     "data": {
      "image/png": "[encoded data removed]",
      "text/plain": [
       "<Figure size 720x360 with 1 Axes>"
      ]
     },
     "metadata": {},
     "output_type": "display_data"
    }
   ],
   "source": [
    "counts = emails[\"sent_email\"].value_counts(normalize=True).sort_index()\n",
    "x = range( len( counts))\n",
    "width = 1/1.5\n",
    "\n",
    "figure = plt.figure(figsize=(10, 5))\n",
    "\n",
    "axes = figure.add_subplot(1, 1, 1)\n",
    "axes.bar(x, counts, width, color=\"dimgray\", align=\"center\")\n",
    "axes.set_xticks(x)\n",
    "axes.set_xticklabels(counts.axes[0])\n",
    "axes.set_title( \"Multiple emails in last 30 days?\")\n",
    "axes.set_xlabel(\"Multiple emails?\")\n",
    "axes.set_ylabel( \"Density\")\n",
    "axes.xaxis.grid(False)\n",
    "\n",
    "plt.show()\n",
    "plt.close()"
   ]
  },
  {
   "cell_type": "markdown",
   "metadata": {
    "id": "Nv365WiDH1Zz"
   },
   "source": [
    "The proportion of accounts that have vs have not sent emails in the last 30 days is about 2:1.\n"
   ]
  },
  {
   "cell_type": "markdown",
   "metadata": {
    "id": "piQJ6Gs-79cn"
   },
   "source": [
    "### 2.1.6 time"
   ]
  },
  {
   "cell_type": "markdown",
   "metadata": {
    "id": "tzJyHoWMH49k"
   },
   "source": [
    "Time tracks the exact time in datetime64 format that the email was received. While each time is unique, trends may be extracted from the day of the week or month and time of day the email was received to determine whether or not it is spam. \n",
    "\n",
    "For example:  If emails are coming in at 2AM, they are probably automated. "
   ]
  },
  {
   "cell_type": "code",
   "execution_count": 17,
   "metadata": {
    "colab": {
     "base_uri": "https://localhost:8080/",
     "height": 173
    },
    "executionInfo": {
     "elapsed": 5970,
     "status": "ok",
     "timestamp": 1607486100659,
     "user": {
      "displayName": "Greg Carmean",
      "photoUrl": "",
      "userId": "03862132237162494275"
     },
     "user_tz": 300
    },
    "id": "NYA35moBHxpo",
    "outputId": "29e442d0-0fdc-4c2d-8055-ef587f18af99"
   },
   "outputs": [
    {
     "data": {
      "text/html": [
       "<div>\n",
       "<style scoped>\n",
       "    .dataframe tbody tr th:only-of-type {\n",
       "        vertical-align: middle;\n",
       "    }\n",
       "\n",
       "    .dataframe tbody tr th {\n",
       "        vertical-align: top;\n",
       "    }\n",
       "\n",
       "    .dataframe thead th {\n",
       "        text-align: right;\n",
       "    }\n",
       "</style>\n",
       "<table border=\"1\" class=\"dataframe\">\n",
       "  <thead>\n",
       "    <tr style=\"text-align: right;\">\n",
       "      <th></th>\n",
       "      <th>time</th>\n",
       "    </tr>\n",
       "  </thead>\n",
       "  <tbody>\n",
       "    <tr>\n",
       "      <th>count</th>\n",
       "      <td>3921</td>\n",
       "    </tr>\n",
       "    <tr>\n",
       "      <th>unique</th>\n",
       "      <td>3698</td>\n",
       "    </tr>\n",
       "    <tr>\n",
       "      <th>top</th>\n",
       "      <td>3/3/2012 14:40</td>\n",
       "    </tr>\n",
       "    <tr>\n",
       "      <th>freq</th>\n",
       "      <td>5</td>\n",
       "    </tr>\n",
       "  </tbody>\n",
       "</table>\n",
       "</div>"
      ],
      "text/plain": [
       "                  time\n",
       "count             3921\n",
       "unique            3698\n",
       "top     3/3/2012 14:40\n",
       "freq                 5"
      ]
     },
     "execution_count": 17,
     "metadata": {},
     "output_type": "execute_result"
    }
   ],
   "source": [
    "pd.DataFrame(emails[ \"time\"].describe(datetime_is_numeric=True))"
   ]
  },
  {
   "cell_type": "markdown",
   "metadata": {
    "id": "3ZQOFVX2H-K7"
   },
   "source": [
    "The description tells us that the distribution of emails is fairly evenly spread across time throughout this dataset. The dataset stretchs from december 31st 2011 to march 31 2012 with a mean and median around Feb 15th.\n",
    "\n",
    "Unique date-times will not be a useful detector of what is and what is not spam as these time will never appear again. However, the date-time data can be segmented into useful information. The day of the week, the day of the month, and the time of the day are all cycles in the data that could be related to whether or not an email is spam. These categories will be extracted from the starting time variable, starting with the time of day. Time of day will be a numeric variable.\n"
   ]
  },
  {
   "cell_type": "code",
   "execution_count": 18,
   "metadata": {
    "id": "IUlFRaAnIEXb"
   },
   "outputs": [],
   "source": [
    "emails['timestamp'] = emails[ \"time\"]\n",
    "for email in range(0,emails.shape[0]):\n",
    "    emails.loc[email,'timestamp'] = pd.Timestamp(emails.loc[email,'time'])"
   ]
  },
  {
   "cell_type": "markdown",
   "metadata": {
    "id": "oVoqEoYEIGvL"
   },
   "source": [
    "Converting to a timestamp makes it easy to extract the different categories of interest.\n",
    "\n",
    "First lets get the days of the week each of the emails are sent\n"
   ]
  },
  {
   "cell_type": "code",
   "execution_count": 19,
   "metadata": {
    "colab": {
     "base_uri": "https://localhost:8080/",
     "height": 173
    },
    "executionInfo": {
     "elapsed": 9800,
     "status": "ok",
     "timestamp": 1607486104540,
     "user": {
      "displayName": "Greg Carmean",
      "photoUrl": "",
      "userId": "03862132237162494275"
     },
     "user_tz": 300
    },
    "id": "7oV-rXG7IE7v",
    "outputId": "3e854419-ed23-4b18-be83-a7c95bb6047d"
   },
   "outputs": [
    {
     "data": {
      "text/html": [
       "<div>\n",
       "<style scoped>\n",
       "    .dataframe tbody tr th:only-of-type {\n",
       "        vertical-align: middle;\n",
       "    }\n",
       "\n",
       "    .dataframe tbody tr th {\n",
       "        vertical-align: top;\n",
       "    }\n",
       "\n",
       "    .dataframe thead th {\n",
       "        text-align: right;\n",
       "    }\n",
       "</style>\n",
       "<table border=\"1\" class=\"dataframe\">\n",
       "  <thead>\n",
       "    <tr style=\"text-align: right;\">\n",
       "      <th></th>\n",
       "      <th>day_of_week</th>\n",
       "    </tr>\n",
       "  </thead>\n",
       "  <tbody>\n",
       "    <tr>\n",
       "      <th>count</th>\n",
       "      <td>3921</td>\n",
       "    </tr>\n",
       "    <tr>\n",
       "      <th>unique</th>\n",
       "      <td>7</td>\n",
       "    </tr>\n",
       "    <tr>\n",
       "      <th>top</th>\n",
       "      <td>2</td>\n",
       "    </tr>\n",
       "    <tr>\n",
       "      <th>freq</th>\n",
       "      <td>742</td>\n",
       "    </tr>\n",
       "  </tbody>\n",
       "</table>\n",
       "</div>"
      ],
      "text/plain": [
       "        day_of_week\n",
       "count          3921\n",
       "unique            7\n",
       "top               2\n",
       "freq            742"
      ]
     },
     "execution_count": 19,
     "metadata": {},
     "output_type": "execute_result"
    }
   ],
   "source": [
    "emails['day_of_week'] = emails[ \"time\"]\n",
    "for email in range(0,emails.shape[0]):\n",
    "    emails.loc[email,'day_of_week'] = emails.loc[email,'timestamp'].dayofweek \n",
    "pd.DataFrame(emails[ \"day_of_week\"].describe())"
   ]
  },
  {
   "cell_type": "markdown",
   "metadata": {
    "id": "tb4U177JIg-x"
   },
   "source": [
    "The day of the week is a categorical variable from 1-7, where 1 represents Monday, 2 represents Tuesday and so on. The most emails were received on Tuesday\n",
    "\n",
    "Lets look at the distribution of the days of the week when emails were received.\n"
   ]
  },
  {
   "cell_type": "code",
   "execution_count": 20,
   "metadata": {
    "colab": {
     "base_uri": "https://localhost:8080/",
     "height": 373
    },
    "executionInfo": {
     "elapsed": 10054,
     "status": "ok",
     "timestamp": 1607486104839,
     "user": {
      "displayName": "Greg Carmean",
      "photoUrl": "",
      "userId": "03862132237162494275"
     },
     "user_tz": 300
    },
    "id": "U9AYo855IKcT",
    "outputId": "69b72f84-e556-4fc0-c7b9-f7a7206f25bd"
   },
   "outputs": [
    {
     "data": {
      "image/png": "[encoded data removed]",
      "text/plain": [
       "<Figure size 1440x432 with 1 Axes>"
      ]
     },
     "metadata": {},
     "output_type": "display_data"
    }
   ],
   "source": [
    "weekdays = emails[\"day_of_week\"].value_counts(normalize=True).sort_index()\n",
    "x = range( len(weekdays))\n",
    "width = 1/1.5\n",
    "\n",
    "figure = plt.figure(figsize=(20, 6))\n",
    "\n",
    "axes = figure.add_subplot(1, 1, 1)\n",
    "axes.bar(x, weekdays, width, color=\"dimgray\", align=\"center\")\n",
    "axes.set_xticks([0, 1,2,3,4,5,6])\n",
    "axes.set_xticklabels([\"Mon.\",\"Tue.\",\"Wed\",\"Thu\",\"Fri\",\"Sat\",\"Sun\"])\n",
    "axes.set_title( \"Days of the Week when emails receieved\")\n",
    "axes.set_ylabel( \"Percent\")\n",
    "axes.set_xlabel( \"Weekdays\")\n",
    "axes.xaxis.grid(False)"
   ]
  },
  {
   "cell_type": "markdown",
   "metadata": {
    "id": "Gb6l8oRWImPb"
   },
   "source": [
    "There are a larger proportions of emails recieved during the work week than on weekend days. Emails peak in the middle of the workweek, which is likely due to the impact of work as well.\n",
    "\n",
    "Another interesting property that can be extracted from time is at what hour an email arrives. While we have data down to the nanosecond, that is too noisy for the current problem, whether or not an email is spam. However, the hour an email arrives may shed contain some signal, as real people are likely to send emails during regular hours and automated spam arrives at all hours\n"
   ]
  },
  {
   "cell_type": "code",
   "execution_count": 21,
   "metadata": {
    "colab": {
     "base_uri": "https://localhost:8080/",
     "height": 173
    },
    "executionInfo": {
     "elapsed": 11405,
     "status": "ok",
     "timestamp": 1607486106223,
     "user": {
      "displayName": "Greg Carmean",
      "photoUrl": "",
      "userId": "03862132237162494275"
     },
     "user_tz": 300
    },
    "id": "FyG4thm1IjXO",
    "outputId": "c0cfe8a6-d555-486a-f489-fd7d65ca2469"
   },
   "outputs": [
    {
     "data": {
      "text/html": [
       "<div>\n",
       "<style scoped>\n",
       "    .dataframe tbody tr th:only-of-type {\n",
       "        vertical-align: middle;\n",
       "    }\n",
       "\n",
       "    .dataframe tbody tr th {\n",
       "        vertical-align: top;\n",
       "    }\n",
       "\n",
       "    .dataframe thead th {\n",
       "        text-align: right;\n",
       "    }\n",
       "</style>\n",
       "<table border=\"1\" class=\"dataframe\">\n",
       "  <thead>\n",
       "    <tr style=\"text-align: right;\">\n",
       "      <th></th>\n",
       "      <th>hour</th>\n",
       "    </tr>\n",
       "  </thead>\n",
       "  <tbody>\n",
       "    <tr>\n",
       "      <th>count</th>\n",
       "      <td>3921</td>\n",
       "    </tr>\n",
       "    <tr>\n",
       "      <th>unique</th>\n",
       "      <td>24</td>\n",
       "    </tr>\n",
       "    <tr>\n",
       "      <th>top</th>\n",
       "      <td>8</td>\n",
       "    </tr>\n",
       "    <tr>\n",
       "      <th>freq</th>\n",
       "      <td>327</td>\n",
       "    </tr>\n",
       "  </tbody>\n",
       "</table>\n",
       "</div>"
      ],
      "text/plain": [
       "        hour\n",
       "count   3921\n",
       "unique    24\n",
       "top        8\n",
       "freq     327"
      ]
     },
     "execution_count": 21,
     "metadata": {},
     "output_type": "execute_result"
    }
   ],
   "source": [
    "emails['hour'] = emails[ \"time\"]\n",
    "for email in range(0,emails.shape[0]):\n",
    "    emails.loc[email,'hour'] = emails.loc[email,'timestamp'].hour \n",
    "pd.DataFrame(emails[ \"hour\"].describe())"
   ]
  },
  {
   "cell_type": "markdown",
   "metadata": {
    "id": "0vN1XVoTIrhN"
   },
   "source": [
    "The most emails are received at the 8am hour, or the start of the workday. This tracks with most emails being related to work.\n",
    "\n",
    "The visualization of the distribution of emails by hour is shown below\n"
   ]
  },
  {
   "cell_type": "code",
   "execution_count": 22,
   "metadata": {
    "colab": {
     "base_uri": "https://localhost:8080/",
     "height": 410
    },
    "executionInfo": {
     "elapsed": 11659,
     "status": "ok",
     "timestamp": 1607486106511,
     "user": {
      "displayName": "Greg Carmean",
      "photoUrl": "",
      "userId": "03862132237162494275"
     },
     "user_tz": 300
    },
    "id": "iTgx1msvIpL6",
    "outputId": "9c54d22f-71a7-490f-ae25-35177a3066ab"
   },
   "outputs": [
    {
     "data": {
      "image/png": "[encoded data removed]",
      "text/plain": [
       "<Figure size 720x432 with 1 Axes>"
      ]
     },
     "metadata": {},
     "output_type": "display_data"
    }
   ],
   "source": [
    "figure = plt.figure(figsize=(10, 6))\n",
    "\n",
    "bins = [ i for i in range(1, 24, 1)]\n",
    "axes = figure.add_subplot(1, 1, 1)\n",
    "axes.hist( emails[ \"hour\"], bins = bins, color=\"DimGray\")\n",
    "axes.set_ylabel( \"Count\")\n",
    "axes.set_xlabel( \"Hour\")\n",
    "axes.set_title(\"Count Histogram of Hours\")\n",
    "\n",
    "plt.show()\n",
    "plt.close()"
   ]
  },
  {
   "cell_type": "markdown",
   "metadata": {
    "id": "5lsA5b8C8Dpc"
   },
   "source": [
    "### 2.1.7 image"
   ]
  },
  {
   "cell_type": "markdown",
   "metadata": {
    "id": "zc01Slu8IxK5"
   },
   "source": [
    "The image attribute is a discrete numeric variable that denotes how many images are contained in the email. Most spam that we've encountered contains some kind of visual flare, so we would expect this to be a good indicator."
   ]
  },
  {
   "cell_type": "code",
   "execution_count": 23,
   "metadata": {
    "colab": {
     "base_uri": "https://localhost:8080/"
    },
    "executionInfo": {
     "elapsed": 11636,
     "status": "ok",
     "timestamp": 1607486106516,
     "user": {
      "displayName": "Greg Carmean",
      "photoUrl": "",
      "userId": "03862132237162494275"
     },
     "user_tz": 300
    },
    "id": "80Mmgvd9IuyT",
    "outputId": "30926069-725f-4a40-e8d8-92441df00331"
   },
   "outputs": [
    {
     "data": {
      "text/plain": [
       "0     0.971946\n",
       "1     0.019383\n",
       "2     0.004336\n",
       "3     0.002805\n",
       "5     0.000510\n",
       "4     0.000510\n",
       "9     0.000255\n",
       "20    0.000255\n",
       "Name: image, dtype: float64"
      ]
     },
     "execution_count": 23,
     "metadata": {},
     "output_type": "execute_result"
    }
   ],
   "source": [
    "emails[\"image\"].value_counts(normalize=True)"
   ]
  },
  {
   "cell_type": "markdown",
   "metadata": {
    "id": "LTFIoW8wI9aG"
   },
   "source": [
    "So we see overwelmingly that most emails contain no images (97.2%), but there are instances of emails containing 9 and even 20 images!"
   ]
  },
  {
   "cell_type": "code",
   "execution_count": 24,
   "metadata": {
    "colab": {
     "base_uri": "https://localhost:8080/",
     "height": 355
    },
    "executionInfo": {
     "elapsed": 12087,
     "status": "ok",
     "timestamp": 1607486106999,
     "user": {
      "displayName": "Greg Carmean",
      "photoUrl": "",
      "userId": "03862132237162494275"
     },
     "user_tz": 300
    },
    "id": "fhuT6uE7I7us",
    "outputId": "494f5d90-8f0a-4d57-9b00-ee71ce45ad29"
   },
   "outputs": [
    {
     "data": {
      "image/png": "[encoded data removed]",
      "text/plain": [
       "<Figure size 720x360 with 1 Axes>"
      ]
     },
     "metadata": {},
     "output_type": "display_data"
    }
   ],
   "source": [
    "counts = emails[\"image\"].value_counts(normalize=True).sort_index()\n",
    "x = range( len( counts))\n",
    "width = 1/1.5\n",
    "\n",
    "figure = plt.figure(figsize=(10, 5))\n",
    "\n",
    "axes = figure.add_subplot(1, 1, 1)\n",
    "axes.bar(x, counts, width, color=\"dimgray\", align=\"center\")\n",
    "axes.set_xticks(x)\n",
    "axes.set_xticklabels(counts.axes[0])\n",
    "axes.set_title( \"Does the email contain images?\")\n",
    "axes.set_xlabel(\"images?\")\n",
    "axes.set_ylabel( \"Density\")\n",
    "axes.xaxis.grid(False)\n",
    "\n",
    "plt.show()\n",
    "plt.close()"
   ]
  },
  {
   "cell_type": "markdown",
   "metadata": {
    "id": "GuxxwlMrJEIA"
   },
   "source": [
    "When dealing with this variable we might consider creating a new attribute has_images which is just a binary categorical."
   ]
  },
  {
   "cell_type": "code",
   "execution_count": 25,
   "metadata": {
    "id": "KRDc0X_BJBDi"
   },
   "outputs": [],
   "source": [
    "emails[\"has_image\"] = emails[\"image\"].apply(lambda x: 1 if x > 0 else 0)"
   ]
  },
  {
   "cell_type": "markdown",
   "metadata": {
    "id": "DGfy9cpY8JIi"
   },
   "source": [
    "### 2.1.8 attach"
   ]
  },
  {
   "cell_type": "markdown",
   "metadata": {
    "id": "dI3Z_eglJIr5"
   },
   "source": [
    "This variable describes the number of attached files on the email. I'm not sure if we should expect spam emails to have attachment or not. If were were looking for viruses then we would, but spam doesn't necesarrily have them\n"
   ]
  },
  {
   "cell_type": "code",
   "execution_count": 26,
   "metadata": {
    "colab": {
     "base_uri": "https://localhost:8080/",
     "height": 297
    },
    "executionInfo": {
     "elapsed": 12056,
     "status": "ok",
     "timestamp": 1607486107006,
     "user": {
      "displayName": "Greg Carmean",
      "photoUrl": "",
      "userId": "03862132237162494275"
     },
     "user_tz": 300
    },
    "id": "9aLxP2iAJGU1",
    "outputId": "5bb44a9b-4e9d-4823-bcb9-725b91771a1d"
   },
   "outputs": [
    {
     "data": {
      "text/html": [
       "<div>\n",
       "<style scoped>\n",
       "    .dataframe tbody tr th:only-of-type {\n",
       "        vertical-align: middle;\n",
       "    }\n",
       "\n",
       "    .dataframe tbody tr th {\n",
       "        vertical-align: top;\n",
       "    }\n",
       "\n",
       "    .dataframe thead th {\n",
       "        text-align: right;\n",
       "    }\n",
       "</style>\n",
       "<table border=\"1\" class=\"dataframe\">\n",
       "  <thead>\n",
       "    <tr style=\"text-align: right;\">\n",
       "      <th></th>\n",
       "      <th>attach</th>\n",
       "    </tr>\n",
       "  </thead>\n",
       "  <tbody>\n",
       "    <tr>\n",
       "      <th>count</th>\n",
       "      <td>3921.000000</td>\n",
       "    </tr>\n",
       "    <tr>\n",
       "      <th>mean</th>\n",
       "      <td>0.132874</td>\n",
       "    </tr>\n",
       "    <tr>\n",
       "      <th>std</th>\n",
       "      <td>0.718518</td>\n",
       "    </tr>\n",
       "    <tr>\n",
       "      <th>min</th>\n",
       "      <td>0.000000</td>\n",
       "    </tr>\n",
       "    <tr>\n",
       "      <th>25%</th>\n",
       "      <td>0.000000</td>\n",
       "    </tr>\n",
       "    <tr>\n",
       "      <th>50%</th>\n",
       "      <td>0.000000</td>\n",
       "    </tr>\n",
       "    <tr>\n",
       "      <th>75%</th>\n",
       "      <td>0.000000</td>\n",
       "    </tr>\n",
       "    <tr>\n",
       "      <th>max</th>\n",
       "      <td>21.000000</td>\n",
       "    </tr>\n",
       "  </tbody>\n",
       "</table>\n",
       "</div>"
      ],
      "text/plain": [
       "            attach\n",
       "count  3921.000000\n",
       "mean      0.132874\n",
       "std       0.718518\n",
       "min       0.000000\n",
       "25%       0.000000\n",
       "50%       0.000000\n",
       "75%       0.000000\n",
       "max      21.000000"
      ]
     },
     "execution_count": 26,
     "metadata": {},
     "output_type": "execute_result"
    }
   ],
   "source": [
    "pd.DataFrame(emails[ \"attach\"].describe())"
   ]
  },
  {
   "cell_type": "markdown",
   "metadata": {
    "id": "ok3haya4JUTv"
   },
   "source": [
    "So it looks like most of our values here are zero. Considering the max is 21 but the average is close to zero and the first, second and third quartile are all 0. A scatterplot here would not be a good call because of the zero values in the quartiles. So to see the distribution of the data we will create a bar chart with counts about the y axis and values about the x axis."
   ]
  },
  {
   "cell_type": "code",
   "execution_count": 27,
   "metadata": {
    "colab": {
     "base_uri": "https://localhost:8080/",
     "height": 410
    },
    "executionInfo": {
     "elapsed": 12253,
     "status": "ok",
     "timestamp": 1607486107237,
     "user": {
      "displayName": "Greg Carmean",
      "photoUrl": "",
      "userId": "03862132237162494275"
     },
     "user_tz": 300
    },
    "id": "bIf6yqkRJQ_4",
    "outputId": "71cdfd54-89d0-4955-ac64-cb78c33962ff"
   },
   "outputs": [
    {
     "data": {
      "image/png": "[encoded data removed]",
      "text/plain": [
       "<Figure size 720x432 with 1 Axes>"
      ]
     },
     "metadata": {},
     "output_type": "display_data"
    }
   ],
   "source": [
    "figure = plt.figure(figsize=(10, 6))\n",
    "\n",
    "bins = [ i for i in range(0, 21, 1)]\n",
    "axes = figure.add_subplot(1, 1, 1)\n",
    "axes.hist( emails[\"attach\"], bins = bins, color=\"DimGray\")\n",
    "axes.set_ylabel( \"Count\")\n",
    "axes.set_xlabel( \"Attachments\")\n",
    "axes.set_title(\"Count Histogram of Attachments\")\n",
    "\n",
    "plt.show()\n",
    "plt.close()\n",
    "\n"
   ]
  },
  {
   "cell_type": "markdown",
   "metadata": {
    "id": "Q2QdcStOJZXc"
   },
   "source": [
    "So most of our values are definitly 0 and that is easily seen above. While it looks like there is no data for values 3,4,5,6,7,8,9,10,20,21 we know that is not the case the number of instances is just so small it looks like 0 on this scale\n",
    "\n",
    "So it looks like most of our population of emails contain no attachments.\n"
   ]
  },
  {
   "cell_type": "markdown",
   "metadata": {
    "id": "LkoPSugV8N4e"
   },
   "source": [
    "### 2.1.9 dollar"
   ]
  },
  {
   "cell_type": "markdown",
   "metadata": {
    "id": "oKSgbll9JeXG"
   },
   "source": [
    "This variable describes the number of times a dollar sign or the word \"dollar\" appeared in the email. We can expect that spam emails may contain dollar amounts, but at the same time it isn't out of the ordinary for normal emails to also have dollar signs."
   ]
  },
  {
   "cell_type": "code",
   "execution_count": 28,
   "metadata": {
    "colab": {
     "base_uri": "https://localhost:8080/",
     "height": 297
    },
    "executionInfo": {
     "elapsed": 12226,
     "status": "ok",
     "timestamp": 1607486107243,
     "user": {
      "displayName": "Greg Carmean",
      "photoUrl": "",
      "userId": "03862132237162494275"
     },
     "user_tz": 300
    },
    "id": "2azB4LvZJXfA",
    "outputId": "4f4f8929-b22a-422b-e576-1e61ff4b7f86"
   },
   "outputs": [
    {
     "data": {
      "text/html": [
       "<div>\n",
       "<style scoped>\n",
       "    .dataframe tbody tr th:only-of-type {\n",
       "        vertical-align: middle;\n",
       "    }\n",
       "\n",
       "    .dataframe tbody tr th {\n",
       "        vertical-align: top;\n",
       "    }\n",
       "\n",
       "    .dataframe thead th {\n",
       "        text-align: right;\n",
       "    }\n",
       "</style>\n",
       "<table border=\"1\" class=\"dataframe\">\n",
       "  <thead>\n",
       "    <tr style=\"text-align: right;\">\n",
       "      <th></th>\n",
       "      <th>dollar</th>\n",
       "    </tr>\n",
       "  </thead>\n",
       "  <tbody>\n",
       "    <tr>\n",
       "      <th>count</th>\n",
       "      <td>3921.000000</td>\n",
       "    </tr>\n",
       "    <tr>\n",
       "      <th>mean</th>\n",
       "      <td>1.467228</td>\n",
       "    </tr>\n",
       "    <tr>\n",
       "      <th>std</th>\n",
       "      <td>5.022298</td>\n",
       "    </tr>\n",
       "    <tr>\n",
       "      <th>min</th>\n",
       "      <td>0.000000</td>\n",
       "    </tr>\n",
       "    <tr>\n",
       "      <th>25%</th>\n",
       "      <td>0.000000</td>\n",
       "    </tr>\n",
       "    <tr>\n",
       "      <th>50%</th>\n",
       "      <td>0.000000</td>\n",
       "    </tr>\n",
       "    <tr>\n",
       "      <th>75%</th>\n",
       "      <td>0.000000</td>\n",
       "    </tr>\n",
       "    <tr>\n",
       "      <th>max</th>\n",
       "      <td>64.000000</td>\n",
       "    </tr>\n",
       "  </tbody>\n",
       "</table>\n",
       "</div>"
      ],
      "text/plain": [
       "            dollar\n",
       "count  3921.000000\n",
       "mean      1.467228\n",
       "std       5.022298\n",
       "min       0.000000\n",
       "25%       0.000000\n",
       "50%       0.000000\n",
       "75%       0.000000\n",
       "max      64.000000"
      ]
     },
     "execution_count": 28,
     "metadata": {},
     "output_type": "execute_result"
    }
   ],
   "source": [
    "pd.DataFrame(emails['dollar'].describe())"
   ]
  },
  {
   "cell_type": "markdown",
   "metadata": {
    "id": "ScNrLTQ4Jl1g"
   },
   "source": [
    "Once again it looks as though the data for this feature is also heavily weighted at zero. If we visualize it though, we should see higher counts of instances greater than 1 than we saw in the attach column since our mean is close to 1.5\n"
   ]
  },
  {
   "cell_type": "code",
   "execution_count": 29,
   "metadata": {
    "colab": {
     "base_uri": "https://localhost:8080/",
     "height": 410
    },
    "executionInfo": {
     "elapsed": 12488,
     "status": "ok",
     "timestamp": 1607486107537,
     "user": {
      "displayName": "Greg Carmean",
      "photoUrl": "",
      "userId": "03862132237162494275"
     },
     "user_tz": 300
    },
    "id": "Py0JPOOwJgrl",
    "outputId": "e3531332-8fe2-410e-b17c-ae0e17662c7b"
   },
   "outputs": [
    {
     "data": {
      "image/png": "[encoded data removed]",
      "text/plain": [
       "<Figure size 720x432 with 1 Axes>"
      ]
     },
     "metadata": {},
     "output_type": "display_data"
    }
   ],
   "source": [
    "figure = plt.figure(figsize=(10, 6))\n",
    "mx = int(emails[\"dollar\"].max())\n",
    "\n",
    "\n",
    "bins = [ i for i in range(0, mx, 1)]\n",
    "axes = figure.add_subplot(1, 1, 1)\n",
    "axes.hist( emails[\"dollar\"], bins = bins, color=\"DimGray\")\n",
    "axes.set_ylabel( \"Count\")\n",
    "axes.set_xlabel( \"# Dollars\")\n",
    "axes.set_title(\"Count Histogram of Dollar\")\n",
    "\n",
    "plt.show()\n",
    "plt.close()"
   ]
  },
  {
   "cell_type": "markdown",
   "metadata": {
    "id": "eo9Emad1JqSS"
   },
   "source": [
    "Just like before we are heavily weighted at 0 meaning most of the emails that were collected did not contian the word dollar or the symbol $.\n",
    "\n",
    "However, we do see a greater number of 1+ than we saw with our previous feature. It will be interesting to see whether or not this feature correlates to spam. One may think so since if the email contains dollar it could be along the lines of \"Win this dollar amount\" or \"Pay this much for...\" which could be emails highly associated with spam emails.\n"
   ]
  },
  {
   "cell_type": "markdown",
   "metadata": {
    "id": "H-QjA75l8TSt"
   },
   "source": [
    "### 2.1.10 winner"
   ]
  },
  {
   "cell_type": "markdown",
   "metadata": {
    "id": "ufYph_NQJu5f"
   },
   "source": [
    "This variable indicates whether \"winner\" appeared in the email. Unlike the previous variables this does not check the number of times it appeared."
   ]
  },
  {
   "cell_type": "code",
   "execution_count": 30,
   "metadata": {
    "colab": {
     "base_uri": "https://localhost:8080/",
     "height": 111
    },
    "executionInfo": {
     "elapsed": 12836,
     "status": "ok",
     "timestamp": 1607486107921,
     "user": {
      "displayName": "Greg Carmean",
      "photoUrl": "",
      "userId": "03862132237162494275"
     },
     "user_tz": 300
    },
    "id": "Wr_inzvAJo4L",
    "outputId": "f74c1ed2-5a71-46da-a2c1-a030e1224cfa"
   },
   "outputs": [
    {
     "data": {
      "text/html": [
       "<div>\n",
       "<style scoped>\n",
       "    .dataframe tbody tr th:only-of-type {\n",
       "        vertical-align: middle;\n",
       "    }\n",
       "\n",
       "    .dataframe tbody tr th {\n",
       "        vertical-align: top;\n",
       "    }\n",
       "\n",
       "    .dataframe thead th {\n",
       "        text-align: right;\n",
       "    }\n",
       "</style>\n",
       "<table border=\"1\" class=\"dataframe\">\n",
       "  <thead>\n",
       "    <tr style=\"text-align: right;\">\n",
       "      <th></th>\n",
       "      <th>winner</th>\n",
       "    </tr>\n",
       "  </thead>\n",
       "  <tbody>\n",
       "    <tr>\n",
       "      <th>no</th>\n",
       "      <td>3857</td>\n",
       "    </tr>\n",
       "    <tr>\n",
       "      <th>yes</th>\n",
       "      <td>64</td>\n",
       "    </tr>\n",
       "  </tbody>\n",
       "</table>\n",
       "</div>"
      ],
      "text/plain": [
       "     winner\n",
       "no     3857\n",
       "yes      64"
      ]
     },
     "execution_count": 30,
     "metadata": {},
     "output_type": "execute_result"
    }
   ],
   "source": [
    "pd.DataFrame(emails['winner'].value_counts())"
   ]
  },
  {
   "cell_type": "code",
   "execution_count": 31,
   "metadata": {
    "colab": {
     "base_uri": "https://localhost:8080/",
     "height": 111
    },
    "executionInfo": {
     "elapsed": 12802,
     "status": "ok",
     "timestamp": 1607486107924,
     "user": {
      "displayName": "Greg Carmean",
      "photoUrl": "",
      "userId": "03862132237162494275"
     },
     "user_tz": 300
    },
    "id": "SwN9ky3jJ08l",
    "outputId": "8e8976cd-f91c-4bb4-a627-4d1dccba08d5"
   },
   "outputs": [
    {
     "data": {
      "text/html": [
       "<div>\n",
       "<style scoped>\n",
       "    .dataframe tbody tr th:only-of-type {\n",
       "        vertical-align: middle;\n",
       "    }\n",
       "\n",
       "    .dataframe tbody tr th {\n",
       "        vertical-align: top;\n",
       "    }\n",
       "\n",
       "    .dataframe thead th {\n",
       "        text-align: right;\n",
       "    }\n",
       "</style>\n",
       "<table border=\"1\" class=\"dataframe\">\n",
       "  <thead>\n",
       "    <tr style=\"text-align: right;\">\n",
       "      <th></th>\n",
       "      <th>winner</th>\n",
       "    </tr>\n",
       "  </thead>\n",
       "  <tbody>\n",
       "    <tr>\n",
       "      <th>no</th>\n",
       "      <td>0.983678</td>\n",
       "    </tr>\n",
       "    <tr>\n",
       "      <th>yes</th>\n",
       "      <td>0.016322</td>\n",
       "    </tr>\n",
       "  </tbody>\n",
       "</table>\n",
       "</div>"
      ],
      "text/plain": [
       "       winner\n",
       "no   0.983678\n",
       "yes  0.016322"
      ]
     },
     "execution_count": 31,
     "metadata": {},
     "output_type": "execute_result"
    }
   ],
   "source": [
    "pd.DataFrame(emails['winner'].value_counts(normalize=True))"
   ]
  },
  {
   "cell_type": "markdown",
   "metadata": {
    "id": "IivkgkhGJ7kE"
   },
   "source": [
    "The vast majority of emails do not contain the word winner. This is probably a good choice to look at with spam to see if the emails that contain winner are linked to spam"
   ]
  },
  {
   "cell_type": "markdown",
   "metadata": {
    "id": "QmgJQzd48b-d"
   },
   "source": [
    "### 2.1.11 inherit"
   ]
  },
  {
   "cell_type": "markdown",
   "metadata": {
    "id": "HR0PFiknKAfK"
   },
   "source": [
    "This variable describes the number of times \"inherit\" (or an extension, such as \"inheritance\") appeared in the email."
   ]
  },
  {
   "cell_type": "code",
   "execution_count": 32,
   "metadata": {
    "colab": {
     "base_uri": "https://localhost:8080/",
     "height": 297
    },
    "executionInfo": {
     "elapsed": 12772,
     "status": "ok",
     "timestamp": 1607486107931,
     "user": {
      "displayName": "Greg Carmean",
      "photoUrl": "",
      "userId": "03862132237162494275"
     },
     "user_tz": 300
    },
    "id": "omqc8a3EJ4vM",
    "outputId": "bd455247-d308-4117-e8bd-88f8b7ab66be"
   },
   "outputs": [
    {
     "data": {
      "text/html": [
       "<div>\n",
       "<style scoped>\n",
       "    .dataframe tbody tr th:only-of-type {\n",
       "        vertical-align: middle;\n",
       "    }\n",
       "\n",
       "    .dataframe tbody tr th {\n",
       "        vertical-align: top;\n",
       "    }\n",
       "\n",
       "    .dataframe thead th {\n",
       "        text-align: right;\n",
       "    }\n",
       "</style>\n",
       "<table border=\"1\" class=\"dataframe\">\n",
       "  <thead>\n",
       "    <tr style=\"text-align: right;\">\n",
       "      <th></th>\n",
       "      <th>inherit</th>\n",
       "    </tr>\n",
       "  </thead>\n",
       "  <tbody>\n",
       "    <tr>\n",
       "      <th>count</th>\n",
       "      <td>3921.000000</td>\n",
       "    </tr>\n",
       "    <tr>\n",
       "      <th>mean</th>\n",
       "      <td>0.038001</td>\n",
       "    </tr>\n",
       "    <tr>\n",
       "      <th>std</th>\n",
       "      <td>0.267899</td>\n",
       "    </tr>\n",
       "    <tr>\n",
       "      <th>min</th>\n",
       "      <td>0.000000</td>\n",
       "    </tr>\n",
       "    <tr>\n",
       "      <th>25%</th>\n",
       "      <td>0.000000</td>\n",
       "    </tr>\n",
       "    <tr>\n",
       "      <th>50%</th>\n",
       "      <td>0.000000</td>\n",
       "    </tr>\n",
       "    <tr>\n",
       "      <th>75%</th>\n",
       "      <td>0.000000</td>\n",
       "    </tr>\n",
       "    <tr>\n",
       "      <th>max</th>\n",
       "      <td>9.000000</td>\n",
       "    </tr>\n",
       "  </tbody>\n",
       "</table>\n",
       "</div>"
      ],
      "text/plain": [
       "           inherit\n",
       "count  3921.000000\n",
       "mean      0.038001\n",
       "std       0.267899\n",
       "min       0.000000\n",
       "25%       0.000000\n",
       "50%       0.000000\n",
       "75%       0.000000\n",
       "max       9.000000"
      ]
     },
     "execution_count": 32,
     "metadata": {},
     "output_type": "execute_result"
    }
   ],
   "source": [
    "pd.DataFrame(emails['inherit'].describe())"
   ]
  },
  {
   "cell_type": "code",
   "execution_count": 33,
   "metadata": {
    "colab": {
     "base_uri": "https://localhost:8080/",
     "height": 204
    },
    "executionInfo": {
     "elapsed": 12732,
     "status": "ok",
     "timestamp": 1607486107933,
     "user": {
      "displayName": "Greg Carmean",
      "photoUrl": "",
      "userId": "03862132237162494275"
     },
     "user_tz": 300
    },
    "id": "fC1G1RmVKEwt",
    "outputId": "e3bd987b-1c2b-4999-a8d7-efe35ba0c4f0"
   },
   "outputs": [
    {
     "data": {
      "text/html": [
       "<div>\n",
       "<style scoped>\n",
       "    .dataframe tbody tr th:only-of-type {\n",
       "        vertical-align: middle;\n",
       "    }\n",
       "\n",
       "    .dataframe tbody tr th {\n",
       "        vertical-align: top;\n",
       "    }\n",
       "\n",
       "    .dataframe thead th {\n",
       "        text-align: right;\n",
       "    }\n",
       "</style>\n",
       "<table border=\"1\" class=\"dataframe\">\n",
       "  <thead>\n",
       "    <tr style=\"text-align: right;\">\n",
       "      <th></th>\n",
       "      <th>inherit</th>\n",
       "    </tr>\n",
       "  </thead>\n",
       "  <tbody>\n",
       "    <tr>\n",
       "      <th>0</th>\n",
       "      <td>3793</td>\n",
       "    </tr>\n",
       "    <tr>\n",
       "      <th>1</th>\n",
       "      <td>122</td>\n",
       "    </tr>\n",
       "    <tr>\n",
       "      <th>2</th>\n",
       "      <td>3</td>\n",
       "    </tr>\n",
       "    <tr>\n",
       "      <th>6</th>\n",
       "      <td>2</td>\n",
       "    </tr>\n",
       "    <tr>\n",
       "      <th>9</th>\n",
       "      <td>1</td>\n",
       "    </tr>\n",
       "  </tbody>\n",
       "</table>\n",
       "</div>"
      ],
      "text/plain": [
       "   inherit\n",
       "0     3793\n",
       "1      122\n",
       "2        3\n",
       "6        2\n",
       "9        1"
      ]
     },
     "execution_count": 33,
     "metadata": {},
     "output_type": "execute_result"
    }
   ],
   "source": [
    "pd.DataFrame(emails['inherit'].value_counts())"
   ]
  },
  {
   "cell_type": "code",
   "execution_count": 34,
   "metadata": {
    "colab": {
     "base_uri": "https://localhost:8080/",
     "height": 410
    },
    "executionInfo": {
     "elapsed": 12694,
     "status": "ok",
     "timestamp": 1607486107934,
     "user": {
      "displayName": "Greg Carmean",
      "photoUrl": "",
      "userId": "03862132237162494275"
     },
     "user_tz": 300
    },
    "id": "aPQWHp2qKIi1",
    "outputId": "2bc806c8-9dd8-4b8a-e7f3-69ab807abe0e"
   },
   "outputs": [
    {
     "data": {
      "image/png": "[encoded data removed]",
      "text/plain": [
       "<Figure size 720x432 with 1 Axes>"
      ]
     },
     "metadata": {},
     "output_type": "display_data"
    }
   ],
   "source": [
    "inherit_counts = emails[\"inherit\"].value_counts()\n",
    "x = range( len( inherit_counts))\n",
    "width = 1/1.5\n",
    "\n",
    "figure = plt.figure(figsize=(10, 6))\n",
    "\n",
    "axes = figure.add_subplot(1, 1, 1)\n",
    "axes.bar(x, inherit_counts, width, color=\"dimgray\", align=\"center\")\n",
    "\n",
    "axes.set_xticks(x)\n",
    "axes.set_xticklabels(np.sort(inherit_counts.axes[0]))\n",
    "axes.set_title( \"Distribution of Inherit in Email\")\n",
    "axes.set_ylabel( \"Counts\")\n",
    "axes.set_xlabel(\"Number of Times Inherit Mentioned in an Email\")\n",
    "axes.xaxis.grid(False)\n",
    "\n",
    "plt.show()\n",
    "plt.close()"
   ]
  },
  {
   "cell_type": "markdown",
   "metadata": {
    "id": "shhINmAcKMly"
   },
   "source": [
    "Mostly zero, as we thought. This isn't a very interesting feature unless most of our zeros are not spam and 1, 2, 6, or 9 have a higher percentage of spam. "
   ]
  },
  {
   "cell_type": "markdown",
   "metadata": {
    "id": "3zkfSmTZ8iXK"
   },
   "source": [
    "### 2.1.12 viagra"
   ]
  },
  {
   "cell_type": "markdown",
   "metadata": {
    "id": "-Fy5rQvOKQPM"
   },
   "source": [
    "This variable describes the number of times \"viagra\" appeared in the email"
   ]
  },
  {
   "cell_type": "code",
   "execution_count": 35,
   "metadata": {
    "colab": {
     "base_uri": "https://localhost:8080/",
     "height": 111
    },
    "executionInfo": {
     "elapsed": 12662,
     "status": "ok",
     "timestamp": 1607486107944,
     "user": {
      "displayName": "Greg Carmean",
      "photoUrl": "",
      "userId": "03862132237162494275"
     },
     "user_tz": 300
    },
    "id": "lQZOzwS-KLKM",
    "outputId": "7bac2e82-10aa-46fc-bc4b-7564a3938cbc"
   },
   "outputs": [
    {
     "data": {
      "text/html": [
       "<div>\n",
       "<style scoped>\n",
       "    .dataframe tbody tr th:only-of-type {\n",
       "        vertical-align: middle;\n",
       "    }\n",
       "\n",
       "    .dataframe tbody tr th {\n",
       "        vertical-align: top;\n",
       "    }\n",
       "\n",
       "    .dataframe thead th {\n",
       "        text-align: right;\n",
       "    }\n",
       "</style>\n",
       "<table border=\"1\" class=\"dataframe\">\n",
       "  <thead>\n",
       "    <tr style=\"text-align: right;\">\n",
       "      <th></th>\n",
       "      <th>viagra</th>\n",
       "    </tr>\n",
       "  </thead>\n",
       "  <tbody>\n",
       "    <tr>\n",
       "      <th>0</th>\n",
       "      <td>3920</td>\n",
       "    </tr>\n",
       "    <tr>\n",
       "      <th>8</th>\n",
       "      <td>1</td>\n",
       "    </tr>\n",
       "  </tbody>\n",
       "</table>\n",
       "</div>"
      ],
      "text/plain": [
       "   viagra\n",
       "0    3920\n",
       "8       1"
      ]
     },
     "execution_count": 35,
     "metadata": {},
     "output_type": "execute_result"
    }
   ],
   "source": [
    "pd.DataFrame(emails['viagra'].value_counts())"
   ]
  },
  {
   "cell_type": "code",
   "execution_count": 36,
   "metadata": {
    "colab": {
     "base_uri": "https://localhost:8080/",
     "height": 410
    },
    "executionInfo": {
     "elapsed": 13006,
     "status": "ok",
     "timestamp": 1607486108324,
     "user": {
      "displayName": "Greg Carmean",
      "photoUrl": "",
      "userId": "03862132237162494275"
     },
     "user_tz": 300
    },
    "id": "vFkQU_w1KShW",
    "outputId": "7c18b829-0ced-4e05-9fe4-1843e5f6259d"
   },
   "outputs": [
    {
     "data": {
      "image/png": "[encoded data removed]",
      "text/plain": [
       "<Figure size 720x432 with 1 Axes>"
      ]
     },
     "metadata": {},
     "output_type": "display_data"
    }
   ],
   "source": [
    "viagra_counts = emails[\"viagra\"].value_counts()\n",
    "x = range( len( viagra_counts))\n",
    "width = 1/1.5\n",
    "\n",
    "figure = plt.figure(figsize=(10, 6))\n",
    "\n",
    "axes = figure.add_subplot(1, 1, 1)\n",
    "axes.bar(x, viagra_counts, width, color=\"dimgray\", align=\"center\")\n",
    "\n",
    "axes.set_xticks(x)\n",
    "axes.set_xticklabels(np.sort(viagra_counts.axes[0]))\n",
    "axes.set_title( \"Distribution of Viagra Feautre\")\n",
    "axes.set_ylabel( \"Counts\")\n",
    "axes.set_xlabel(\"Viagra Feature Values\")\n",
    "axes.xaxis.grid(False)\n",
    "\n",
    "plt.show()\n",
    "plt.close()"
   ]
  },
  {
   "cell_type": "markdown",
   "metadata": {
    "id": "GJsN4fJrKXao"
   },
   "source": [
    "Literally only one email has the word viagra in it. While emails with the word viagra are most likely spam, training a model on this will be challenging this this limited data"
   ]
  },
  {
   "cell_type": "markdown",
   "metadata": {
    "id": "qp9FY1XB8o6K"
   },
   "source": [
    "### 2.1.13 password"
   ]
  },
  {
   "cell_type": "markdown",
   "metadata": {
    "id": "foW4D1rPKZzy"
   },
   "source": [
    "This variable describes the number of times \"password\" appeared in the email. Like with inheritance, we believe that this may be linked with scam emails."
   ]
  },
  {
   "cell_type": "code",
   "execution_count": 37,
   "metadata": {
    "colab": {
     "base_uri": "https://localhost:8080/",
     "height": 297
    },
    "executionInfo": {
     "elapsed": 12973,
     "status": "ok",
     "timestamp": 1607486108326,
     "user": {
      "displayName": "Greg Carmean",
      "photoUrl": "",
      "userId": "03862132237162494275"
     },
     "user_tz": 300
    },
    "id": "q5eGHXW1KUpk",
    "outputId": "67e6c5b1-0e1e-4687-cb76-42c134ca9f03"
   },
   "outputs": [
    {
     "data": {
      "text/html": [
       "<div>\n",
       "<style scoped>\n",
       "    .dataframe tbody tr th:only-of-type {\n",
       "        vertical-align: middle;\n",
       "    }\n",
       "\n",
       "    .dataframe tbody tr th {\n",
       "        vertical-align: top;\n",
       "    }\n",
       "\n",
       "    .dataframe thead th {\n",
       "        text-align: right;\n",
       "    }\n",
       "</style>\n",
       "<table border=\"1\" class=\"dataframe\">\n",
       "  <thead>\n",
       "    <tr style=\"text-align: right;\">\n",
       "      <th></th>\n",
       "      <th>password</th>\n",
       "    </tr>\n",
       "  </thead>\n",
       "  <tbody>\n",
       "    <tr>\n",
       "      <th>count</th>\n",
       "      <td>3921.000000</td>\n",
       "    </tr>\n",
       "    <tr>\n",
       "      <th>mean</th>\n",
       "      <td>0.108136</td>\n",
       "    </tr>\n",
       "    <tr>\n",
       "      <th>std</th>\n",
       "      <td>0.959931</td>\n",
       "    </tr>\n",
       "    <tr>\n",
       "      <th>min</th>\n",
       "      <td>0.000000</td>\n",
       "    </tr>\n",
       "    <tr>\n",
       "      <th>25%</th>\n",
       "      <td>0.000000</td>\n",
       "    </tr>\n",
       "    <tr>\n",
       "      <th>50%</th>\n",
       "      <td>0.000000</td>\n",
       "    </tr>\n",
       "    <tr>\n",
       "      <th>75%</th>\n",
       "      <td>0.000000</td>\n",
       "    </tr>\n",
       "    <tr>\n",
       "      <th>max</th>\n",
       "      <td>28.000000</td>\n",
       "    </tr>\n",
       "  </tbody>\n",
       "</table>\n",
       "</div>"
      ],
      "text/plain": [
       "          password\n",
       "count  3921.000000\n",
       "mean      0.108136\n",
       "std       0.959931\n",
       "min       0.000000\n",
       "25%       0.000000\n",
       "50%       0.000000\n",
       "75%       0.000000\n",
       "max      28.000000"
      ]
     },
     "execution_count": 37,
     "metadata": {},
     "output_type": "execute_result"
    }
   ],
   "source": [
    "pd.DataFrame(emails['password'].describe())"
   ]
  },
  {
   "cell_type": "code",
   "execution_count": 38,
   "metadata": {
    "colab": {
     "base_uri": "https://localhost:8080/",
     "height": 452
    },
    "executionInfo": {
     "elapsed": 12939,
     "status": "ok",
     "timestamp": 1607486108327,
     "user": {
      "displayName": "Greg Carmean",
      "photoUrl": "",
      "userId": "03862132237162494275"
     },
     "user_tz": 300
    },
    "id": "B7FGAd1-KcIL",
    "outputId": "6a593fdb-b79e-4dac-d4bb-f436f189ae79"
   },
   "outputs": [
    {
     "data": {
      "text/html": [
       "<div>\n",
       "<style scoped>\n",
       "    .dataframe tbody tr th:only-of-type {\n",
       "        vertical-align: middle;\n",
       "    }\n",
       "\n",
       "    .dataframe tbody tr th {\n",
       "        vertical-align: top;\n",
       "    }\n",
       "\n",
       "    .dataframe thead th {\n",
       "        text-align: right;\n",
       "    }\n",
       "</style>\n",
       "<table border=\"1\" class=\"dataframe\">\n",
       "  <thead>\n",
       "    <tr style=\"text-align: right;\">\n",
       "      <th></th>\n",
       "      <th>password</th>\n",
       "    </tr>\n",
       "  </thead>\n",
       "  <tbody>\n",
       "    <tr>\n",
       "      <th>0</th>\n",
       "      <td>0.971436</td>\n",
       "    </tr>\n",
       "    <tr>\n",
       "      <th>2</th>\n",
       "      <td>0.009946</td>\n",
       "    </tr>\n",
       "    <tr>\n",
       "      <th>4</th>\n",
       "      <td>0.005866</td>\n",
       "    </tr>\n",
       "    <tr>\n",
       "      <th>1</th>\n",
       "      <td>0.005611</td>\n",
       "    </tr>\n",
       "    <tr>\n",
       "      <th>3</th>\n",
       "      <td>0.002040</td>\n",
       "    </tr>\n",
       "    <tr>\n",
       "      <th>5</th>\n",
       "      <td>0.001275</td>\n",
       "    </tr>\n",
       "    <tr>\n",
       "      <th>8</th>\n",
       "      <td>0.001275</td>\n",
       "    </tr>\n",
       "    <tr>\n",
       "      <th>6</th>\n",
       "      <td>0.000765</td>\n",
       "    </tr>\n",
       "    <tr>\n",
       "      <th>11</th>\n",
       "      <td>0.000510</td>\n",
       "    </tr>\n",
       "    <tr>\n",
       "      <th>22</th>\n",
       "      <td>0.000510</td>\n",
       "    </tr>\n",
       "    <tr>\n",
       "      <th>13</th>\n",
       "      <td>0.000255</td>\n",
       "    </tr>\n",
       "    <tr>\n",
       "      <th>28</th>\n",
       "      <td>0.000255</td>\n",
       "    </tr>\n",
       "    <tr>\n",
       "      <th>18</th>\n",
       "      <td>0.000255</td>\n",
       "    </tr>\n",
       "  </tbody>\n",
       "</table>\n",
       "</div>"
      ],
      "text/plain": [
       "    password\n",
       "0   0.971436\n",
       "2   0.009946\n",
       "4   0.005866\n",
       "1   0.005611\n",
       "3   0.002040\n",
       "5   0.001275\n",
       "8   0.001275\n",
       "6   0.000765\n",
       "11  0.000510\n",
       "22  0.000510\n",
       "13  0.000255\n",
       "28  0.000255\n",
       "18  0.000255"
      ]
     },
     "execution_count": 38,
     "metadata": {},
     "output_type": "execute_result"
    }
   ],
   "source": [
    "pd.DataFrame(emails['password'].value_counts(normalize = True))"
   ]
  },
  {
   "cell_type": "code",
   "execution_count": 39,
   "metadata": {
    "colab": {
     "base_uri": "https://localhost:8080/",
     "height": 410
    },
    "executionInfo": {
     "elapsed": 13282,
     "status": "ok",
     "timestamp": 1607486108704,
     "user": {
      "displayName": "Greg Carmean",
      "photoUrl": "",
      "userId": "03862132237162494275"
     },
     "user_tz": 300
    },
    "id": "OmRoOZqTKeAu",
    "outputId": "2f64d9bb-41b9-48c2-948c-7b9c4a174aa6"
   },
   "outputs": [
    {
     "data": {
      "image/png": "[encoded data removed]",
      "text/plain": [
       "<Figure size 720x432 with 1 Axes>"
      ]
     },
     "metadata": {},
     "output_type": "display_data"
    }
   ],
   "source": [
    "pword_counts = emails[\"password\"].value_counts()\n",
    "x = range( len( pword_counts))\n",
    "width = 1/1.5\n",
    "\n",
    "figure = plt.figure(figsize=(10, 6))\n",
    "\n",
    "axes = figure.add_subplot(1, 1, 1)\n",
    "axes.bar(x, pword_counts, width, color=\"dimgray\", align=\"center\")\n",
    "\n",
    "axes.set_xticks(x)\n",
    "axes.set_xticklabels(np.sort(pword_counts.axes[0]))\n",
    "axes.set_title( \"Distribution of Password Feature\")\n",
    "axes.set_ylabel( \"Counts\")\n",
    "axes.set_xlabel(\"Pasword Feature Values\")\n",
    "axes.xaxis.grid(False)\n",
    "\n",
    "plt.show()\n",
    "plt.close()"
   ]
  },
  {
   "cell_type": "markdown",
   "metadata": {
    "id": "y32DDU-PKq5_"
   },
   "source": [
    "97% of the emails did not include the word passwrod. However, it is worth exploring whether as the number of password mentions grows the prevelance of spam increases. How many normal emails would mention password 28 times?"
   ]
  },
  {
   "cell_type": "markdown",
   "metadata": {
    "id": "wIk39KhX8tw3"
   },
   "source": [
    "### 2.1.14 num_char"
   ]
  },
  {
   "cell_type": "markdown",
   "metadata": {
    "id": "3SzeeLXCKvSg"
   },
   "source": [
    "This variable describes the number of characters in the email, in thousands. "
   ]
  },
  {
   "cell_type": "code",
   "execution_count": 40,
   "metadata": {
    "colab": {
     "base_uri": "https://localhost:8080/",
     "height": 297
    },
    "executionInfo": {
     "elapsed": 13249,
     "status": "ok",
     "timestamp": 1607486108706,
     "user": {
      "displayName": "Greg Carmean",
      "photoUrl": "",
      "userId": "03862132237162494275"
     },
     "user_tz": 300
    },
    "id": "IBl5kjSoKg0c",
    "outputId": "55ac3d7b-88ef-493b-dc9b-671d4d902069"
   },
   "outputs": [
    {
     "data": {
      "text/html": [
       "<div>\n",
       "<style scoped>\n",
       "    .dataframe tbody tr th:only-of-type {\n",
       "        vertical-align: middle;\n",
       "    }\n",
       "\n",
       "    .dataframe tbody tr th {\n",
       "        vertical-align: top;\n",
       "    }\n",
       "\n",
       "    .dataframe thead th {\n",
       "        text-align: right;\n",
       "    }\n",
       "</style>\n",
       "<table border=\"1\" class=\"dataframe\">\n",
       "  <thead>\n",
       "    <tr style=\"text-align: right;\">\n",
       "      <th></th>\n",
       "      <th>num_char</th>\n",
       "    </tr>\n",
       "  </thead>\n",
       "  <tbody>\n",
       "    <tr>\n",
       "      <th>count</th>\n",
       "      <td>3921.000000</td>\n",
       "    </tr>\n",
       "    <tr>\n",
       "      <th>mean</th>\n",
       "      <td>10.706586</td>\n",
       "    </tr>\n",
       "    <tr>\n",
       "      <th>std</th>\n",
       "      <td>14.645786</td>\n",
       "    </tr>\n",
       "    <tr>\n",
       "      <th>min</th>\n",
       "      <td>0.001000</td>\n",
       "    </tr>\n",
       "    <tr>\n",
       "      <th>25%</th>\n",
       "      <td>1.459000</td>\n",
       "    </tr>\n",
       "    <tr>\n",
       "      <th>50%</th>\n",
       "      <td>5.856000</td>\n",
       "    </tr>\n",
       "    <tr>\n",
       "      <th>75%</th>\n",
       "      <td>14.084000</td>\n",
       "    </tr>\n",
       "    <tr>\n",
       "      <th>max</th>\n",
       "      <td>190.087000</td>\n",
       "    </tr>\n",
       "  </tbody>\n",
       "</table>\n",
       "</div>"
      ],
      "text/plain": [
       "          num_char\n",
       "count  3921.000000\n",
       "mean     10.706586\n",
       "std      14.645786\n",
       "min       0.001000\n",
       "25%       1.459000\n",
       "50%       5.856000\n",
       "75%      14.084000\n",
       "max     190.087000"
      ]
     },
     "execution_count": 40,
     "metadata": {},
     "output_type": "execute_result"
    }
   ],
   "source": [
    "pd.DataFrame(emails['num_char'].describe())"
   ]
  },
  {
   "cell_type": "markdown",
   "metadata": {
    "id": "jz6rLdWHBP7k"
   },
   "source": [
    "The average email in the dataset has 10706 lines. The standard deviation of 14000 lines indicates there is a good deal of variance. The max of 190,000 and 75% percentile of 14,000 indicate there are some outliers skewing the total distribution. "
   ]
  },
  {
   "cell_type": "markdown",
   "metadata": {
    "id": "7Zv02ELhB0Kh"
   },
   "source": [
    "An interesting line of inquiry is whether or not there are emails with the same number of characters. That may indicate a pattern which points to spam. "
   ]
  },
  {
   "cell_type": "code",
   "execution_count": 41,
   "metadata": {
    "colab": {
     "base_uri": "https://localhost:8080/",
     "height": 419
    },
    "executionInfo": {
     "elapsed": 13218,
     "status": "ok",
     "timestamp": 1607486108708,
     "user": {
      "displayName": "Greg Carmean",
      "photoUrl": "",
      "userId": "03862132237162494275"
     },
     "user_tz": 300
    },
    "id": "Hxt-5buQKxqP",
    "outputId": "eeceb94b-14ae-4a1d-95f7-df1ddcdf68d6"
   },
   "outputs": [
    {
     "data": {
      "text/html": [
       "<div>\n",
       "<style scoped>\n",
       "    .dataframe tbody tr th:only-of-type {\n",
       "        vertical-align: middle;\n",
       "    }\n",
       "\n",
       "    .dataframe tbody tr th {\n",
       "        vertical-align: top;\n",
       "    }\n",
       "\n",
       "    .dataframe thead th {\n",
       "        text-align: right;\n",
       "    }\n",
       "</style>\n",
       "<table border=\"1\" class=\"dataframe\">\n",
       "  <thead>\n",
       "    <tr style=\"text-align: right;\">\n",
       "      <th></th>\n",
       "      <th>num_char</th>\n",
       "    </tr>\n",
       "  </thead>\n",
       "  <tbody>\n",
       "    <tr>\n",
       "      <th>0.459</th>\n",
       "      <td>12</td>\n",
       "    </tr>\n",
       "    <tr>\n",
       "      <th>0.537</th>\n",
       "      <td>10</td>\n",
       "    </tr>\n",
       "    <tr>\n",
       "      <th>0.341</th>\n",
       "      <td>10</td>\n",
       "    </tr>\n",
       "    <tr>\n",
       "      <th>1.222</th>\n",
       "      <td>6</td>\n",
       "    </tr>\n",
       "    <tr>\n",
       "      <th>10.366</th>\n",
       "      <td>6</td>\n",
       "    </tr>\n",
       "    <tr>\n",
       "      <th>...</th>\n",
       "      <td>...</td>\n",
       "    </tr>\n",
       "    <tr>\n",
       "      <th>30.363</th>\n",
       "      <td>1</td>\n",
       "    </tr>\n",
       "    <tr>\n",
       "      <th>3.314</th>\n",
       "      <td>1</td>\n",
       "    </tr>\n",
       "    <tr>\n",
       "      <th>11.071</th>\n",
       "      <td>1</td>\n",
       "    </tr>\n",
       "    <tr>\n",
       "      <th>0.180</th>\n",
       "      <td>1</td>\n",
       "    </tr>\n",
       "    <tr>\n",
       "      <th>4.750</th>\n",
       "      <td>1</td>\n",
       "    </tr>\n",
       "  </tbody>\n",
       "</table>\n",
       "<p>3362 rows × 1 columns</p>\n",
       "</div>"
      ],
      "text/plain": [
       "        num_char\n",
       "0.459         12\n",
       "0.537         10\n",
       "0.341         10\n",
       "1.222          6\n",
       "10.366         6\n",
       "...          ...\n",
       "30.363         1\n",
       "3.314          1\n",
       "11.071         1\n",
       "0.180          1\n",
       "4.750          1\n",
       "\n",
       "[3362 rows x 1 columns]"
      ]
     },
     "execution_count": 41,
     "metadata": {},
     "output_type": "execute_result"
    }
   ],
   "source": [
    "pd.DataFrame(emails['num_char'].value_counts())"
   ]
  },
  {
   "cell_type": "markdown",
   "metadata": {
    "id": "yO5AcrjIB_n6"
   },
   "source": [
    "While there are some emails which have a common number of characters, the vast majority of the emails in the dataset have a unique character count"
   ]
  },
  {
   "cell_type": "markdown",
   "metadata": {
    "id": "8IvYbLb4CK8P"
   },
   "source": [
    "The distribution of the character count can be visualized with a histogram"
   ]
  },
  {
   "cell_type": "code",
   "execution_count": 42,
   "metadata": {
    "colab": {
     "base_uri": "https://localhost:8080/",
     "height": 410
    },
    "executionInfo": {
     "elapsed": 14286,
     "status": "ok",
     "timestamp": 1607486109809,
     "user": {
      "displayName": "Greg Carmean",
      "photoUrl": "",
      "userId": "03862132237162494275"
     },
     "user_tz": 300
    },
    "id": "GGwAX3QFKzmh",
    "outputId": "0ec6c29f-83c4-4766-81c0-d141ff281977"
   },
   "outputs": [
    {
     "data": {
      "image/png": "[encoded data removed]",
      "text/plain": [
       "<Figure size 720x432 with 1 Axes>"
      ]
     },
     "metadata": {},
     "output_type": "display_data"
    }
   ],
   "source": [
    "figure = plt.figure(figsize=(10, 6))\n",
    "\n",
    "mx = int(emails[\"num_char\"].max())\n",
    "mn = int(emails[\"num_char\"].min())\n",
    "\n",
    "\n",
    "bins = [ i for i in range(mn, mx, 1)]\n",
    "axes = figure.add_subplot(1, 1, 1)\n",
    "axes.hist( emails[\"num_char\"], bins = bins, color=\"DimGray\")\n",
    "axes.set_ylabel( \"Count\")\n",
    "axes.set_xlabel( \"num_char\")\n",
    "axes.set_title(\"Count Histogram of num_char\")\n",
    "\n",
    "plt.show()\n",
    "plt.close()"
   ]
  },
  {
   "cell_type": "markdown",
   "metadata": {
    "id": "FjASOtcOK4kn"
   },
   "source": [
    "The histogram shows that the num_char variable appears exponentially distributed. This could help lead to a useful variable transformation during the modeling process."
   ]
  },
  {
   "cell_type": "markdown",
   "metadata": {
    "id": "8hU_Ysmx8ybl"
   },
   "source": [
    "### 2.1.15 line_breaks"
   ]
  },
  {
   "cell_type": "markdown",
   "metadata": {
    "id": "wbX9FuNEK8qP"
   },
   "source": [
    "The line_breaks variable refers to the number of line breaks in the email. This count does not include text wrapping. The hypothesis is that the values should not be negative and relatively small, no more than a couple hundred. "
   ]
  },
  {
   "cell_type": "code",
   "execution_count": 43,
   "metadata": {
    "colab": {
     "base_uri": "https://localhost:8080/"
    },
    "executionInfo": {
     "elapsed": 14259,
     "status": "ok",
     "timestamp": 1607486109810,
     "user": {
      "displayName": "Greg Carmean",
      "photoUrl": "",
      "userId": "03862132237162494275"
     },
     "user_tz": 300
    },
    "id": "1obqhnn8K2AC",
    "outputId": "64ff958d-55e5-4f5d-f978-5daecea939a5"
   },
   "outputs": [
    {
     "data": {
      "text/plain": [
       "count    3921.000000\n",
       "mean      230.658505\n",
       "std       319.304959\n",
       "min         1.000000\n",
       "25%        34.000000\n",
       "50%       119.000000\n",
       "75%       298.000000\n",
       "max      4022.000000\n",
       "Name: line_breaks, dtype: float64"
      ]
     },
     "execution_count": 43,
     "metadata": {},
     "output_type": "execute_result"
    }
   ],
   "source": [
    "emails[\"line_breaks\"].describe()"
   ]
  },
  {
   "cell_type": "code",
   "execution_count": 44,
   "metadata": {
    "colab": {
     "base_uri": "https://localhost:8080/",
     "height": 301
    },
    "executionInfo": {
     "elapsed": 14950,
     "status": "ok",
     "timestamp": 1607486110535,
     "user": {
      "displayName": "Greg Carmean",
      "photoUrl": "",
      "userId": "03862132237162494275"
     },
     "user_tz": 300
    },
    "id": "xVE89U-WK-ri",
    "outputId": "419c54b4-f73e-432c-e434-a16a46444c46"
   },
   "outputs": [
    {
     "data": {
      "image/png": "[encoded data removed]",
      "text/plain": [
       "<Figure size 432x288 with 1 Axes>"
      ]
     },
     "metadata": {},
     "output_type": "display_data"
    }
   ],
   "source": [
    "fig = plt.figure()\n",
    "axes = fig.add_subplot()\n",
    "axes.hist(emails['line_breaks'], color=\"dimgray\",log=True)\n",
    "axes.set_xlabel('Value')\n",
    "axes.set_ylabel('Log Frequency')\n",
    "axes.set_title('Line breaks')\n",
    "\n",
    "plt.show()"
   ]
  },
  {
   "cell_type": "markdown",
   "metadata": {
    "id": "K9de49X-LFP8"
   },
   "source": [
    "Line breaks appears exponentially distributed. The numbers seem inflated to me, even the spam emails I get don't have 3-4k lines in them. However, the exponential fits well so I suspect these are real data points. "
   ]
  },
  {
   "cell_type": "markdown",
   "metadata": {
    "id": "sV8lgcBj84JX"
   },
   "source": [
    "### 2.1.16 format"
   ]
  },
  {
   "cell_type": "markdown",
   "metadata": {
    "id": "lbA3wDGsLHej"
   },
   "source": [
    "The format variable indicates whether the email was written using HTML. For example, emails that may have included bolding or active links are included in this category.\n",
    "\n",
    "Since this is a binary variable we can just create a table to count the numer of emails with format and those without format."
   ]
  },
  {
   "cell_type": "code",
   "execution_count": 45,
   "metadata": {
    "colab": {
     "base_uri": "https://localhost:8080/",
     "height": 111
    },
    "executionInfo": {
     "elapsed": 14920,
     "status": "ok",
     "timestamp": 1607486110538,
     "user": {
      "displayName": "Greg Carmean",
      "photoUrl": "",
      "userId": "03862132237162494275"
     },
     "user_tz": 300
    },
    "id": "6XVX29xXLAJT",
    "outputId": "8e22e673-936f-4b52-d387-5fddaab57187"
   },
   "outputs": [
    {
     "data": {
      "text/html": [
       "<div>\n",
       "<style scoped>\n",
       "    .dataframe tbody tr th:only-of-type {\n",
       "        vertical-align: middle;\n",
       "    }\n",
       "\n",
       "    .dataframe tbody tr th {\n",
       "        vertical-align: top;\n",
       "    }\n",
       "\n",
       "    .dataframe thead th {\n",
       "        text-align: right;\n",
       "    }\n",
       "</style>\n",
       "<table border=\"1\" class=\"dataframe\">\n",
       "  <thead>\n",
       "    <tr style=\"text-align: right;\">\n",
       "      <th></th>\n",
       "      <th>format</th>\n",
       "    </tr>\n",
       "  </thead>\n",
       "  <tbody>\n",
       "    <tr>\n",
       "      <th>1</th>\n",
       "      <td>2726</td>\n",
       "    </tr>\n",
       "    <tr>\n",
       "      <th>0</th>\n",
       "      <td>1195</td>\n",
       "    </tr>\n",
       "  </tbody>\n",
       "</table>\n",
       "</div>"
      ],
      "text/plain": [
       "   format\n",
       "1    2726\n",
       "0    1195"
      ]
     },
     "execution_count": 45,
     "metadata": {},
     "output_type": "execute_result"
    }
   ],
   "source": [
    "pd.DataFrame(emails['format'].value_counts())"
   ]
  },
  {
   "cell_type": "code",
   "execution_count": 46,
   "metadata": {
    "colab": {
     "base_uri": "https://localhost:8080/",
     "height": 111
    },
    "executionInfo": {
     "elapsed": 14890,
     "status": "ok",
     "timestamp": 1607486110541,
     "user": {
      "displayName": "Greg Carmean",
      "photoUrl": "",
      "userId": "03862132237162494275"
     },
     "user_tz": 300
    },
    "id": "fgKx-FtqLJ8V",
    "outputId": "5f8bf957-2384-4ba9-a2c5-692c023311a8"
   },
   "outputs": [
    {
     "data": {
      "text/html": [
       "<div>\n",
       "<style scoped>\n",
       "    .dataframe tbody tr th:only-of-type {\n",
       "        vertical-align: middle;\n",
       "    }\n",
       "\n",
       "    .dataframe tbody tr th {\n",
       "        vertical-align: top;\n",
       "    }\n",
       "\n",
       "    .dataframe thead th {\n",
       "        text-align: right;\n",
       "    }\n",
       "</style>\n",
       "<table border=\"1\" class=\"dataframe\">\n",
       "  <thead>\n",
       "    <tr style=\"text-align: right;\">\n",
       "      <th></th>\n",
       "      <th>format</th>\n",
       "    </tr>\n",
       "  </thead>\n",
       "  <tbody>\n",
       "    <tr>\n",
       "      <th>1</th>\n",
       "      <td>0.695231</td>\n",
       "    </tr>\n",
       "    <tr>\n",
       "      <th>0</th>\n",
       "      <td>0.304769</td>\n",
       "    </tr>\n",
       "  </tbody>\n",
       "</table>\n",
       "</div>"
      ],
      "text/plain": [
       "     format\n",
       "1  0.695231\n",
       "0  0.304769"
      ]
     },
     "execution_count": 46,
     "metadata": {},
     "output_type": "execute_result"
    }
   ],
   "source": [
    "pd.DataFrame(emails['format'].value_counts(normalize=True))"
   ]
  },
  {
   "cell_type": "markdown",
   "metadata": {
    "id": "8x4AjTnWLP_7"
   },
   "source": [
    "Almost 70% of the emails are formatted in HTML. The pairwise EDA should shed more light on whether or not this variable is significant."
   ]
  },
  {
   "cell_type": "markdown",
   "metadata": {
    "id": "rEKVrwwR89fr"
   },
   "source": [
    "### 2.1.17 re_subj"
   ]
  },
  {
   "cell_type": "markdown",
   "metadata": {
    "id": "wR5R2vuzLTRx"
   },
   "source": [
    "The re_subj variable tracks whether the subject started with \"Re:\", \"RE:\", \"re:\", or \"rE:\".\n",
    "\n",
    "This variable is of interest because \"Re\" or similar it usually indicates a reply to the original message, which would tend to not be spam.  Let's check by constructing a table:"
   ]
  },
  {
   "cell_type": "code",
   "execution_count": 47,
   "metadata": {
    "colab": {
     "base_uri": "https://localhost:8080/",
     "height": 111
    },
    "executionInfo": {
     "elapsed": 14864,
     "status": "ok",
     "timestamp": 1607486110547,
     "user": {
      "displayName": "Greg Carmean",
      "photoUrl": "",
      "userId": "03862132237162494275"
     },
     "user_tz": 300
    },
    "id": "KLXim4siLLq7",
    "outputId": "6500b8c1-66b2-43de-a6de-df443a1cd6f7"
   },
   "outputs": [
    {
     "data": {
      "text/html": [
       "<div>\n",
       "<style scoped>\n",
       "    .dataframe tbody tr th:only-of-type {\n",
       "        vertical-align: middle;\n",
       "    }\n",
       "\n",
       "    .dataframe tbody tr th {\n",
       "        vertical-align: top;\n",
       "    }\n",
       "\n",
       "    .dataframe thead th {\n",
       "        text-align: right;\n",
       "    }\n",
       "</style>\n",
       "<table border=\"1\" class=\"dataframe\">\n",
       "  <thead>\n",
       "    <tr style=\"text-align: right;\">\n",
       "      <th></th>\n",
       "      <th>re_subj</th>\n",
       "    </tr>\n",
       "  </thead>\n",
       "  <tbody>\n",
       "    <tr>\n",
       "      <th>0</th>\n",
       "      <td>2896</td>\n",
       "    </tr>\n",
       "    <tr>\n",
       "      <th>1</th>\n",
       "      <td>1025</td>\n",
       "    </tr>\n",
       "  </tbody>\n",
       "</table>\n",
       "</div>"
      ],
      "text/plain": [
       "   re_subj\n",
       "0     2896\n",
       "1     1025"
      ]
     },
     "execution_count": 47,
     "metadata": {},
     "output_type": "execute_result"
    }
   ],
   "source": [
    "pd.DataFrame(emails['re_subj'].value_counts())"
   ]
  },
  {
   "cell_type": "code",
   "execution_count": 48,
   "metadata": {
    "colab": {
     "base_uri": "https://localhost:8080/",
     "height": 111
    },
    "executionInfo": {
     "elapsed": 14837,
     "status": "ok",
     "timestamp": 1607486110553,
     "user": {
      "displayName": "Greg Carmean",
      "photoUrl": "",
      "userId": "03862132237162494275"
     },
     "user_tz": 300
    },
    "id": "zExlSry5LgA7",
    "outputId": "b6a55303-ecee-4bf7-b6a2-68efac8d444a"
   },
   "outputs": [
    {
     "data": {
      "text/html": [
       "<div>\n",
       "<style scoped>\n",
       "    .dataframe tbody tr th:only-of-type {\n",
       "        vertical-align: middle;\n",
       "    }\n",
       "\n",
       "    .dataframe tbody tr th {\n",
       "        vertical-align: top;\n",
       "    }\n",
       "\n",
       "    .dataframe thead th {\n",
       "        text-align: right;\n",
       "    }\n",
       "</style>\n",
       "<table border=\"1\" class=\"dataframe\">\n",
       "  <thead>\n",
       "    <tr style=\"text-align: right;\">\n",
       "      <th></th>\n",
       "      <th>re_subj</th>\n",
       "    </tr>\n",
       "  </thead>\n",
       "  <tbody>\n",
       "    <tr>\n",
       "      <th>0</th>\n",
       "      <td>0.738587</td>\n",
       "    </tr>\n",
       "    <tr>\n",
       "      <th>1</th>\n",
       "      <td>0.261413</td>\n",
       "    </tr>\n",
       "  </tbody>\n",
       "</table>\n",
       "</div>"
      ],
      "text/plain": [
       "    re_subj\n",
       "0  0.738587\n",
       "1  0.261413"
      ]
     },
     "execution_count": 48,
     "metadata": {},
     "output_type": "execute_result"
    }
   ],
   "source": [
    "pd.DataFrame(emails['re_subj'].value_counts(normalize = True))"
   ]
  },
  {
   "cell_type": "markdown",
   "metadata": {
    "id": "RFrRi97cLkfv"
   },
   "source": [
    "Only 26% of the data is a reply with this phrase in their subject line. It may yet be a significant indicator for this subset of the data. "
   ]
  },
  {
   "cell_type": "markdown",
   "metadata": {
    "id": "MTLg0eyu9CMv"
   },
   "source": [
    "### 2.1.18 exclaim_subj"
   ]
  },
  {
   "cell_type": "markdown",
   "metadata": {
    "id": "bpHZW499Lm6d"
   },
   "source": [
    "The exclaim_subj variable tracks whether there was an exclamation point in the subject. An example spam subject line could read:\n",
    "\n",
    "\"Click on this now!! To save XYZ dollars on the top deals!!!\"\n",
    "Therefore, the existance of exclaimation marks may spam? In which case this should follow the spam messages trend (e.g. most emails were not spam, so most of the 'exclaim_subj' should not have exclaimation marks). Let's check it:"
   ]
  },
  {
   "cell_type": "code",
   "execution_count": 49,
   "metadata": {
    "colab": {
     "base_uri": "https://localhost:8080/",
     "height": 111
    },
    "executionInfo": {
     "elapsed": 14803,
     "status": "ok",
     "timestamp": 1607486110555,
     "user": {
      "displayName": "Greg Carmean",
      "photoUrl": "",
      "userId": "03862132237162494275"
     },
     "user_tz": 300
    },
    "id": "YoZ8YV5ZLhnD",
    "outputId": "dac032d7-5afd-4d05-c07f-328a055019ec"
   },
   "outputs": [
    {
     "data": {
      "text/html": [
       "<div>\n",
       "<style scoped>\n",
       "    .dataframe tbody tr th:only-of-type {\n",
       "        vertical-align: middle;\n",
       "    }\n",
       "\n",
       "    .dataframe tbody tr th {\n",
       "        vertical-align: top;\n",
       "    }\n",
       "\n",
       "    .dataframe thead th {\n",
       "        text-align: right;\n",
       "    }\n",
       "</style>\n",
       "<table border=\"1\" class=\"dataframe\">\n",
       "  <thead>\n",
       "    <tr style=\"text-align: right;\">\n",
       "      <th></th>\n",
       "      <th>exclaim_subj</th>\n",
       "    </tr>\n",
       "  </thead>\n",
       "  <tbody>\n",
       "    <tr>\n",
       "      <th>0</th>\n",
       "      <td>3606</td>\n",
       "    </tr>\n",
       "    <tr>\n",
       "      <th>1</th>\n",
       "      <td>315</td>\n",
       "    </tr>\n",
       "  </tbody>\n",
       "</table>\n",
       "</div>"
      ],
      "text/plain": [
       "   exclaim_subj\n",
       "0          3606\n",
       "1           315"
      ]
     },
     "execution_count": 49,
     "metadata": {},
     "output_type": "execute_result"
    }
   ],
   "source": [
    "pd.DataFrame(emails['exclaim_subj'].value_counts())"
   ]
  },
  {
   "cell_type": "code",
   "execution_count": 50,
   "metadata": {
    "colab": {
     "base_uri": "https://localhost:8080/",
     "height": 111
    },
    "executionInfo": {
     "elapsed": 14782,
     "status": "ok",
     "timestamp": 1607486110566,
     "user": {
      "displayName": "Greg Carmean",
      "photoUrl": "",
      "userId": "03862132237162494275"
     },
     "user_tz": 300
    },
    "id": "gvHpmja8Lpeh",
    "outputId": "532d22c3-bb60-45e2-9578-6bd6054e36ee"
   },
   "outputs": [
    {
     "data": {
      "text/html": [
       "<div>\n",
       "<style scoped>\n",
       "    .dataframe tbody tr th:only-of-type {\n",
       "        vertical-align: middle;\n",
       "    }\n",
       "\n",
       "    .dataframe tbody tr th {\n",
       "        vertical-align: top;\n",
       "    }\n",
       "\n",
       "    .dataframe thead th {\n",
       "        text-align: right;\n",
       "    }\n",
       "</style>\n",
       "<table border=\"1\" class=\"dataframe\">\n",
       "  <thead>\n",
       "    <tr style=\"text-align: right;\">\n",
       "      <th></th>\n",
       "      <th>exclaim_subj</th>\n",
       "    </tr>\n",
       "  </thead>\n",
       "  <tbody>\n",
       "    <tr>\n",
       "      <th>0</th>\n",
       "      <td>0.919663</td>\n",
       "    </tr>\n",
       "    <tr>\n",
       "      <th>1</th>\n",
       "      <td>0.080337</td>\n",
       "    </tr>\n",
       "  </tbody>\n",
       "</table>\n",
       "</div>"
      ],
      "text/plain": [
       "   exclaim_subj\n",
       "0      0.919663\n",
       "1      0.080337"
      ]
     },
     "execution_count": 50,
     "metadata": {},
     "output_type": "execute_result"
    }
   ],
   "source": [
    "pd.DataFrame(emails['exclaim_subj'].value_counts(normalize=True))"
   ]
  },
  {
   "cell_type": "markdown",
   "metadata": {
    "id": "hUvW_-iMLtNY"
   },
   "source": [
    "Indeed! This seems to have almost identical distribution to the spam tag at 92% no exclamation and 8% with exclamation (not spam tag = 91%, spam = 9%). This could be a coincidence but is worth investigating with a pairwise comparison."
   ]
  },
  {
   "cell_type": "markdown",
   "metadata": {
    "id": "z4DUnABG9IBf"
   },
   "source": [
    "### 2.1.19 urgent_subj"
   ]
  },
  {
   "cell_type": "markdown",
   "metadata": {
    "id": "4ctTuNRyLwY2"
   },
   "source": [
    "The urgent_subj variable tracks whether the word \"urgent\" was in the email subject.\n",
    "\n",
    "We think this would have high corelation to spam as well, as it attempts to get people to click on the link or fall for the scam in a hurry. Let's see how often urgent appears in the subject of these emails."
   ]
  },
  {
   "cell_type": "code",
   "execution_count": 51,
   "metadata": {
    "colab": {
     "base_uri": "https://localhost:8080/",
     "height": 111
    },
    "executionInfo": {
     "elapsed": 14752,
     "status": "ok",
     "timestamp": 1607486110568,
     "user": {
      "displayName": "Greg Carmean",
      "photoUrl": "",
      "userId": "03862132237162494275"
     },
     "user_tz": 300
    },
    "id": "okvOCl19Lq47",
    "outputId": "fd61aa02-fbfb-44b1-8bef-46b5bc75e7db"
   },
   "outputs": [
    {
     "data": {
      "text/html": [
       "<div>\n",
       "<style scoped>\n",
       "    .dataframe tbody tr th:only-of-type {\n",
       "        vertical-align: middle;\n",
       "    }\n",
       "\n",
       "    .dataframe tbody tr th {\n",
       "        vertical-align: top;\n",
       "    }\n",
       "\n",
       "    .dataframe thead th {\n",
       "        text-align: right;\n",
       "    }\n",
       "</style>\n",
       "<table border=\"1\" class=\"dataframe\">\n",
       "  <thead>\n",
       "    <tr style=\"text-align: right;\">\n",
       "      <th></th>\n",
       "      <th>urgent_subj</th>\n",
       "    </tr>\n",
       "  </thead>\n",
       "  <tbody>\n",
       "    <tr>\n",
       "      <th>0</th>\n",
       "      <td>3914</td>\n",
       "    </tr>\n",
       "    <tr>\n",
       "      <th>1</th>\n",
       "      <td>7</td>\n",
       "    </tr>\n",
       "  </tbody>\n",
       "</table>\n",
       "</div>"
      ],
      "text/plain": [
       "   urgent_subj\n",
       "0         3914\n",
       "1            7"
      ]
     },
     "execution_count": 51,
     "metadata": {},
     "output_type": "execute_result"
    }
   ],
   "source": [
    "pd.DataFrame(emails['urgent_subj'].value_counts())"
   ]
  },
  {
   "cell_type": "code",
   "execution_count": 52,
   "metadata": {
    "colab": {
     "base_uri": "https://localhost:8080/",
     "height": 111
    },
    "executionInfo": {
     "elapsed": 14723,
     "status": "ok",
     "timestamp": 1607486110572,
     "user": {
      "displayName": "Greg Carmean",
      "photoUrl": "",
      "userId": "03862132237162494275"
     },
     "user_tz": 300
    },
    "id": "32B1MmSiLy3w",
    "outputId": "0e475de5-d7f8-484d-bc4d-2621d15f2287"
   },
   "outputs": [
    {
     "data": {
      "text/html": [
       "<div>\n",
       "<style scoped>\n",
       "    .dataframe tbody tr th:only-of-type {\n",
       "        vertical-align: middle;\n",
       "    }\n",
       "\n",
       "    .dataframe tbody tr th {\n",
       "        vertical-align: top;\n",
       "    }\n",
       "\n",
       "    .dataframe thead th {\n",
       "        text-align: right;\n",
       "    }\n",
       "</style>\n",
       "<table border=\"1\" class=\"dataframe\">\n",
       "  <thead>\n",
       "    <tr style=\"text-align: right;\">\n",
       "      <th></th>\n",
       "      <th>urgent_subj</th>\n",
       "    </tr>\n",
       "  </thead>\n",
       "  <tbody>\n",
       "    <tr>\n",
       "      <th>0</th>\n",
       "      <td>0.998215</td>\n",
       "    </tr>\n",
       "    <tr>\n",
       "      <th>1</th>\n",
       "      <td>0.001785</td>\n",
       "    </tr>\n",
       "  </tbody>\n",
       "</table>\n",
       "</div>"
      ],
      "text/plain": [
       "   urgent_subj\n",
       "0     0.998215\n",
       "1     0.001785"
      ]
     },
     "execution_count": 52,
     "metadata": {},
     "output_type": "execute_result"
    }
   ],
   "source": [
    "pd.DataFrame(emails['urgent_subj'].value_counts(normalize=True))"
   ]
  },
  {
   "cell_type": "markdown",
   "metadata": {
    "id": "bDUKXjv2L2Vd"
   },
   "source": [
    "Only 7 emails have urgent in the subject line. Maybe those emails were indeed urgent after all and people reserve the \"urgent\" keywords for truly urgent matters. Even if the pairwise comparison reveals a relationship to spam, it may be difficult to train a model with so few examples.\n",
    "\n",
    "**NOTE regarding: format, re_subj, exclaim_subj, urgent_subj**\n",
    "    \n",
    "Based on the variable descriptions these variables are all binary. Hence, there was not much we can do here but print out their variable descriptions and frequencies.\n",
    "\n",
    "Bearing in mind that only 9% of emails are labeled spam we probably want to focus on the lower frequency binary variables like exclaim_subj and urgent_subj as they have a lower likelihood of giving us false positives."
   ]
  },
  {
   "cell_type": "markdown",
   "metadata": {
    "id": "BtgSIT4Z9Ojj"
   },
   "source": [
    "### 2.1.20 exclaim_mess"
   ]
  },
  {
   "cell_type": "markdown",
   "metadata": {
    "id": "wL3xluAsL5vo"
   },
   "source": [
    "This variable is the count of exclamation points in the message. It should be a positive integers and relatively small. We'd expect most email threads to have < 20 exclamation points. "
   ]
  },
  {
   "cell_type": "code",
   "execution_count": 53,
   "metadata": {
    "colab": {
     "base_uri": "https://localhost:8080/"
    },
    "executionInfo": {
     "elapsed": 14697,
     "status": "ok",
     "timestamp": 1607486110573,
     "user": {
      "displayName": "Greg Carmean",
      "photoUrl": "",
      "userId": "03862132237162494275"
     },
     "user_tz": 300
    },
    "id": "ZThNAJXXL0Kd",
    "outputId": "47ed87f4-fa1f-411a-e047-3bc77ae3b88d"
   },
   "outputs": [
    {
     "data": {
      "text/plain": [
       "count    3921.000000\n",
       "mean        6.584290\n",
       "std        51.479871\n",
       "min         0.000000\n",
       "25%         0.000000\n",
       "50%         1.000000\n",
       "75%         4.000000\n",
       "max      1236.000000\n",
       "Name: exclaim_mess, dtype: float64"
      ]
     },
     "execution_count": 53,
     "metadata": {},
     "output_type": "execute_result"
    }
   ],
   "source": [
    "emails['exclaim_mess'].describe()"
   ]
  },
  {
   "cell_type": "code",
   "execution_count": 54,
   "metadata": {
    "colab": {
     "base_uri": "https://localhost:8080/",
     "height": 301
    },
    "executionInfo": {
     "elapsed": 15697,
     "status": "ok",
     "timestamp": 1607486111606,
     "user": {
      "displayName": "Greg Carmean",
      "photoUrl": "",
      "userId": "03862132237162494275"
     },
     "user_tz": 300
    },
    "id": "qgUksDFtL7gO",
    "outputId": "1125ea15-7159-454e-dcdc-d49eb841ae8a"
   },
   "outputs": [
    {
     "data": {
      "image/png": "[encoded data removed]",
      "text/plain": [
       "<Figure size 432x288 with 1 Axes>"
      ]
     },
     "metadata": {},
     "output_type": "display_data"
    }
   ],
   "source": [
    "fig = plt.figure()\n",
    "axes = fig.add_subplot()\n",
    "axes.hist(emails['exclaim_mess'], color=\"dimgray\",log=True)\n",
    "axes.set_xlabel('Value')\n",
    "axes.set_ylabel('Log Frequency')\n",
    "axes.set_title('Exclamation points')\n",
    "\n",
    "plt.show()"
   ]
  },
  {
   "cell_type": "markdown",
   "metadata": {
    "id": "yPJQl5lXL_Nh"
   },
   "source": [
    "As a count varible this follows an exponential distribution with the vast majority less than 100. the 75% quantile is only 4 which is very reasonable. There are a small number of high outliers that are very suspicous (400 or more exclamation points!). "
   ]
  },
  {
   "cell_type": "markdown",
   "metadata": {
    "id": "OJwXcXuT9Vew"
   },
   "source": [
    "### 2.1.21 number"
   ]
  },
  {
   "cell_type": "markdown",
   "metadata": {
    "id": "66FCupbCMBcm"
   },
   "source": [
    "The number variable is a factor variable whose three categories are; whether there was no number, a small number (under 1 million), or a big number.\n",
    "\n",
    "The first step is to look at the counts for each of the factors:"
   ]
  },
  {
   "cell_type": "code",
   "execution_count": 55,
   "metadata": {
    "colab": {
     "base_uri": "https://localhost:8080/",
     "height": 142
    },
    "executionInfo": {
     "elapsed": 15665,
     "status": "ok",
     "timestamp": 1607486111608,
     "user": {
      "displayName": "Greg Carmean",
      "photoUrl": "",
      "userId": "03862132237162494275"
     },
     "user_tz": 300
    },
    "id": "RfNmOe5ZL85F",
    "outputId": "0f600db3-5f17-4729-fdc4-719b9a0d7b97"
   },
   "outputs": [
    {
     "data": {
      "text/html": [
       "<div>\n",
       "<style scoped>\n",
       "    .dataframe tbody tr th:only-of-type {\n",
       "        vertical-align: middle;\n",
       "    }\n",
       "\n",
       "    .dataframe tbody tr th {\n",
       "        vertical-align: top;\n",
       "    }\n",
       "\n",
       "    .dataframe thead th {\n",
       "        text-align: right;\n",
       "    }\n",
       "</style>\n",
       "<table border=\"1\" class=\"dataframe\">\n",
       "  <thead>\n",
       "    <tr style=\"text-align: right;\">\n",
       "      <th></th>\n",
       "      <th>number</th>\n",
       "    </tr>\n",
       "  </thead>\n",
       "  <tbody>\n",
       "    <tr>\n",
       "      <th>small</th>\n",
       "      <td>2827</td>\n",
       "    </tr>\n",
       "    <tr>\n",
       "      <th>none</th>\n",
       "      <td>549</td>\n",
       "    </tr>\n",
       "    <tr>\n",
       "      <th>big</th>\n",
       "      <td>545</td>\n",
       "    </tr>\n",
       "  </tbody>\n",
       "</table>\n",
       "</div>"
      ],
      "text/plain": [
       "       number\n",
       "small    2827\n",
       "none      549\n",
       "big       545"
      ]
     },
     "execution_count": 55,
     "metadata": {},
     "output_type": "execute_result"
    }
   ],
   "source": [
    "pd.DataFrame(emails['number'].value_counts())"
   ]
  },
  {
   "cell_type": "code",
   "execution_count": 56,
   "metadata": {
    "colab": {
     "base_uri": "https://localhost:8080/",
     "height": 142
    },
    "executionInfo": {
     "elapsed": 15636,
     "status": "ok",
     "timestamp": 1607486111611,
     "user": {
      "displayName": "Greg Carmean",
      "photoUrl": "",
      "userId": "03862132237162494275"
     },
     "user_tz": 300
    },
    "id": "vN36bYGiMD7r",
    "outputId": "d24ef9ab-9037-431c-c158-bfaef6c0a874"
   },
   "outputs": [
    {
     "data": {
      "text/html": [
       "<div>\n",
       "<style scoped>\n",
       "    .dataframe tbody tr th:only-of-type {\n",
       "        vertical-align: middle;\n",
       "    }\n",
       "\n",
       "    .dataframe tbody tr th {\n",
       "        vertical-align: top;\n",
       "    }\n",
       "\n",
       "    .dataframe thead th {\n",
       "        text-align: right;\n",
       "    }\n",
       "</style>\n",
       "<table border=\"1\" class=\"dataframe\">\n",
       "  <thead>\n",
       "    <tr style=\"text-align: right;\">\n",
       "      <th></th>\n",
       "      <th>number</th>\n",
       "    </tr>\n",
       "  </thead>\n",
       "  <tbody>\n",
       "    <tr>\n",
       "      <th>small</th>\n",
       "      <td>0.720990</td>\n",
       "    </tr>\n",
       "    <tr>\n",
       "      <th>none</th>\n",
       "      <td>0.140015</td>\n",
       "    </tr>\n",
       "    <tr>\n",
       "      <th>big</th>\n",
       "      <td>0.138995</td>\n",
       "    </tr>\n",
       "  </tbody>\n",
       "</table>\n",
       "</div>"
      ],
      "text/plain": [
       "         number\n",
       "small  0.720990\n",
       "none   0.140015\n",
       "big    0.138995"
      ]
     },
     "execution_count": 56,
     "metadata": {},
     "output_type": "execute_result"
    }
   ],
   "source": [
    "pd.DataFrame(emails['number'].value_counts(normalize = True))"
   ]
  },
  {
   "cell_type": "markdown",
   "metadata": {
    "id": "hRbadKMZMHN0"
   },
   "source": [
    "Yes as expected roughly 86% of the entries are either small or none. This leaves ~14% containting large numbers. This is relatively close to frequency of spam emails, 9%, and should be looked at further. "
   ]
  },
  {
   "cell_type": "markdown",
   "metadata": {
    "id": "8S093W3Ju7zq"
   },
   "source": [
    "## 2.2 Pairwise EDA"
   ]
  },
  {
   "cell_type": "markdown",
   "metadata": {
    "id": "9JlGOIZUIaEF"
   },
   "source": [
    "Now that each variable has been examined individually, comparison to the spam classification and other relevant pairwise comparisons can be made. Due to the largely binary nature of the data, there are not alot of opportunities for other pairwise comparisons."
   ]
  },
  {
   "cell_type": "markdown",
   "metadata": {
    "id": "XsBMktxUwf8b"
   },
   "source": [
    "### 2.2.1 spam vs to_multiple"
   ]
  },
  {
   "cell_type": "markdown",
   "metadata": {
    "id": "lwhPX2Spyus5"
   },
   "source": [
    "The first comparison to make to the target variable, spam, is to_multiple. The prediction is if a sendor is sending out mass emails, there may be a good chance that the emails are spam. Both are categorical variables so their joint pdf can be analyzed"
   ]
  },
  {
   "cell_type": "code",
   "execution_count": 57,
   "metadata": {
    "colab": {
     "base_uri": "https://localhost:8080/"
    },
    "executionInfo": {
     "elapsed": 15610,
     "status": "ok",
     "timestamp": 1607486111613,
     "user": {
      "displayName": "Greg Carmean",
      "photoUrl": "",
      "userId": "03862132237162494275"
     },
     "user_tz": 300
    },
    "id": "fIbRhDiPyydT",
    "outputId": "1cac1e2e-1a39-4b6f-a635-040b12e90f1a"
   },
   "outputs": [
    {
     "name": "stdout",
     "output_type": "stream",
     "text": [
      "spam                0         1\n",
      "to_multiple                    \n",
      "0            0.751339  0.090538\n",
      "1            0.155062  0.003060\n"
     ]
    }
   ],
   "source": [
    "result = pd.crosstab( emails[ \"to_multiple\"], emails[ \"spam\"]).apply(lambda r: r/len(emails), axis=1)\n",
    "print( result)"
   ]
  },
  {
   "cell_type": "code",
   "execution_count": 58,
   "metadata": {
    "colab": {
     "base_uri": "https://localhost:8080/",
     "height": 355
    },
    "executionInfo": {
     "elapsed": 15584,
     "status": "ok",
     "timestamp": 1607486111616,
     "user": {
      "displayName": "Greg Carmean",
      "photoUrl": "",
      "userId": "03862132237162494275"
     },
     "user_tz": 300
    },
    "id": "6htIXZxrlQoe",
    "outputId": "4be0d47a-cde7-44bb-d858-a0773cd6befa"
   },
   "outputs": [
    {
     "ename": "ValueError",
     "evalue": "The number of FixedLocator locations (2), usually from a call to set_ticks, does not match the number of ticklabels (8).",
     "output_type": "error",
     "traceback": [
      "\u001b[1;31m---------------------------------------------------------------------------\u001b[0m",
      "\u001b[1;31mValueError\u001b[0m                                Traceback (most recent call last)",
      "\u001b[1;32m<ipython-input-58-aec31ada37c0>\u001b[0m in \u001b[0;36m<module>\u001b[1;34m\u001b[0m\n\u001b[0;32m      9\u001b[0m \u001b[0maxes\u001b[0m\u001b[1;33m.\u001b[0m\u001b[0mbar\u001b[0m\u001b[1;33m(\u001b[0m\u001b[0mx\u001b[0m\u001b[1;33m,\u001b[0m \u001b[0mcounts1\u001b[0m\u001b[1;33m,\u001b[0m \u001b[0mwidth\u001b[0m\u001b[1;33m,\u001b[0m \u001b[0mcolor\u001b[0m\u001b[1;33m=\u001b[0m\u001b[1;34m\"dimgray\"\u001b[0m\u001b[1;33m,\u001b[0m \u001b[0malign\u001b[0m\u001b[1;33m=\u001b[0m\u001b[1;34m\"center\"\u001b[0m\u001b[1;33m)\u001b[0m\u001b[1;33m\u001b[0m\u001b[1;33m\u001b[0m\u001b[0m\n\u001b[0;32m     10\u001b[0m \u001b[0maxes\u001b[0m\u001b[1;33m.\u001b[0m\u001b[0mset_xticks\u001b[0m\u001b[1;33m(\u001b[0m\u001b[0mx\u001b[0m\u001b[1;33m)\u001b[0m\u001b[1;33m\u001b[0m\u001b[1;33m\u001b[0m\u001b[0m\n\u001b[1;32m---> 11\u001b[1;33m \u001b[0maxes\u001b[0m\u001b[1;33m.\u001b[0m\u001b[0mset_xticklabels\u001b[0m\u001b[1;33m(\u001b[0m\u001b[0mcounts\u001b[0m\u001b[1;33m.\u001b[0m\u001b[0maxes\u001b[0m\u001b[1;33m[\u001b[0m\u001b[1;36m0\u001b[0m\u001b[1;33m]\u001b[0m\u001b[1;33m)\u001b[0m\u001b[1;33m\u001b[0m\u001b[1;33m\u001b[0m\u001b[0m\n\u001b[0m\u001b[0;32m     12\u001b[0m \u001b[0maxes\u001b[0m\u001b[1;33m.\u001b[0m\u001b[0mset_title\u001b[0m\u001b[1;33m(\u001b[0m \u001b[1;34m\"spam\"\u001b[0m\u001b[1;33m)\u001b[0m\u001b[1;33m\u001b[0m\u001b[1;33m\u001b[0m\u001b[0m\n\u001b[0;32m     13\u001b[0m \u001b[0maxes\u001b[0m\u001b[1;33m.\u001b[0m\u001b[0mset_xlabel\u001b[0m\u001b[1;33m(\u001b[0m\u001b[1;34m\"to_multiple?\"\u001b[0m\u001b[1;33m)\u001b[0m\u001b[1;33m\u001b[0m\u001b[1;33m\u001b[0m\u001b[0m\n",
      "\u001b[1;32m~\\.conda\\envs\\en685648\\lib\\site-packages\\matplotlib\\axes\\_base.py\u001b[0m in \u001b[0;36mwrapper\u001b[1;34m(self, *args, **kwargs)\u001b[0m\n\u001b[0;32m     61\u001b[0m \u001b[1;33m\u001b[0m\u001b[0m\n\u001b[0;32m     62\u001b[0m         \u001b[1;32mdef\u001b[0m \u001b[0mwrapper\u001b[0m\u001b[1;33m(\u001b[0m\u001b[0mself\u001b[0m\u001b[1;33m,\u001b[0m \u001b[1;33m*\u001b[0m\u001b[0margs\u001b[0m\u001b[1;33m,\u001b[0m \u001b[1;33m**\u001b[0m\u001b[0mkwargs\u001b[0m\u001b[1;33m)\u001b[0m\u001b[1;33m:\u001b[0m\u001b[1;33m\u001b[0m\u001b[1;33m\u001b[0m\u001b[0m\n\u001b[1;32m---> 63\u001b[1;33m             \u001b[1;32mreturn\u001b[0m \u001b[0mget_method\u001b[0m\u001b[1;33m(\u001b[0m\u001b[0mself\u001b[0m\u001b[1;33m)\u001b[0m\u001b[1;33m(\u001b[0m\u001b[1;33m*\u001b[0m\u001b[0margs\u001b[0m\u001b[1;33m,\u001b[0m \u001b[1;33m**\u001b[0m\u001b[0mkwargs\u001b[0m\u001b[1;33m)\u001b[0m\u001b[1;33m\u001b[0m\u001b[1;33m\u001b[0m\u001b[0m\n\u001b[0m\u001b[0;32m     64\u001b[0m \u001b[1;33m\u001b[0m\u001b[0m\n\u001b[0;32m     65\u001b[0m         \u001b[0mwrapper\u001b[0m\u001b[1;33m.\u001b[0m\u001b[0m__module__\u001b[0m \u001b[1;33m=\u001b[0m \u001b[0mowner\u001b[0m\u001b[1;33m.\u001b[0m\u001b[0m__module__\u001b[0m\u001b[1;33m\u001b[0m\u001b[1;33m\u001b[0m\u001b[0m\n",
      "\u001b[1;32m~\\.conda\\envs\\en685648\\lib\\site-packages\\matplotlib\\cbook\\deprecation.py\u001b[0m in \u001b[0;36mwrapper\u001b[1;34m(*args, **kwargs)\u001b[0m\n\u001b[0;32m    449\u001b[0m                 \u001b[1;34m\"parameter will become keyword-only %(removal)s.\"\u001b[0m\u001b[1;33m,\u001b[0m\u001b[1;33m\u001b[0m\u001b[1;33m\u001b[0m\u001b[0m\n\u001b[0;32m    450\u001b[0m                 name=name, obj_type=f\"parameter of {func.__name__}()\")\n\u001b[1;32m--> 451\u001b[1;33m         \u001b[1;32mreturn\u001b[0m \u001b[0mfunc\u001b[0m\u001b[1;33m(\u001b[0m\u001b[1;33m*\u001b[0m\u001b[0margs\u001b[0m\u001b[1;33m,\u001b[0m \u001b[1;33m**\u001b[0m\u001b[0mkwargs\u001b[0m\u001b[1;33m)\u001b[0m\u001b[1;33m\u001b[0m\u001b[1;33m\u001b[0m\u001b[0m\n\u001b[0m\u001b[0;32m    452\u001b[0m \u001b[1;33m\u001b[0m\u001b[0m\n\u001b[0;32m    453\u001b[0m     \u001b[1;32mreturn\u001b[0m \u001b[0mwrapper\u001b[0m\u001b[1;33m\u001b[0m\u001b[1;33m\u001b[0m\u001b[0m\n",
      "\u001b[1;32m~\\.conda\\envs\\en685648\\lib\\site-packages\\matplotlib\\axis.py\u001b[0m in \u001b[0;36m_set_ticklabels\u001b[1;34m(self, labels, fontdict, minor, **kwargs)\u001b[0m\n\u001b[0;32m   1791\u001b[0m         \u001b[1;32mif\u001b[0m \u001b[0mfontdict\u001b[0m \u001b[1;32mis\u001b[0m \u001b[1;32mnot\u001b[0m \u001b[1;32mNone\u001b[0m\u001b[1;33m:\u001b[0m\u001b[1;33m\u001b[0m\u001b[1;33m\u001b[0m\u001b[0m\n\u001b[0;32m   1792\u001b[0m             \u001b[0mkwargs\u001b[0m\u001b[1;33m.\u001b[0m\u001b[0mupdate\u001b[0m\u001b[1;33m(\u001b[0m\u001b[0mfontdict\u001b[0m\u001b[1;33m)\u001b[0m\u001b[1;33m\u001b[0m\u001b[1;33m\u001b[0m\u001b[0m\n\u001b[1;32m-> 1793\u001b[1;33m         \u001b[1;32mreturn\u001b[0m \u001b[0mself\u001b[0m\u001b[1;33m.\u001b[0m\u001b[0mset_ticklabels\u001b[0m\u001b[1;33m(\u001b[0m\u001b[0mlabels\u001b[0m\u001b[1;33m,\u001b[0m \u001b[0mminor\u001b[0m\u001b[1;33m=\u001b[0m\u001b[0mminor\u001b[0m\u001b[1;33m,\u001b[0m \u001b[1;33m**\u001b[0m\u001b[0mkwargs\u001b[0m\u001b[1;33m)\u001b[0m\u001b[1;33m\u001b[0m\u001b[1;33m\u001b[0m\u001b[0m\n\u001b[0m\u001b[0;32m   1794\u001b[0m \u001b[1;33m\u001b[0m\u001b[0m\n\u001b[0;32m   1795\u001b[0m     \u001b[1;33m@\u001b[0m\u001b[0mcbook\u001b[0m\u001b[1;33m.\u001b[0m\u001b[0m_make_keyword_only\u001b[0m\u001b[1;33m(\u001b[0m\u001b[1;34m\"3.2\"\u001b[0m\u001b[1;33m,\u001b[0m \u001b[1;34m\"minor\"\u001b[0m\u001b[1;33m)\u001b[0m\u001b[1;33m\u001b[0m\u001b[1;33m\u001b[0m\u001b[0m\n",
      "\u001b[1;32m~\\.conda\\envs\\en685648\\lib\\site-packages\\matplotlib\\axis.py\u001b[0m in \u001b[0;36mset_ticklabels\u001b[1;34m(self, ticklabels, minor, **kwargs)\u001b[0m\n\u001b[0;32m   1713\u001b[0m             \u001b[1;32mif\u001b[0m \u001b[0mlen\u001b[0m\u001b[1;33m(\u001b[0m\u001b[0mlocator\u001b[0m\u001b[1;33m.\u001b[0m\u001b[0mlocs\u001b[0m\u001b[1;33m)\u001b[0m \u001b[1;33m!=\u001b[0m \u001b[0mlen\u001b[0m\u001b[1;33m(\u001b[0m\u001b[0mticklabels\u001b[0m\u001b[1;33m)\u001b[0m \u001b[1;32mand\u001b[0m \u001b[0mlen\u001b[0m\u001b[1;33m(\u001b[0m\u001b[0mticklabels\u001b[0m\u001b[1;33m)\u001b[0m \u001b[1;33m!=\u001b[0m \u001b[1;36m0\u001b[0m\u001b[1;33m:\u001b[0m\u001b[1;33m\u001b[0m\u001b[1;33m\u001b[0m\u001b[0m\n\u001b[0;32m   1714\u001b[0m                 raise ValueError(\n\u001b[1;32m-> 1715\u001b[1;33m                     \u001b[1;34m\"The number of FixedLocator locations\"\u001b[0m\u001b[1;33m\u001b[0m\u001b[1;33m\u001b[0m\u001b[0m\n\u001b[0m\u001b[0;32m   1716\u001b[0m                     \u001b[1;34mf\" ({len(locator.locs)}), usually from a call to\"\u001b[0m\u001b[1;33m\u001b[0m\u001b[1;33m\u001b[0m\u001b[0m\n\u001b[0;32m   1717\u001b[0m                     \u001b[1;34m\" set_ticks, does not match\"\u001b[0m\u001b[1;33m\u001b[0m\u001b[1;33m\u001b[0m\u001b[0m\n",
      "\u001b[1;31mValueError\u001b[0m: The number of FixedLocator locations (2), usually from a call to set_ticks, does not match the number of ticklabels (8)."
     ]
    },
    {
     "data": {
      "image/png": "[encoded data removed]",
      "text/plain": [
       "<Figure size 720x360 with 1 Axes>"
      ]
     },
     "metadata": {},
     "output_type": "display_data"
    }
   ],
   "source": [
    "counts1 = emails[emails[\"spam\"]==1][\"to_multiple\"].value_counts(normalize=True).sort_index()\n",
    "counts2 = emails[emails[\"spam\"]==0][\"to_multiple\"].value_counts(normalize=True).sort_index()\n",
    "x = range( len(counts1))\n",
    "width = 1/1.5\n",
    "\n",
    "figure = plt.figure(figsize=(10, 5))\n",
    "\n",
    "axes = figure.add_subplot(1, 2, 1)\n",
    "axes.bar(x, counts1, width, color=\"dimgray\", align=\"center\")\n",
    "axes.set_xticks(x)\n",
    "axes.set_xticklabels(counts.axes[0])\n",
    "axes.set_title( \"spam\")\n",
    "axes.set_xlabel(\"to_multiple?\")\n",
    "axes.set_ylabel( \"Density\")\n",
    "axes.xaxis.grid(False)\n",
    "\n",
    "axes = figure.add_subplot(1, 2, 2)\n",
    "axes.bar(x, counts2, width, color=\"dimgray\", align=\"center\")\n",
    "axes.set_xticks(x)\n",
    "axes.set_xticklabels(counts.axes[0])\n",
    "axes.set_title( \"not spam\")\n",
    "axes.set_xlabel(\"to_multiple?\")\n",
    "axes.set_ylabel( \"Density\")\n",
    "axes.xaxis.grid(False)\n",
    "\n",
    "plt.show()\n",
    "plt.close()"
   ]
  },
  {
   "cell_type": "markdown",
   "metadata": {
    "id": "O_Sl0Rb2y0uQ"
   },
   "source": [
    "The trend differs from the original hypothesis. The global percentage of spam in the dataset is 9%, so the fact that almost none of the to_multiple emails have spam means it has no relationship to predicting whether an email is spam. However we notice that very few of the spam messages are sent to multiple people which is interesting."
   ]
  },
  {
   "cell_type": "markdown",
   "metadata": {
    "id": "AMGSqUFWwm47"
   },
   "source": [
    "### 2.2.2 spam vs from"
   ]
  },
  {
   "cell_type": "markdown",
   "metadata": {
    "id": "a7atg3Dly4EF"
   },
   "source": [
    "This comparison tracks whether the from field is filled in and whether it is spam. Since there are only 3 examples where from is not filled in, there are questions as to whether it should be considered as a predictor. However, there is a chance the small samples could show a correlation to an email being spam"
   ]
  },
  {
   "cell_type": "code",
   "execution_count": null,
   "metadata": {
    "colab": {
     "base_uri": "https://localhost:8080/"
    },
    "executionInfo": {
     "elapsed": 15557,
     "status": "ok",
     "timestamp": 1607486111617,
     "user": {
      "displayName": "Greg Carmean",
      "photoUrl": "",
      "userId": "03862132237162494275"
     },
     "user_tz": 300
    },
    "id": "Vv9c1PaWy9kn",
    "outputId": "6b46c3fd-42f7-405a-c8fa-1ad2526bb72c"
   },
   "outputs": [],
   "source": [
    "result = pd.crosstab( emails[ \"from\"], emails[ \"spam\"]).apply(lambda r: r/len(emails), axis=1)\n",
    "print( result)"
   ]
  },
  {
   "cell_type": "markdown",
   "metadata": {
    "id": "TPAsVEL1y_t5"
   },
   "source": [
    "The fact that no emails without a from line are not spam is notable, but the small number of samples makes this challenging to use in a model. "
   ]
  },
  {
   "cell_type": "markdown",
   "metadata": {
    "id": "P5X-hfv8xJKX"
   },
   "source": [
    "### 2.2.3 spam vs cc"
   ]
  },
  {
   "cell_type": "markdown",
   "metadata": {
    "id": "xB6AXg5ZzEHT"
   },
   "source": [
    "cc vs spam tracks the numbers of emails cc'ed in the email against whether or not the emails are spam. The default hypothesis is that emails with more cc's should be more likely then the global average to be spam since that is one way to get a wide distribution."
   ]
  },
  {
   "cell_type": "code",
   "execution_count": null,
   "metadata": {
    "colab": {
     "base_uri": "https://localhost:8080/"
    },
    "executionInfo": {
     "elapsed": 15527,
     "status": "ok",
     "timestamp": 1607486111618,
     "user": {
      "displayName": "Greg Carmean",
      "photoUrl": "",
      "userId": "03862132237162494275"
     },
     "user_tz": 300
    },
    "id": "ukuJ1p-lzHpL",
    "outputId": "982c7f27-1f64-4b57-a6a1-30cfb3d66313"
   },
   "outputs": [],
   "source": [
    "spamGroup = emails.groupby(\"spam\")\n",
    "ccBySpam = spamGroup[\"cc\"].describe()\n",
    "print(ccBySpam)\n",
    "print(\"IQR  =\", ccBySpam.loc[:,\"75%\"]- ccBySpam.loc[:,\"25%\"])"
   ]
  },
  {
   "cell_type": "markdown",
   "metadata": {
    "id": "tF7S1KnSzJod"
   },
   "source": [
    "The means for the spam and not spam number of cc's are similar, which provisionally disproves the hypothesis. The standard deviation is higher on the spam emails, however they're are also an order of magnitude fewer of those so more variance makes sense. "
   ]
  },
  {
   "cell_type": "markdown",
   "metadata": {
    "id": "4pTWXE3BuSSn"
   },
   "source": [
    "To make sure that we cover all our bases lets dig a little deeper into how cc relates to spam"
   ]
  },
  {
   "cell_type": "code",
   "execution_count": null,
   "metadata": {
    "colab": {
     "base_uri": "https://localhost:8080/",
     "height": 391
    },
    "executionInfo": {
     "elapsed": 16135,
     "status": "ok",
     "timestamp": 1607486112262,
     "user": {
      "displayName": "Greg Carmean",
      "photoUrl": "",
      "userId": "03862132237162494275"
     },
     "user_tz": 300
    },
    "id": "LO3SmGiuzROS",
    "outputId": "41f12980-3958-432f-f16f-e1a04bf6012b"
   },
   "outputs": [],
   "source": [
    "bins = [ i for i in range(0, 68, 1)]\n",
    "figure = plt.figure(figsize=(20, 6))\n",
    "figure.suptitle(\"Distributions of cc's by Spam Classification\")\n",
    "spams = pd.unique(emails[\"spam\"].values)\n",
    "for i, x in enumerate(spams):\n",
    "    axes = figure.add_subplot(1, 2, i + 1)\n",
    "    subdata = spamGroup[\"cc\"].get_group(x).values\n",
    "    axes.hist(subdata, bins=bins, alpha=0.75, color=\"DimGray\",density = True)\n",
    "    axes.set_title(x)\n",
    "    axes.set_ylim((0,1))\n",
    "plt.show()\n",
    "plt.close()"
   ]
  },
  {
   "cell_type": "markdown",
   "metadata": {
    "id": "sMp0O87RzVJx"
   },
   "source": [
    "There is a wider variety of cc's without spam then there are with spam at all levels. While that is to be expected when the samples are so lopsided, it presents no evidence that cc's will be useful helpful identifying spam. "
   ]
  },
  {
   "cell_type": "markdown",
   "metadata": {
    "id": "YoAy24_-92rw"
   },
   "source": [
    "The scale of the previous distribution is difficult to draw conclusions from. Lets look at a boxplot to confirm the original conclusion from the histogram"
   ]
  },
  {
   "cell_type": "code",
   "execution_count": null,
   "metadata": {
    "colab": {
     "base_uri": "https://localhost:8080/",
     "height": 338
    },
    "executionInfo": {
     "elapsed": 16103,
     "status": "ok",
     "timestamp": 1607486112264,
     "user": {
      "displayName": "Greg Carmean",
      "photoUrl": "",
      "userId": "03862132237162494275"
     },
     "user_tz": 300
    },
    "id": "dEJ8yCzFnWkT",
    "outputId": "cb11b609-407f-4e8b-e6c8-c1109a61ae32"
   },
   "outputs": [],
   "source": [
    "figure = plt.figure(figsize=(10, 5))\n",
    "\n",
    "x1 = emails[emails[\"spam\"]==1][\"cc\"]\n",
    "x2 = emails[emails[\"spam\"]==0][\"cc\"]\n",
    "\n",
    "axes = figure.add_subplot(1, 2, 1)\n",
    "patch = axes.boxplot(x1, labels=['spam'], showfliers=True, patch_artist=True, zorder=1)\n",
    "axes.set_title(\"cc vs. spam\")\n",
    "axes.set_ylabel(\"cc\")\n",
    "\n",
    "axes = figure.add_subplot(1, 2, 2)\n",
    "patch = axes.boxplot(x2, labels=['not spam'], showfliers=True, patch_artist=True, zorder=1)\n",
    "axes.set_title(\"cc vs. not spam\")\n",
    "axes.set_ylabel(\"cc\")\n",
    "\n",
    "\n",
    "plt.show()\n",
    "plt.close()"
   ]
  },
  {
   "cell_type": "markdown",
   "metadata": {
    "id": "PKT_z7BC-nBk"
   },
   "source": [
    "There doesn't seem to be any clear trends from the boxplot either.The fact that most most of the emails in the dataset don't have any cc's is distorting the plotting. A new binary categorical variable called `is_cc` will allow this to be looked at."
   ]
  },
  {
   "cell_type": "code",
   "execution_count": null,
   "metadata": {
    "id": "HuGge7Nh-3Bk"
   },
   "outputs": [],
   "source": [
    "emails[\"is_cc\"] = emails[\"cc\"].apply(lambda x: 1 if x > 0 else 0)"
   ]
  },
  {
   "cell_type": "code",
   "execution_count": null,
   "metadata": {
    "colab": {
     "base_uri": "https://localhost:8080/",
     "height": 355
    },
    "executionInfo": {
     "elapsed": 16684,
     "status": "ok",
     "timestamp": 1607486112883,
     "user": {
      "displayName": "Greg Carmean",
      "photoUrl": "",
      "userId": "03862132237162494275"
     },
     "user_tz": 300
    },
    "id": "7y8oOyai_MXE",
    "outputId": "8826da79-db9f-4e6a-c147-6dd7c0d1e4db"
   },
   "outputs": [],
   "source": [
    "counts1 = emails[emails[\"spam\"]==1][\"is_cc\"].value_counts(normalize=True).sort_index()\n",
    "counts2 = emails[emails[\"spam\"]==0][\"is_cc\"].value_counts(normalize=True).sort_index()\n",
    "x = range( len(counts1))\n",
    "width = 1/1.5\n",
    "\n",
    "figure = plt.figure(figsize=(10, 5))\n",
    "\n",
    "axes = figure.add_subplot(1, 2, 1)\n",
    "axes.bar(x, counts1, width, color=\"dimgray\", align=\"center\")\n",
    "axes.set_xticks(x)\n",
    "axes.set_xticklabels(counts.axes[0])\n",
    "axes.set_title( \"spam\")\n",
    "axes.set_xlabel(\"is_cc?\")\n",
    "axes.set_ylabel( \"Density\")\n",
    "axes.xaxis.grid(False)\n",
    "\n",
    "axes = figure.add_subplot(1, 2, 2)\n",
    "axes.bar(x, counts2, width, color=\"dimgray\", align=\"center\")\n",
    "axes.set_xticks(x)\n",
    "axes.set_xticklabels(counts.axes[0])\n",
    "axes.set_title( \"not spam\")\n",
    "axes.set_xlabel(\"is_cc?\")\n",
    "axes.set_ylabel( \"Density\")\n",
    "axes.xaxis.grid(False)\n",
    "\n",
    "plt.show()\n",
    "plt.close()"
   ]
  },
  {
   "cell_type": "markdown",
   "metadata": {
    "id": "EHLYbHEp_SbX"
   },
   "source": [
    "So it looks like the suspicion is confirmed. Most of the time no one is cc'd on an email, and the relative frequency between spam and not spam doesn't look very significant. This attribute probably isn't going to help the model very much."
   ]
  },
  {
   "cell_type": "markdown",
   "metadata": {
    "id": "7ILapq74yXkb"
   },
   "source": [
    "### 2.2.4 spam vs sent_email"
   ]
  },
  {
   "cell_type": "markdown",
   "metadata": {
    "id": "S4Dx3dPdzgO-"
   },
   "source": [
    "the sent_email variable refers to whether or not the account that sent the email had sent another email in the last 30-days. The hypothesis for this comparison is that frequent senders may be more likely to be spammers."
   ]
  },
  {
   "cell_type": "code",
   "execution_count": null,
   "metadata": {
    "colab": {
     "base_uri": "https://localhost:8080/"
    },
    "executionInfo": {
     "elapsed": 16655,
     "status": "ok",
     "timestamp": 1607486112885,
     "user": {
      "displayName": "Greg Carmean",
      "photoUrl": "",
      "userId": "03862132237162494275"
     },
     "user_tz": 300
    },
    "id": "j1bkczEKziRr",
    "outputId": "641c6cca-1ee4-44f7-f959-d837ece7489c"
   },
   "outputs": [],
   "source": [
    "result = pd.crosstab( emails[ \"sent_email\"], emails[ \"spam\"]).apply(lambda r: r/len(emails), axis=1)\n",
    "print( result)"
   ]
  },
  {
   "cell_type": "code",
   "execution_count": null,
   "metadata": {
    "colab": {
     "base_uri": "https://localhost:8080/",
     "height": 355
    },
    "executionInfo": {
     "elapsed": 16624,
     "status": "ok",
     "timestamp": 1607486112887,
     "user": {
      "displayName": "Greg Carmean",
      "photoUrl": "",
      "userId": "03862132237162494275"
     },
     "user_tz": 300
    },
    "id": "L_37di5s4TPo",
    "outputId": "2ba13df6-86f2-4efe-c18c-964bdfbb7331"
   },
   "outputs": [],
   "source": [
    "counts1 = emails[emails[\"spam\"]==1][\"sent_email\"].value_counts(normalize=True).sort_index()\n",
    "counts2 = emails[emails[\"spam\"]==0][\"sent_email\"].value_counts(normalize=True).sort_index()\n",
    "x1 = range( len(counts1))\n",
    "x2 = range( len(counts2))\n",
    "width = 1/1.5\n",
    "\n",
    "figure = plt.figure(figsize=(10, 5))\n",
    "\n",
    "axes = figure.add_subplot(1, 2, 1)\n",
    "axes.bar(x1, counts1, width, color=\"dimgray\", align=\"center\")\n",
    "axes.set_xticks(x1)\n",
    "axes.set_xticklabels(counts.axes[0])\n",
    "axes.set_title( \"spam\")\n",
    "axes.set_xlabel(\"sent_email?\")\n",
    "axes.set_ylabel( \"Density\")\n",
    "\n",
    "\n",
    "axes = figure.add_subplot(1, 2, 2)\n",
    "axes.bar(x2, counts2, width, color=\"dimgray\", align=\"center\")\n",
    "axes.set_xticks(x2)\n",
    "axes.set_xticklabels(counts.axes[0])\n",
    "axes.set_title( \"not spam\")\n",
    "axes.set_xlabel(\"sent_email?\")\n",
    "axes.set_ylabel( \"Density\")\n",
    "\n",
    "plt.show()\n",
    "\n",
    "plt.close()"
   ]
  },
  {
   "cell_type": "markdown",
   "metadata": {
    "id": "ASS95EU7zYgD"
   },
   "source": [
    "No emails that have sent another email in 30 days were used to send spam. This is an important finding, as emails that send frequent emails did not send spam, likely as spammers ditch addressed to try and beat spam filters. This is good information and will probabily contribute to the model"
   ]
  },
  {
   "cell_type": "markdown",
   "metadata": {
    "id": "VMEo_M87y0HN"
   },
   "source": [
    "### 2.2.5 spam vs time"
   ]
  },
  {
   "cell_type": "markdown",
   "metadata": {
    "id": "zpELcc5MzoMX"
   },
   "source": [
    "The day of week an email is sent may relate to whether it is spam. The hypothesis is that the weekend days should correlate to higher spam as workday days contain more work."
   ]
  },
  {
   "cell_type": "code",
   "execution_count": null,
   "metadata": {
    "colab": {
     "base_uri": "https://localhost:8080/"
    },
    "executionInfo": {
     "elapsed": 16609,
     "status": "ok",
     "timestamp": 1607486112901,
     "user": {
      "displayName": "Greg Carmean",
      "photoUrl": "",
      "userId": "03862132237162494275"
     },
     "user_tz": 300
    },
    "id": "o4pHLcq2zpRs",
    "outputId": "c734fc69-54d7-46f3-d246-4ab51973eef7"
   },
   "outputs": [],
   "source": [
    "result = pd.crosstab( emails[ \"day_of_week\"], emails[ \"spam\"]).apply(lambda r: r/len(emails), axis=1)\n",
    "print( result)"
   ]
  },
  {
   "cell_type": "markdown",
   "metadata": {
    "id": "-mHj58HyzrJy"
   },
   "source": [
    "Without other context, it appears that Tuesday (1), and Friday (4) have the most spam. For the spam to be evenly distributed, there would be 0.01337% chance an email is spam on that day. Therefore, Tuesday, Wendesday and Friday have the highest chances. However, these chances do not greatly exceed the default hypothesis. The weekend hypothesis is not substantiated by the data. "
   ]
  },
  {
   "cell_type": "markdown",
   "metadata": {
    "id": "GkVngUU-zxCQ"
   },
   "source": [
    "The hour an email is recieved may also relate to whether or not it is spam. Pandas treats this as categorical so we will look at the joint probabilities for insight."
   ]
  },
  {
   "cell_type": "code",
   "execution_count": null,
   "metadata": {
    "colab": {
     "base_uri": "https://localhost:8080/"
    },
    "executionInfo": {
     "elapsed": 16585,
     "status": "ok",
     "timestamp": 1607486112904,
     "user": {
      "displayName": "Greg Carmean",
      "photoUrl": "",
      "userId": "03862132237162494275"
     },
     "user_tz": 300
    },
    "id": "b4EMd1Zzzze-",
    "outputId": "f5e6e430-3663-433e-a04a-295d4bc591f4"
   },
   "outputs": [],
   "source": [
    "result = pd.crosstab( emails[ \"hour\"], emails[ \"spam\"]).apply(lambda r: r/len(emails), axis=1)\n",
    "print( result)"
   ]
  },
  {
   "cell_type": "markdown",
   "metadata": {
    "id": "TYRoX5naz1nc"
   },
   "source": [
    "With so many categorical variables, it may help to visualize the whole matrix as a heatmap."
   ]
  },
  {
   "cell_type": "code",
   "execution_count": null,
   "metadata": {
    "colab": {
     "base_uri": "https://localhost:8080/",
     "height": 302
    },
    "executionInfo": {
     "elapsed": 17817,
     "status": "ok",
     "timestamp": 1607486114167,
     "user": {
      "displayName": "Greg Carmean",
      "photoUrl": "",
      "userId": "03862132237162494275"
     },
     "user_tz": 300
    },
    "id": "QHvBz854z6Ft",
    "outputId": "4ca7d30c-db36-4bad-9fd5-20a29835dd08"
   },
   "outputs": [],
   "source": [
    "sns.heatmap( result,cmap=\"Blues\")"
   ]
  },
  {
   "cell_type": "markdown",
   "metadata": {
    "id": "GqGN_4vhz-aJ"
   },
   "source": [
    "What stands out initially is how many emails are received during the workday. Additionally there appears to be an up-tick in spam emails recieved in the afternoon/evening hours."
   ]
  },
  {
   "cell_type": "markdown",
   "metadata": {
    "id": "OwSs_Sn5BHbx"
   },
   "source": [
    "Another way to visualize the relationship is with a histogram of the hour when the spam is received and when the non spam emails are received."
   ]
  },
  {
   "cell_type": "code",
   "execution_count": null,
   "metadata": {
    "colab": {
     "base_uri": "https://localhost:8080/",
     "height": 355
    },
    "executionInfo": {
     "elapsed": 18076,
     "status": "ok",
     "timestamp": 1607486114457,
     "user": {
      "displayName": "Greg Carmean",
      "photoUrl": "",
      "userId": "03862132237162494275"
     },
     "user_tz": 300
    },
    "id": "zvnJgHoD5e4_",
    "outputId": "677e8fca-fd88-4e1a-b264-17769b6a188d"
   },
   "outputs": [],
   "source": [
    "counts1 = emails[emails[\"spam\"]==1][\"hour\"].value_counts(normalize=True).sort_index()\n",
    "counts2 = emails[emails[\"spam\"]==0][\"hour\"].value_counts(normalize=True).sort_index()\n",
    "x1 = range( len( counts1))\n",
    "x2 = range( len( counts2))\n",
    "width = 1/1.5\n",
    "\n",
    "figure = plt.figure(figsize=(14, 5))\n",
    "\n",
    "axes = figure.add_subplot(1, 2, 1)\n",
    "axes.bar(x1, counts1, width, color=\"dimgray\", align=\"center\")\n",
    "axes.set_xticks(x1)\n",
    "axes.set_xticklabels(counts1.axes[0])\n",
    "axes.set_title( \"spam\")\n",
    "axes.set_xlabel(\"Hour\")\n",
    "axes.set_ylabel( \"Density\")\n",
    "\n",
    "axes = figure.add_subplot(1, 2, 2)\n",
    "axes.bar(x2, counts2, width, color=\"dimgray\", align=\"center\")\n",
    "axes.set_xticks(x2)\n",
    "axes.set_xticklabels(counts.axes[0])\n",
    "axes.set_title( \"not spam\")\n",
    "axes.set_xlabel(\"Hour\")\n",
    "axes.set_ylabel( \"Density\")\n",
    "\n",
    "\n",
    "plt.show()\n",
    "plt.close()"
   ]
  },
  {
   "cell_type": "markdown",
   "metadata": {
    "id": "XGWuxrRBE4Qj"
   },
   "source": [
    "The histogram confirms that there is a difference in the distribution of spam and not spam emails by hour received. The not spam distribution looks approximately normal, centered around peak business hours. In contrast, spam looks equally likely to get sent at any time of day."
   ]
  },
  {
   "cell_type": "markdown",
   "metadata": {
    "id": "4TqvYXM20Pck"
   },
   "source": [
    "### 2.2.6 spam vs image"
   ]
  },
  {
   "cell_type": "markdown",
   "metadata": {
    "id": "QAkg_0CZ0BfP"
   },
   "source": [
    "image vs spam compares the number of images attached to emails to see whether that is a predictor of spam. The default hypothesis here is that spam would be more likely to have an image attached, that would need to be downloaded along with some malware rider."
   ]
  },
  {
   "cell_type": "code",
   "execution_count": null,
   "metadata": {
    "colab": {
     "base_uri": "https://localhost:8080/"
    },
    "executionInfo": {
     "elapsed": 18067,
     "status": "ok",
     "timestamp": 1607486114476,
     "user": {
      "displayName": "Greg Carmean",
      "photoUrl": "",
      "userId": "03862132237162494275"
     },
     "user_tz": 300
    },
    "id": "noy6rpWu0Dte",
    "outputId": "f624b7d4-efca-4c3d-d2a7-68657a7c7a5b"
   },
   "outputs": [],
   "source": [
    "imageBySpam = spamGroup[\"image\"].describe()\n",
    "print(imageBySpam)\n",
    "print(\"IQR  =\", imageBySpam.loc[:,\"75%\"]- imageBySpam.loc[:,\"25%\"])"
   ]
  },
  {
   "cell_type": "markdown",
   "metadata": {
    "id": "ibFB5XYw0HKM"
   },
   "source": [
    "The standard deviation of the not spam images makes it difficult to come to conclusions just based on the statistics."
   ]
  },
  {
   "cell_type": "markdown",
   "metadata": {
    "id": "Op-T9Bzd0L1m"
   },
   "source": [
    "The distributions may shed some more light on the relationship/"
   ]
  },
  {
   "cell_type": "code",
   "execution_count": null,
   "metadata": {
    "colab": {
     "base_uri": "https://localhost:8080/",
     "height": 338
    },
    "executionInfo": {
     "elapsed": 18039,
     "status": "ok",
     "timestamp": 1607486114478,
     "user": {
      "displayName": "Greg Carmean",
      "photoUrl": "",
      "userId": "03862132237162494275"
     },
     "user_tz": 300
    },
    "id": "cRxTcRHl7ti9",
    "outputId": "d07d1289-c330-4a15-821b-2d72c6f1ec26"
   },
   "outputs": [],
   "source": [
    "figure = plt.figure(figsize=(10, 5))\n",
    "\n",
    "x1 = emails[emails[\"spam\"]==1][\"image\"]\n",
    "x2 = emails[emails[\"spam\"]==0][\"image\"]\n",
    "\n",
    "axes = figure.add_subplot(1, 2, 1)\n",
    "patch = axes.boxplot(x1, labels=['spam'], showfliers=True, patch_artist=True, zorder=1)\n",
    "axes.set_title(\"spam\")\n",
    "axes.set_ylabel(\"image\")\n",
    "\n",
    "axes = figure.add_subplot(1, 2, 2)\n",
    "patch = axes.boxplot(x2, labels=['not spam'], showfliers=True, patch_artist=True, zorder=1)\n",
    "axes.set_title(\"not spam\")\n",
    "axes.set_ylabel(\"image\")\n",
    "\n",
    "\n",
    "plt.show()\n",
    "plt.close()"
   ]
  },
  {
   "cell_type": "markdown",
   "metadata": {
    "id": "rJ2VtHBhFO5L"
   },
   "source": [
    "It looks like emails that are spam contain *at most* one picture. This is good information to have as we can apply that threshold to the model. Unfortunately emails that do contain images seem to be the minority."
   ]
  },
  {
   "cell_type": "markdown",
   "metadata": {
    "id": "dJO-NTec1Tsc"
   },
   "source": [
    "### 2.2.7 spam vs attach"
   ]
  },
  {
   "cell_type": "markdown",
   "metadata": {
    "id": "bNEmHGNf1icE"
   },
   "source": [
    "\n",
    "This variable describes the number of attached files on the email. We are unsure if it would be expected for spam emails to have attachment or not"
   ]
  },
  {
   "cell_type": "code",
   "execution_count": null,
   "metadata": {
    "colab": {
     "base_uri": "https://localhost:8080/",
     "height": 410
    },
    "executionInfo": {
     "elapsed": 18017,
     "status": "ok",
     "timestamp": 1607486114490,
     "user": {
      "displayName": "Greg Carmean",
      "photoUrl": "",
      "userId": "03862132237162494275"
     },
     "user_tz": 300
    },
    "id": "dhrde-NZenjn",
    "outputId": "50ee2aae-1820-4137-e667-c5561f413a4e"
   },
   "outputs": [],
   "source": [
    "figure = plt.figure(figsize=(10, 6))\n",
    "\n",
    "axes = figure.add_subplot(1, 1, 1)\n",
    "axes.scatter(emails.attach, emails.spam, marker=\"o\", color=\"darkslategray\")\n",
    "\n",
    "axes.set_ylabel(\"SPAM\")\n",
    "axes.set_xlabel(\"Number of Attachments (ATTACH)\")\n",
    "axes.set_title(\"Scatter Plot of SPAM vs. ATTACH\")\n",
    "\n",
    "plt.show()\n",
    "plt.close()"
   ]
  },
  {
   "cell_type": "markdown",
   "metadata": {
    "id": "H2xVPJTAfFv1"
   },
   "source": [
    "The scatter plot does not reveal much about the relationship. A look at the spam and not spam attachment distributions in small multiples may provide a clearer view of any differences."
   ]
  },
  {
   "cell_type": "code",
   "execution_count": null,
   "metadata": {
    "colab": {
     "base_uri": "https://localhost:8080/",
     "height": 383
    },
    "executionInfo": {
     "elapsed": 18183,
     "status": "ok",
     "timestamp": 1607486114690,
     "user": {
      "displayName": "Greg Carmean",
      "photoUrl": "",
      "userId": "03862132237162494275"
     },
     "user_tz": 300
    },
    "id": "cb4eHeNsiCoM",
    "outputId": "9961548e-899e-4c15-ca92-2ce4dde4713b"
   },
   "outputs": [],
   "source": [
    "grouped = emails.groupby(\"spam\")\n",
    "\n",
    "figure = plt.figure(figsize=(20, 6))\n",
    "\n",
    "bins = [ i for i in range(0, 21, 1)]\n",
    "\n",
    "\n",
    "axes = figure.add_subplot(1, 2, 1)\n",
    "axes.hist(grouped[\"attach\"].get_group(0),bins=bins,color=\"dimgray\",density=True)\n",
    "axes.set_title(\"Not Spam attachment distribution\")\n",
    "axes.set_xlabel(\"Attatchments\")\n",
    "\n",
    "axes = figure.add_subplot(1, 2, 2)\n",
    "axes.hist(grouped[\"attach\"].get_group(1),bins=bins,color=\"dimgray\",density=True)\n",
    "axes.set_title(\"Spam attachment distribution\")\n",
    "axes.set_xlabel(\"Attatchments\")\n",
    "\n",
    "plt.show()\n",
    "plt.close()"
   ]
  },
  {
   "cell_type": "markdown",
   "metadata": {
    "id": "UtqMT_qvfK4s"
   },
   "source": [
    "The distributions show most of the spam emails happen with zero attachments. However most all of our not spam emails also have zero attachments. Therefore it does not look like attachments is a very good indicator of whether or not an email is spam."
   ]
  },
  {
   "cell_type": "markdown",
   "metadata": {
    "id": "bRO1mz_B26Dd"
   },
   "source": [
    "### 2.2.8 spam vs dollar"
   ]
  },
  {
   "cell_type": "markdown",
   "metadata": {
    "id": "F6QZMVYw3Evn"
   },
   "source": [
    "This variable describes the number of times a dollar sign or the word \"dollar\" appeared in the email. It can be expected that spam emails may contain dollar amounts, but at the same time it isn't out of the ordinary for normal emails to also have dollar signs."
   ]
  },
  {
   "cell_type": "code",
   "execution_count": null,
   "metadata": {
    "colab": {
     "base_uri": "https://localhost:8080/"
    },
    "executionInfo": {
     "elapsed": 18159,
     "status": "ok",
     "timestamp": 1607486114699,
     "user": {
      "displayName": "Greg Carmean",
      "photoUrl": "",
      "userId": "03862132237162494275"
     },
     "user_tz": 300
    },
    "id": "GQH89d5plteK",
    "outputId": "92023fc4-f598-4b18-d0ce-c6397eb3999a"
   },
   "outputs": [],
   "source": [
    "grouped_d = grouped[\"dollar\"].describe()\n",
    "print(grouped_d)\n"
   ]
  },
  {
   "cell_type": "code",
   "execution_count": null,
   "metadata": {
    "colab": {
     "base_uri": "https://localhost:8080/",
     "height": 410
    },
    "executionInfo": {
     "elapsed": 18469,
     "status": "ok",
     "timestamp": 1607486115037,
     "user": {
      "displayName": "Greg Carmean",
      "photoUrl": "",
      "userId": "03862132237162494275"
     },
     "user_tz": 300
    },
    "id": "28y52B1OfIMi",
    "outputId": "2c7864c1-89bb-4bb4-e235-7f91332cd7c6"
   },
   "outputs": [],
   "source": [
    "figure = plt.figure(figsize=(10, 6))\n",
    "\n",
    "axes = figure.add_subplot(1, 1, 1)\n",
    "axes.scatter( emails.dollar, emails.spam, marker=\"o\", color=\"dimgray\")\n",
    "\n",
    "axes.set_ylabel(\"SPAM\")\n",
    "axes.set_xlabel(\"Number of Times Dollar or $ Mentioned in Email\")\n",
    "axes.set_title(\"Scatter Plot of SPAM vs. DOLLAR\")\n",
    "\n",
    "plt.show()\n",
    "plt.close()"
   ]
  },
  {
   "cell_type": "markdown",
   "metadata": {
    "id": "iQbhat4M1vNb"
   },
   "source": [
    "This chart doesn't really provide us with any clarifying information. What we can do is look at a histogram of the data to expose the distribution of each data"
   ]
  },
  {
   "cell_type": "code",
   "execution_count": null,
   "metadata": {
    "colab": {
     "base_uri": "https://localhost:8080/",
     "height": 383
    },
    "executionInfo": {
     "elapsed": 19022,
     "status": "ok",
     "timestamp": 1607486115622,
     "user": {
      "displayName": "Greg Carmean",
      "photoUrl": "",
      "userId": "03862132237162494275"
     },
     "user_tz": 300
    },
    "id": "RZeaGwzmlFh3",
    "outputId": "142d4fa2-c967-45c3-eb16-bfb87b6323eb"
   },
   "outputs": [],
   "source": [
    "grouped = emails.groupby(\"spam\")\n",
    "\n",
    "figure = plt.figure(figsize=(20, 6))\n",
    "\n",
    "bins = [ i for i in range(0, 64, 1)]\n",
    "\n",
    "\n",
    "axes = figure.add_subplot(1, 2, 1)\n",
    "axes.hist(grouped[\"dollar\"].get_group(0),bins=bins,color=\"dimgray\",density=True)\n",
    "axes.set_title(\"Not Spam $ distribution\")\n",
    "axes.set_xlabel(\"$\")\n",
    "\n",
    "axes = figure.add_subplot(1, 2, 2)\n",
    "axes.hist(grouped[\"dollar\"].get_group(1),bins=bins,color=\"dimgray\",density=True)\n",
    "axes.set_title(\"Spam $ distribution\")\n",
    "axes.set_xlabel(\"$\")\n",
    "\n",
    "plt.show()\n",
    "plt.close()"
   ]
  },
  {
   "cell_type": "markdown",
   "metadata": {
    "id": "xhLo9W4PmTZO"
   },
   "source": [
    "It appears that spam emails and non spam emails have very similar distributions for the number of times the word dollar is mentioned. This makes it a poor indicator for whether or not an email is spam."
   ]
  },
  {
   "cell_type": "markdown",
   "metadata": {
    "id": "w6WayjB53hIk"
   },
   "source": [
    "### 2.2.9 spam vs winner"
   ]
  },
  {
   "cell_type": "markdown",
   "metadata": {
    "id": "1wxAMawM3peY"
   },
   "source": [
    "In order to compare the categorical variable winner to Spam, we can look at counts and use cross tabulation."
   ]
  },
  {
   "cell_type": "code",
   "execution_count": null,
   "metadata": {
    "colab": {
     "base_uri": "https://localhost:8080/",
     "height": 410
    },
    "executionInfo": {
     "elapsed": 19283,
     "status": "ok",
     "timestamp": 1607486115914,
     "user": {
      "displayName": "Greg Carmean",
      "photoUrl": "",
      "userId": "03862132237162494275"
     },
     "user_tz": 300
    },
    "id": "WgdR3YLmfu1Z",
    "outputId": "da5cb530-b647-4818-fc94-f37cab4c7267"
   },
   "outputs": [],
   "source": [
    "spam = emails['spam']==1\n",
    "notspam = emails['spam']==0\n",
    "spam_yes = emails[spam]\n",
    "spam_no = emails[notspam]\n",
    "\n",
    "spam_winner_counts = spam_yes[\"winner\"].value_counts()\n",
    "not_spam_winner_counts = spam_no[\"winner\"].value_counts()\n",
    "x = range( len( spam_winner_counts))\n",
    "x2 = range(len(not_spam_winner_counts))\n",
    "width = 1/1.5\n",
    "\n",
    "figure = plt.figure(figsize=(10, 6))\n",
    "\n",
    "axes = figure.add_subplot(1, 2, 1)\n",
    "axes.bar(x, spam_winner_counts, width, color=\"dimgray\", align=\"center\" )\n",
    "axes.set_xticks(x)\n",
    "axes.set_xticklabels(np.sort(spam_winner_counts.axes[0]))\n",
    "axes.set_title( \"Distribution of Winner - SPAM\")\n",
    "axes.set_ylabel( \"Counts\")\n",
    "axes.set_xlabel(\"Winner\")\n",
    "axes.xaxis.grid(False)\n",
    "\n",
    "axes = figure.add_subplot(1,2,2)\n",
    "axes.bar(x2, not_spam_winner_counts, width, color=\"dimgray\", align=\"center\" )\n",
    "axes.set_xticks(x2)\n",
    "axes.set_xticklabels(np.sort(not_spam_winner_counts.axes[0]))\n",
    "axes.set_title( \"Distribution of Winner - Not SPAM\")\n",
    "axes.set_ylabel( \"Counts\")\n",
    "axes.set_xlabel(\"Winner\")\n",
    "axes.xaxis.grid(False)\n",
    "\n",
    "plt.show()\n",
    "plt.close()"
   ]
  },
  {
   "cell_type": "code",
   "execution_count": null,
   "metadata": {
    "colab": {
     "base_uri": "https://localhost:8080/",
     "height": 142
    },
    "executionInfo": {
     "elapsed": 19406,
     "status": "ok",
     "timestamp": 1607486116069,
     "user": {
      "displayName": "Greg Carmean",
      "photoUrl": "",
      "userId": "03862132237162494275"
     },
     "user_tz": 300
    },
    "id": "nd39tWmEctV-",
    "outputId": "eb9345b8-2eef-4343-a4ba-d927ea78ea51"
   },
   "outputs": [],
   "source": [
    "pd.crosstab(emails[\"winner\"],emails[\"spam\"])"
   ]
  },
  {
   "cell_type": "markdown",
   "metadata": {
    "id": "J7TFdH-kVY3x"
   },
   "source": [
    "We can see that while not all emails with the word winner is spam, it seems to be more frequent than emails without the word winner. Lets check the relative frequencies as well."
   ]
  },
  {
   "cell_type": "code",
   "execution_count": null,
   "metadata": {
    "colab": {
     "base_uri": "https://localhost:8080/"
    },
    "executionInfo": {
     "elapsed": 19379,
     "status": "ok",
     "timestamp": 1607486116070,
     "user": {
      "displayName": "Greg Carmean",
      "photoUrl": "",
      "userId": "03862132237162494275"
     },
     "user_tz": 300
    },
    "id": "kyH7qexAeccU",
    "outputId": "c60569b8-b571-4f12-f3b1-fc1f4ccfa6ea"
   },
   "outputs": [],
   "source": [
    "result = pd.crosstab( emails[\"winner\"],emails[\"spam\"]).apply(lambda r: r/r.sum(), axis=1)\n",
    "print( result)"
   ]
  },
  {
   "cell_type": "markdown",
   "metadata": {
    "id": "uGwzWDrmfJ24"
   },
   "source": [
    "From our sample we see that 31% of the emails with the word winner are spam emails, compared to the 9% of emails without the word winner. This makes winner variable a useful feature for the model."
   ]
  },
  {
   "cell_type": "markdown",
   "metadata": {
    "id": "TkdWVOQN3-1z"
   },
   "source": [
    "### 2.2.10 spam vs inherit"
   ]
  },
  {
   "cell_type": "markdown",
   "metadata": {
    "id": "8qrq2VsU4HhL"
   },
   "source": [
    "This variable describes the number of times \"inherit\" (or an extension, such as \"inheritance\") appeared in the email."
   ]
  },
  {
   "cell_type": "code",
   "execution_count": null,
   "metadata": {
    "colab": {
     "base_uri": "https://localhost:8080/"
    },
    "executionInfo": {
     "elapsed": 19353,
     "status": "ok",
     "timestamp": 1607486116074,
     "user": {
      "displayName": "Greg Carmean",
      "photoUrl": "",
      "userId": "03862132237162494275"
     },
     "user_tz": 300
    },
    "id": "01M1p4xlmrzq",
    "outputId": "b48f685b-b9fc-4f14-bd5e-3019e0815125"
   },
   "outputs": [],
   "source": [
    "grouped_i = grouped[\"inherit\"].describe()\n",
    "print(grouped_i)"
   ]
  },
  {
   "cell_type": "code",
   "execution_count": null,
   "metadata": {
    "colab": {
     "base_uri": "https://localhost:8080/",
     "height": 383
    },
    "executionInfo": {
     "elapsed": 19927,
     "status": "ok",
     "timestamp": 1607486116678,
     "user": {
      "displayName": "Greg Carmean",
      "photoUrl": "",
      "userId": "03862132237162494275"
     },
     "user_tz": 300
    },
    "id": "Lr_ALFHGmzHw",
    "outputId": "ff1fff8e-340b-4cfd-8895-e835f766e628"
   },
   "outputs": [],
   "source": [
    "grouped = emails.groupby(\"spam\")\n",
    "\n",
    "figure = plt.figure(figsize=(20, 6))\n",
    "\n",
    "bins = [ i for i in range(0, 9, 1)]\n",
    "\n",
    "\n",
    "axes = figure.add_subplot(1, 2, 1)\n",
    "axes.hist(grouped[\"inherit\"].get_group(0),bins=bins,color=\"dimgray\",density=True)\n",
    "axes.set_title(\"Not Spam inherit distribution\")\n",
    "axes.set_xlabel(\"inherit\")\n",
    "\n",
    "axes = figure.add_subplot(1, 2, 2)\n",
    "axes.hist(grouped[\"inherit\"].get_group(1),bins=bins,color=\"dimgray\",density=True)\n",
    "axes.set_title(\"Spam inherit distribution\")\n",
    "axes.set_xlabel(\"inherit\")\n",
    "\n",
    "plt.show()\n",
    "plt.close()"
   ]
  },
  {
   "cell_type": "markdown",
   "metadata": {
    "id": "zwWe0TqjnEQe"
   },
   "source": [
    "Once again the number of \"inherit\" in the document is similar for both spam emails and non spam emails making it unuseful in classifying spam."
   ]
  },
  {
   "cell_type": "markdown",
   "metadata": {
    "id": "JN1HKPHV5DAh"
   },
   "source": [
    "### 2.2.11 spam vs viagra"
   ]
  },
  {
   "cell_type": "markdown",
   "metadata": {
    "id": "mTwgbyf95MRG"
   },
   "source": [
    "From the single variable analysis of viagra we know there is only one email in the dataset with a positive value for viagra. That datapoint is shown below."
   ]
  },
  {
   "cell_type": "code",
   "execution_count": null,
   "metadata": {
    "colab": {
     "base_uri": "https://localhost:8080/",
     "height": 134
    },
    "executionInfo": {
     "elapsed": 19897,
     "status": "ok",
     "timestamp": 1607486116680,
     "user": {
      "displayName": "Greg Carmean",
      "photoUrl": "",
      "userId": "03862132237162494275"
     },
     "user_tz": 300
    },
    "id": "FDvIe9jSgpyY",
    "outputId": "fd7f8d14-65c9-4848-da5e-e4a180da6b6c"
   },
   "outputs": [],
   "source": [
    "emails[emails[\"viagra\"] > 0]"
   ]
  },
  {
   "cell_type": "code",
   "execution_count": null,
   "metadata": {
    "colab": {
     "base_uri": "https://localhost:8080/",
     "height": 410
    },
    "executionInfo": {
     "elapsed": 20190,
     "status": "ok",
     "timestamp": 1607486117005,
     "user": {
      "displayName": "Greg Carmean",
      "photoUrl": "",
      "userId": "03862132237162494275"
     },
     "user_tz": 300
    },
    "id": "EMMgYF_VgJHh",
    "outputId": "02e18615-9a2a-43f5-e9ec-1d5475c37802"
   },
   "outputs": [],
   "source": [
    "spam_viag_counts = spam_yes[\"viagra\"].value_counts(normalize=True)\n",
    "not_spam_viag_counts = spam_no[\"viagra\"].value_counts(normalize=True)\n",
    "x = range( len( spam_viag_counts))\n",
    "x2 = range(len(not_spam_viag_counts))\n",
    "width = 1/1.5\n",
    "\n",
    "figure = plt.figure(figsize=(10, 6))\n",
    "\n",
    "axes = figure.add_subplot(1, 2, 1)\n",
    "axes.bar(x, spam_viag_counts, width, color=\"dimgray\", align=\"center\" )\n",
    "axes.set_xticks(x)\n",
    "axes.set_xticklabels(np.sort(spam_viag_counts.axes[0]))\n",
    "axes.set_title( \"Distribution of Viagra - SPAM\")\n",
    "axes.set_ylabel( \"Counts\")\n",
    "axes.set_xlabel(\"Viagra\")\n",
    "axes.xaxis.grid(False)\n",
    "\n",
    "axes = figure.add_subplot(1,2,2)\n",
    "axes.bar(x2, not_spam_viag_counts, width, color=\"dimgray\", align=\"center\" )\n",
    "axes.set_xticks(x2)\n",
    "axes.set_xticklabels(np.sort(not_spam_viag_counts.axes[0]))\n",
    "axes.set_title( \"Distribution of Viag - Not SPAM\")\n",
    "axes.set_ylabel( \"Counts\")\n",
    "axes.set_xlabel(\"Viag\")\n",
    "axes.xaxis.grid(False)\n",
    "\n",
    "plt.show()\n",
    "plt.close()"
   ]
  },
  {
   "cell_type": "markdown",
   "metadata": {
    "id": "bFwailmmbiv5"
   },
   "source": [
    "From our knowledge of spam we expect viagra to be a predictor of spam. With only one viagra email in the dataset however, it will be challenging to include in the model due to the small sample size."
   ]
  },
  {
   "cell_type": "markdown",
   "metadata": {
    "id": "amt8KQBu5amr"
   },
   "source": [
    "### 2.2.12 spam vs password"
   ]
  },
  {
   "cell_type": "markdown",
   "metadata": {
    "id": "IDSU-tzk5j9o"
   },
   "source": [
    "This variable describes the number of times \"password\" appeared in the email. Like with inheritance, it is believed that this may be linked with scam emails."
   ]
  },
  {
   "cell_type": "code",
   "execution_count": null,
   "metadata": {
    "colab": {
     "base_uri": "https://localhost:8080/"
    },
    "executionInfo": {
     "elapsed": 20164,
     "status": "ok",
     "timestamp": 1607486117007,
     "user": {
      "displayName": "Greg Carmean",
      "photoUrl": "",
      "userId": "03862132237162494275"
     },
     "user_tz": 300
    },
    "id": "LX2suF18oD6Q",
    "outputId": "1a1ea2a3-b9c2-4b71-d4a3-6568d02813f2"
   },
   "outputs": [],
   "source": [
    "grouped_p = grouped[\"password\"].describe()\n",
    "print(grouped_p)"
   ]
  },
  {
   "cell_type": "code",
   "execution_count": null,
   "metadata": {
    "colab": {
     "base_uri": "https://localhost:8080/",
     "height": 410
    },
    "executionInfo": {
     "elapsed": 20586,
     "status": "ok",
     "timestamp": 1607486117459,
     "user": {
      "displayName": "Greg Carmean",
      "photoUrl": "",
      "userId": "03862132237162494275"
     },
     "user_tz": 300
    },
    "id": "heMhwQxqgC5T",
    "outputId": "ca193f14-a105-4efd-b681-9318f7f48622"
   },
   "outputs": [],
   "source": [
    "spam_password_counts = spam_yes[\"password\"].value_counts(normalize=True)\n",
    "not_spam_password_counts = spam_no[\"password\"].value_counts(normalize=True)\n",
    "x = range( len( spam_password_counts))\n",
    "x2 = range(len(not_spam_password_counts))\n",
    "width = 1/1.5\n",
    "\n",
    "figure = plt.figure(figsize=(10, 6))\n",
    "\n",
    "axes = figure.add_subplot(1, 2, 1)\n",
    "axes.bar(x, spam_password_counts, width, color=\"dimgray\", align=\"center\" )\n",
    "axes.set_xticks(x)\n",
    "axes.set_xticklabels(np.sort(spam_password_counts.axes[0]))\n",
    "axes.set_title( \"Distribution of Password - SPAM\")\n",
    "axes.set_ylabel( \"Counts\")\n",
    "axes.set_xlabel(\"Password\")\n",
    "axes.xaxis.grid(False)\n",
    "\n",
    "axes = figure.add_subplot(1,2,2)\n",
    "axes.bar(x2, not_spam_password_counts, width, color=\"dimgray\", align=\"center\" )\n",
    "axes.set_xticks(x2)\n",
    "axes.set_xticklabels(np.sort(not_spam_password_counts.axes[0]))\n",
    "axes.set_title( \"Distribution of password - Not SPAM\")\n",
    "axes.set_ylabel( \"Counts\")\n",
    "axes.set_xlabel(\"Password\")\n",
    "axes.xaxis.grid(False)\n",
    "\n",
    "plt.show()\n",
    "plt.close()"
   ]
  },
  {
   "cell_type": "markdown",
   "metadata": {
    "id": "H8XRVnHMgU3B"
   },
   "source": [
    "It doesn't look like Password is very promissing for trying to predict whether or not something is spam. Most of our values greater than zero are in the not spam population, and the vast majority of the spam and not spam emails do not mention password. "
   ]
  },
  {
   "cell_type": "markdown",
   "metadata": {
    "id": "JjM-8LQV52mh"
   },
   "source": [
    "### 2.2.13 spam vs num_char"
   ]
  },
  {
   "cell_type": "markdown",
   "metadata": {
    "id": "_OJ0bS1P59zF"
   },
   "source": [
    "This variable describes the number of characters in the email, in thousands. The hypothesis is that there will be no discernable relationship between the number of characters in an email and whether or not it is spam."
   ]
  },
  {
   "cell_type": "code",
   "execution_count": null,
   "metadata": {
    "colab": {
     "base_uri": "https://localhost:8080/",
     "height": 380
    },
    "executionInfo": {
     "elapsed": 21620,
     "status": "ok",
     "timestamp": 1607486118529,
     "user": {
      "displayName": "Greg Carmean",
      "photoUrl": "",
      "userId": "03862132237162494275"
     },
     "user_tz": 300
    },
    "id": "Q1HAosMQpb-G",
    "outputId": "889630c8-4e59-46ca-d25f-5bfdd7a35d04"
   },
   "outputs": [],
   "source": [
    "grouped = emails.groupby(\"spam\")\n",
    "\n",
    "figure = plt.figure(figsize=(20, 6))\n",
    "\n",
    "bins = [ i for i in range(0, 75, 1)]\n",
    "\n",
    "\n",
    "axes = figure.add_subplot(1, 2, 1)\n",
    "axes.hist(grouped[\"num_char\"].get_group(0),bins=bins,color=\"dimgray\",density=True)\n",
    "axes.set_title(\"Not Spam num_char distribution\")\n",
    "axes.set_xlabel(\"num_char\")\n",
    "\n",
    "axes = figure.add_subplot(1, 2, 2)\n",
    "axes.hist(grouped[\"num_char\"].get_group(1),bins=bins,color=\"dimgray\",density=True)\n",
    "axes.set_title(\"Spam num_char distribution\")\n",
    "axes.set_xlabel(\"num_char\")\n",
    "\n",
    "plt.show()\n",
    "plt.close()"
   ]
  },
  {
   "cell_type": "markdown",
   "metadata": {
    "id": "Wl4nXixop0aN"
   },
   "source": [
    "Once again it seems like both spam and not spam emails follow a similar exponential distribution for the number of characters. "
   ]
  },
  {
   "cell_type": "markdown",
   "metadata": {
    "id": "FMrACSl16JTY"
   },
   "source": [
    "### 2.2.14 spam vs line_breaks"
   ]
  },
  {
   "cell_type": "markdown",
   "metadata": {
    "id": "fwGH-ome6huf"
   },
   "source": [
    "In the first EDA we saw that line breaks was exponentially distributed, let's now break down the data according to spam designation and replot histograms to see if there are any differences in distribution."
   ]
  },
  {
   "cell_type": "code",
   "execution_count": null,
   "metadata": {
    "colab": {
     "base_uri": "https://localhost:8080/",
     "height": 410
    },
    "executionInfo": {
     "elapsed": 22308,
     "status": "ok",
     "timestamp": 1607486119249,
     "user": {
      "displayName": "Greg Carmean",
      "photoUrl": "",
      "userId": "03862132237162494275"
     },
     "user_tz": 300
    },
    "id": "pMdgzKMGIsvI",
    "outputId": "22d3810f-06c9-42cf-b675-86f24b58dfc6"
   },
   "outputs": [],
   "source": [
    "no=emails[emails['spam'] == 0]\n",
    "yes=emails[emails['spam'] > 0]\n",
    "\n",
    "figure = plt.figure(figsize=(10, 6))\n",
    "axes = figure.add_subplot(1, 2, 1)\n",
    "\n",
    "axes.hist(no['line_breaks'],color=\"dimgray\", log=True)\n",
    "axes.set_xlabel('line_break Value')\n",
    "axes.set_ylabel('Log Frequency')\n",
    "axes.set_title('Not Spam')\n",
    "\n",
    "axes = figure.add_subplot(1, 2, 2)\n",
    "axes.hist(yes['line_breaks'], color=\"dimgray\", log=True)\n",
    "axes.set_xlabel('line_break Value')\n",
    "axes.set_ylabel('Log Frequency')\n",
    "axes.set_title('Spam')\n",
    "plt.show()"
   ]
  },
  {
   "cell_type": "markdown",
   "metadata": {
    "id": "hHE15AYej2La"
   },
   "source": [
    "Let's do a log conversion on the line_breaks to get a more manageable scale:"
   ]
  },
  {
   "cell_type": "code",
   "execution_count": null,
   "metadata": {
    "colab": {
     "base_uri": "https://localhost:8080/",
     "height": 299
    },
    "executionInfo": {
     "elapsed": 22280,
     "status": "ok",
     "timestamp": 1607486119252,
     "user": {
      "displayName": "Greg Carmean",
      "photoUrl": "",
      "userId": "03862132237162494275"
     },
     "user_tz": 300
    },
    "id": "SfNBob0gj51z",
    "outputId": "a5e061d4-5d58-4dd2-9cb6-48cf25e8898c"
   },
   "outputs": [],
   "source": [
    "emails['log_line_breaks'] = np.log10(emails['line_breaks'])\n",
    "fig = plt.figure()\n",
    "\n",
    "axes = fig.add_subplot()\n",
    "\n",
    "emails.boxplot(column='log_line_breaks', by='spam', ax=axes)\n",
    "axes.set_ylabel('log counts')\n",
    "axes.set_title('log line breaks vs. spam')\n",
    "\n",
    "plt.suptitle('')\n",
    "plt.show()"
   ]
  },
  {
   "cell_type": "markdown",
   "metadata": {
    "id": "5iqlRm-vkJJM"
   },
   "source": [
    "There is quite a lot of overlap, but the log transform provides some additional information as there is some separation between the spam and not spam emails."
   ]
  },
  {
   "cell_type": "markdown",
   "metadata": {
    "id": "Lqcnb4Xl6pzB"
   },
   "source": [
    "There doesn't appear to be any change in how line break is distributed according to spam or not spam. Both are exponentially distributed with approximately the same mean."
   ]
  },
  {
   "cell_type": "markdown",
   "metadata": {
    "id": "Pbbirq3v6rsA"
   },
   "source": [
    "### 2.2.15 spam vs format"
   ]
  },
  {
   "cell_type": "markdown",
   "metadata": {
    "id": "DWyw6AQDea0G"
   },
   "source": [
    "The default hypothesis is that there is not relationship between the format of the email and whether or not it is spam. "
   ]
  },
  {
   "cell_type": "code",
   "execution_count": null,
   "metadata": {
    "colab": {
     "base_uri": "https://localhost:8080/"
    },
    "executionInfo": {
     "elapsed": 22259,
     "status": "ok",
     "timestamp": 1607486119259,
     "user": {
      "displayName": "Greg Carmean",
      "photoUrl": "",
      "userId": "03862132237162494275"
     },
     "user_tz": 300
    },
    "id": "XrfkYKI1Nnbv",
    "outputId": "961fe2bd-ef32-4d05-fa71-aa5a802daffe"
   },
   "outputs": [],
   "source": [
    "emails.groupby([\"spam\",\"format\"]).size()\n"
   ]
  },
  {
   "cell_type": "markdown",
   "metadata": {
    "id": "a47z5Jpf6_vE"
   },
   "source": [
    "It looks like format is potentially interesting, there is definetly a change in frequency between spam an not spam emails."
   ]
  },
  {
   "cell_type": "markdown",
   "metadata": {
    "id": "_MTIF2fiekqX"
   },
   "source": [
    "The histograms for the spam and not spam distributions "
   ]
  },
  {
   "cell_type": "code",
   "execution_count": null,
   "metadata": {
    "colab": {
     "base_uri": "https://localhost:8080/",
     "height": 410
    },
    "executionInfo": {
     "elapsed": 22511,
     "status": "ok",
     "timestamp": 1607486119540,
     "user": {
      "displayName": "Greg Carmean",
      "photoUrl": "",
      "userId": "03862132237162494275"
     },
     "user_tz": 300
    },
    "id": "78fI8-apekI6",
    "outputId": "1ce3ce3f-63f3-490a-f51c-1e89fbed31d8"
   },
   "outputs": [],
   "source": [
    "spam_format_counts = spam_yes[\"format\"].value_counts(normalize=True)\n",
    "not_spam_format_counts = spam_no[\"format\"].value_counts(normalize=True)\n",
    "x = range( len( spam_format_counts))\n",
    "x2 = range(len(not_spam_format_counts))\n",
    "width = 1/1.5\n",
    "\n",
    "figure = plt.figure(figsize=(10, 6))\n",
    "\n",
    "axes = figure.add_subplot(1, 2, 1)\n",
    "axes.bar(x, spam_format_counts, width, color=\"dimgray\", align=\"center\" )\n",
    "axes.set_xticks(x)\n",
    "axes.set_xticklabels(np.sort(spam_format_counts.axes[0]))\n",
    "axes.set_title( \"Distribution of Format - Spam\")\n",
    "axes.set_ylabel( \"Counts\")\n",
    "axes.set_xlabel(\"Format\")\n",
    "axes.xaxis.grid(False)\n",
    "\n",
    "axes = figure.add_subplot(1,2,2)\n",
    "axes.bar(x2, not_spam_format_counts, width, color=\"dimgray\", align=\"center\" )\n",
    "axes.set_xticks(x2)\n",
    "axes.set_xticklabels(np.sort(not_spam_format_counts.axes[0]))\n",
    "axes.set_title( \"Distribution of Format - Not Spam\")\n",
    "axes.set_ylabel( \"Counts\")\n",
    "axes.set_xlabel(\"Format\")\n",
    "axes.xaxis.grid(False)\n",
    "\n",
    "plt.show()\n",
    "plt.close()"
   ]
  },
  {
   "cell_type": "markdown",
   "metadata": {
    "id": "A4SM1Q94f_SN"
   },
   "source": [
    "On a percentage basis, spam emails are closer to evenly distributed between formatted and not formatted whereas not spam emails are more heavily not formatted. This makes format potentially useful in classifying spam."
   ]
  },
  {
   "cell_type": "markdown",
   "metadata": {
    "id": "xUpQPxQc7DCW"
   },
   "source": [
    "### 2.2.16 spam vs re_subj"
   ]
  },
  {
   "cell_type": "markdown",
   "metadata": {
    "id": "wvwEjoevgoZd"
   },
   "source": [
    "The expectation is that emails with some form of \"RE:\" in them will not be spam."
   ]
  },
  {
   "cell_type": "code",
   "execution_count": null,
   "metadata": {
    "colab": {
     "base_uri": "https://localhost:8080/"
    },
    "executionInfo": {
     "elapsed": 22485,
     "status": "ok",
     "timestamp": 1607486119542,
     "user": {
      "displayName": "Greg Carmean",
      "photoUrl": "",
      "userId": "03862132237162494275"
     },
     "user_tz": 300
    },
    "id": "rhZfpI2AOtiX",
    "outputId": "998bc1a9-79b0-4e4e-b9b1-cc2df643be54"
   },
   "outputs": [],
   "source": [
    "emails.groupby([\"spam\",\"re_subj\"]).size()\n"
   ]
  },
  {
   "cell_type": "markdown",
   "metadata": {
    "id": "MqvQWuVE7WXh"
   },
   "source": [
    "The counts appear to support the hypothesis"
   ]
  },
  {
   "cell_type": "markdown",
   "metadata": {
    "id": "tyZLVvpXhG0Y"
   },
   "source": [
    "The relative counts of emails with re in the subject are visualized below"
   ]
  },
  {
   "cell_type": "code",
   "execution_count": null,
   "metadata": {
    "colab": {
     "base_uri": "https://localhost:8080/",
     "height": 410
    },
    "executionInfo": {
     "elapsed": 22867,
     "status": "ok",
     "timestamp": 1607486119954,
     "user": {
      "displayName": "Greg Carmean",
      "photoUrl": "",
      "userId": "03862132237162494275"
     },
     "user_tz": 300
    },
    "id": "wqKx1jp0hQGI",
    "outputId": "36dca6fa-1ed6-4c9c-aeb2-911f09d16c85"
   },
   "outputs": [],
   "source": [
    "spam_re_counts = spam_yes[\"re_subj\"].value_counts(normalize=True)\n",
    "not_spam_re_counts = spam_no[\"re_subj\"].value_counts(normalize=True)\n",
    "x = range( len( spam_re_counts))\n",
    "x2 = range(len(not_spam_re_counts))\n",
    "width = 1/1.5\n",
    "\n",
    "figure = plt.figure(figsize=(10, 6))\n",
    "\n",
    "axes = figure.add_subplot(1, 2, 1)\n",
    "axes.bar(x, spam_re_counts, width, color=\"dimgray\", align=\"center\" )\n",
    "axes.set_xticks(x)\n",
    "axes.set_xticklabels(np.sort(spam_re_counts.axes[0]))\n",
    "axes.set_title( \"Distribution of re_subj - Spam\")\n",
    "axes.set_ylabel( \"Counts\")\n",
    "axes.set_xlabel(\"Format\")\n",
    "axes.xaxis.grid(False)\n",
    "\n",
    "axes = figure.add_subplot(1,2,2)\n",
    "axes.bar(x2, not_spam_re_counts, width, color=\"dimgray\", align=\"center\" )\n",
    "axes.set_xticks(x2)\n",
    "axes.set_xticklabels(np.sort(not_spam_re_counts.axes[0]))\n",
    "axes.set_title( \"Distribution of re_subj - Not Spam\")\n",
    "axes.set_ylabel( \"Counts\")\n",
    "axes.set_xlabel(\"Format\")\n",
    "axes.xaxis.grid(False)\n",
    "\n",
    "plt.show()\n",
    "plt.close()"
   ]
  },
  {
   "cell_type": "markdown",
   "metadata": {
    "id": "6b5EhP2AhrXp"
   },
   "source": [
    "Very few emails with re in the subject line were spam, making this variable a useful predictor of emails that are not spam. "
   ]
  },
  {
   "cell_type": "markdown",
   "metadata": {
    "id": "3IQSQVpB7YZf"
   },
   "source": [
    "### 2.2.17 spam vs exclaim_subj"
   ]
  },
  {
   "cell_type": "markdown",
   "metadata": {
    "id": "hfEI8ogD7iG6"
   },
   "source": [
    "The expectation is that exclaimation points in the subject line will correlate to spam emails. Since this is categorical vs. categorical we will construct a cross tabular to understand the relationships:"
   ]
  },
  {
   "cell_type": "code",
   "execution_count": null,
   "metadata": {
    "colab": {
     "base_uri": "https://localhost:8080/",
     "height": 103
    },
    "executionInfo": {
     "elapsed": 23044,
     "status": "ok",
     "timestamp": 1607486120162,
     "user": {
      "displayName": "Greg Carmean",
      "photoUrl": "",
      "userId": "03862132237162494275"
     },
     "user_tz": 300
    },
    "id": "rJuHLjYyrIbB",
    "outputId": "84b8ad33-3780-44ec-b744-14f73d195b21"
   },
   "outputs": [],
   "source": [
    "exclaim_subj = pd.crosstab(emails['exclaim_subj'], emails['spam'], normalize='index')\n",
    "exclaim_subj.style.background_gradient(axis=1)"
   ]
  },
  {
   "cell_type": "markdown",
   "metadata": {
    "id": "RMQJSq8O7p2j"
   },
   "source": [
    "This varible does not seem to provide much information, reading across each row above. If there were exclaimation points in the subject line, there is 90% chance the email is not a spam.\n",
    "\n",
    "If there was NOT an excliamation point in the subject line, there is 91% change the email is not a spam as well. Contrary to the hypothesis, this variable on its own does not add information one way or the other."
   ]
  },
  {
   "cell_type": "markdown",
   "metadata": {
    "id": "3swnxWnZ7u-O"
   },
   "source": [
    "### 2.2.18 spam vs urgent_subj"
   ]
  },
  {
   "cell_type": "markdown",
   "metadata": {
    "id": "6BmEFgl28BKd"
   },
   "source": [
    "The hypothesis for emails with urgent in their subject line is that they will tend to be spam. The relative frequencies are shown below."
   ]
  },
  {
   "cell_type": "code",
   "execution_count": null,
   "metadata": {
    "colab": {
     "base_uri": "https://localhost:8080/",
     "height": 103
    },
    "executionInfo": {
     "elapsed": 23015,
     "status": "ok",
     "timestamp": 1607486120164,
     "user": {
      "displayName": "Greg Carmean",
      "photoUrl": "",
      "userId": "03862132237162494275"
     },
     "user_tz": 300
    },
    "id": "Xq01kJWhjk6c",
    "outputId": "e8d1e7de-aa46-4ceb-968d-34bc52678bbf"
   },
   "outputs": [],
   "source": [
    "urgent_subj = pd.crosstab(emails['urgent_subj'], emails['spam'], normalize='index')\n",
    "urgent_subj.style.background_gradient(axis=1)"
   ]
  },
  {
   "cell_type": "markdown",
   "metadata": {
    "id": "DZ1zuep08LhF"
   },
   "source": [
    "This relationship is a bit more useful, for while ifthere was not an urgent subject there's a good chance (91%) that this email was not a spam.However, if there was an urgent subject line, there is a 57% chance this is a spam email."
   ]
  },
  {
   "cell_type": "code",
   "execution_count": null,
   "metadata": {
    "colab": {
     "base_uri": "https://localhost:8080/"
    },
    "executionInfo": {
     "elapsed": 22989,
     "status": "ok",
     "timestamp": 1607486120166,
     "user": {
      "displayName": "Greg Carmean",
      "photoUrl": "",
      "userId": "03862132237162494275"
     },
     "user_tz": 300
    },
    "id": "j5NTCyQfRo2x",
    "outputId": "bc8776b7-9ff8-4eec-c54e-6eb7706b9978"
   },
   "outputs": [],
   "source": [
    "emails.groupby([\"spam\",\"urgent_subj\"]).size()\n"
   ]
  },
  {
   "cell_type": "markdown",
   "metadata": {
    "id": "yDO5AxD18dlf"
   },
   "source": [
    "Unfortunately, the low incidence of emails urgent in the subject line will make the relationship such as it is in the data difficult to model."
   ]
  },
  {
   "cell_type": "markdown",
   "metadata": {
    "id": "QoB6fLFO8n5Z"
   },
   "source": [
    "### 2.2.19 spam vs exclaim_mess"
   ]
  },
  {
   "cell_type": "markdown",
   "metadata": {
    "id": "DyJsEji58wkk"
   },
   "source": [
    "The default hypothesis is that more exclamation points in an email will give it a higher probability of being spam. Lets look at the histograms of the spam and not spam data."
   ]
  },
  {
   "cell_type": "code",
   "execution_count": null,
   "metadata": {
    "colab": {
     "base_uri": "https://localhost:8080/",
     "height": 410
    },
    "executionInfo": {
     "elapsed": 24090,
     "status": "ok",
     "timestamp": 1607486121297,
     "user": {
      "displayName": "Greg Carmean",
      "photoUrl": "",
      "userId": "03862132237162494275"
     },
     "user_tz": 300
    },
    "id": "xqUjW0qAS9nn",
    "outputId": "259970a1-c030-4d22-f9e8-f3d2d5f631a0"
   },
   "outputs": [],
   "source": [
    "figure = plt.figure(figsize=(10, 6))\n",
    "axes = figure.add_subplot(1, 2, 1)\n",
    "\n",
    "axes.hist(no['exclaim_mess'],color=\"dimgray\", log=True)\n",
    "axes.set_xlabel('exclaim_mess Value')\n",
    "axes.set_ylabel('Log Frequency')\n",
    "axes.set_title('Not Spam')\n",
    "\n",
    "axes = figure.add_subplot(1, 2, 2)\n",
    "axes.hist(yes['exclaim_mess'],color=\"dimgray\", log=True)\n",
    "axes.set_xlabel('exclaim_mess Value')\n",
    "axes.set_ylabel('Log Frequency')\n",
    "axes.set_title('Spam')\n",
    "plt.show()"
   ]
  },
  {
   "cell_type": "markdown",
   "metadata": {
    "id": "fFWnnWnA88qt"
   },
   "source": [
    "Counter to the hypothesis, most of the emails with large numbers of exclamation points are not spam. This variable is unlikely to be useful in the modeling. "
   ]
  },
  {
   "cell_type": "markdown",
   "metadata": {
    "id": "_5Vl1Y2g8-W1"
   },
   "source": [
    "### 2.2.20 spam vs number"
   ]
  },
  {
   "cell_type": "markdown",
   "metadata": {
    "id": "ju8t2A6Y9GqC"
   },
   "source": [
    "Lets check out number to see if if the mention of number in the email would indeed give an indication of spam or not:"
   ]
  },
  {
   "cell_type": "code",
   "execution_count": null,
   "metadata": {
    "colab": {
     "base_uri": "https://localhost:8080/"
    },
    "executionInfo": {
     "elapsed": 24063,
     "status": "ok",
     "timestamp": 1607486121299,
     "user": {
      "displayName": "Greg Carmean",
      "photoUrl": "",
      "userId": "03862132237162494275"
     },
     "user_tz": 300
    },
    "id": "HK1vq3H2UMoY",
    "outputId": "31e573f2-be2a-452a-9b93-afd67d2cef82"
   },
   "outputs": [],
   "source": [
    "emails.groupby([\"spam\",\"number\"]).size()"
   ]
  },
  {
   "cell_type": "markdown",
   "metadata": {
    "id": "FUN0T6_uUX-u"
   },
   "source": [
    "The number of \"small\" numbers in spam emails seems depleted, there is definetly a different distribution with this variable as well.  "
   ]
  },
  {
   "cell_type": "code",
   "execution_count": null,
   "metadata": {
    "colab": {
     "base_uri": "https://localhost:8080/",
     "height": 124
    },
    "executionInfo": {
     "elapsed": 24039,
     "status": "ok",
     "timestamp": 1607486121305,
     "user": {
      "displayName": "Greg Carmean",
      "photoUrl": "",
      "userId": "03862132237162494275"
     },
     "user_tz": 300
    },
    "id": "7RiDW_f6jqba",
    "outputId": "838b1656-d4a9-46d0-c3ff-5b3e1a76fcb9"
   },
   "outputs": [],
   "source": [
    "numb = pd.crosstab(emails['number'], emails['spam'], normalize='index')\n",
    "numb.style.background_gradient(axis=1)"
   ]
  },
  {
   "cell_type": "markdown",
   "metadata": {
    "id": "vZ52R5yv9M2I"
   },
   "source": [
    "The Big variable tracks the global average for spam distribution. None and small are both notable as none has a higher proportion of spam than the global average and small has a lower proportion. Those two parts of number may be useful in modeling the spam classifier."
   ]
  },
  {
   "cell_type": "markdown",
   "metadata": {
    "id": "2ggVk2xTtWjo"
   },
   "source": [
    "# 3 Logistic Model"
   ]
  },
  {
   "cell_type": "markdown",
   "metadata": {
    "id": "M2MuKSREu08Z"
   },
   "source": [
    "##3.1 Function Definitions\n",
    "Let's start by defining some useful functions from the class `models` library that will aid in the analysis."
   ]
  },
  {
   "cell_type": "code",
   "execution_count": null,
   "metadata": {
    "id": "sYa7KhTzvF7J"
   },
   "outputs": [],
   "source": [
    "\n",
    "ALGORITHMS = {\n",
    "    \"linear\": linear.LinearRegression,\n",
    "    \"ridge\": linear.Ridge,\n",
    "    \"lasso\": linear.Lasso\n",
    "}\n",
    "\n",
    "def summarize(formula, X, y, model, style='linear'):\n",
    "    result = {}\n",
    "    result[\"formula\"] = formula\n",
    "    result[\"n\"] = len(y)\n",
    "    result[\"model\"] = model\n",
    "    # I think this is a bug in Scikit Learn \n",
    "    # because lasso should work with multiple targets.\n",
    "    if style == \"lasso\":\n",
    "        result[\"coefficients\"] = model.coef_\n",
    "    else:\n",
    "        result[\"coefficients\"] =  model.coef_[0]\n",
    "    result[\"r_squared\"] = model.score( X, y)\n",
    "    y_hat = model.predict(X)\n",
    "    result[\"residuals\"] = y - y_hat\n",
    "    result[\"y_hat\"] = y_hat\n",
    "    result[\"y\"]  = y\n",
    "    sum_squared_error = sum([e**2 for e in result[ \"residuals\"]])[0]\n",
    "\n",
    "    n = len(result[\"residuals\"])\n",
    "    k = len(result[\"coefficients\"])\n",
    "    \n",
    "    result[\"sigma\"] = np.sqrt( sum_squared_error / (n - k))\n",
    "    return result\n",
    "\n",
    "def logistic( z):\n",
    "    return 1.0 / (1.0 + np.exp( -z))\n",
    "\n",
    "def logistic_regression( formula, data=None):\n",
    "    if data is None:\n",
    "        raise ValueError( \"The parameter 'data' must be assigned a non-nil reference to a Pandas DataFrame\")\n",
    "\n",
    "    result = {}\n",
    "    result[ \"formula\"] = formula\n",
    "    result[ \"n\"] = data.shape[ 0]\n",
    "\n",
    "    y, X = patsy.dmatrices( formula, data, return_type=\"matrix\")\n",
    "    y = np.ravel( y) # not sure why this is needed for LogisticRegression but not LinearRegression\n",
    "\n",
    "    model = linear.LogisticRegression( fit_intercept=False, max_iter=10000).fit( X, y)\n",
    "    result[\"model\"] = model\n",
    "\n",
    "    result[ \"coefficients\"] = model.coef_[ 0]\n",
    "\n",
    "    y_hat = model.predict( X)\n",
    "    result[ \"residuals\"] = y - y_hat\n",
    "    result[\"y_hat\"] = y_hat \n",
    "    result[\"y\"] = y\n",
    "\n",
    "    # efron's pseudo R^2\n",
    "    y_bar = np.mean(y)\n",
    "    pr = model.predict_proba(X).transpose()[1]\n",
    "    result[\"probabilities\"] = pr\n",
    "    efrons_numerator = np.sum((y - pr)**2) \n",
    "    efrons_denominator = np.sum((y-y_bar)**2)\n",
    "    result[\"r_squared\"] = 1 - (efrons_numerator/efrons_denominator)\n",
    "\n",
    "    # error rate\n",
    "    result[\"sigma\"] = np.sum(np.abs(result[\"residuals\"]))/result[\"n\"]*100\n",
    "\n",
    "    n = len( result[ \"residuals\"])\n",
    "    k = len( result[ \"coefficients\"])\n",
    "\n",
    "    return result\n",
    "\n",
    "def bootstrap_logistic_regression( formula, data=None, samples=100):\n",
    "    if data is None:\n",
    "        raise ValueError( \"The parameter 'data' must be assigned a non-nil reference to a Pandas DataFrame\")\n",
    "    \n",
    "    bootstrap_results = {}\n",
    "    bootstrap_results[ \"formula\"] = formula\n",
    "\n",
    "    variables = [x.strip() for x in formula.split(\"~\")[1].split( \"+\")]\n",
    "    variables = [\"intercept\"] + variables\n",
    "    bootstrap_results[ \"variables\"] = variables\n",
    "    \n",
    "    coeffs = []\n",
    "    sigmas = []\n",
    "    rs = []\n",
    "\n",
    "#    n = data.shape[ 0]\n",
    "    n = len(data)\n",
    "    bootstrap_results[ \"n\"] = n\n",
    "    \n",
    "    for i in range( samples):\n",
    "        sampling = data.sample(n, replace=True)\n",
    "        results = logistic_regression( formula, data=sampling)\n",
    "        coeffs.append( results[ \"coefficients\"])\n",
    "        sigmas.append( results[ \"sigma\"])\n",
    "        rs.append( results[ \"r_squared\"])\n",
    "    \n",
    "    coeffs = pd.DataFrame( coeffs, columns=variables)\n",
    "    sigmas = pd.Series( sigmas, name=\"sigma\")\n",
    "    rs = pd.Series( rs, name=\"r_squared\")\n",
    "\n",
    "    bootstrap_results[ \"resampled_coefficients\"] = coeffs\n",
    "    bootstrap_results[ \"resampled_sigma\"] = sigmas\n",
    "    bootstrap_results[ \"resampled_r^2\"] = rs\n",
    "    \n",
    "    result = logistic_regression( formula, data=data)\n",
    "    \n",
    "    bootstrap_results[ \"residuals\"] = result[ \"residuals\"]\n",
    "    bootstrap_results[ \"coefficients\"] = result[ \"coefficients\"]\n",
    "    bootstrap_results[ \"sigma\"] = result[ \"sigma\"]\n",
    "    bootstrap_results[ \"r_squared\"] = result[ \"r_squared\"]\n",
    "    bootstrap_results[\"model\"] = result[\"model\"]\n",
    "    return bootstrap_results\n",
    "\n",
    "def fmt(n, sd=2):\n",
    "    return (r\"{0:.\" + str(sd) + \"f}\").format(n)\n",
    "\n",
    "\n",
    "def boldify(xs, format):\n",
    "    if format == \"html\":\n",
    "        return [\"<strong>\" + x + \"</strong>\" if x != \"\" else \"\" for x in xs]\n",
    "    if format == \"markdown\":\n",
    "        return [\"**\" + x + \"**\" if x != \"\" else \"\" for x in xs]\n",
    "    # latex\n",
    "    return [\"\\\\textbf{\" + x + \"}\" if x != \"\" else \"\" for x in xs]\n",
    "\n",
    "\n",
    "def results_table(fit, sd=2,bootstrap=False, is_logistic=False, format=\"html\"):\n",
    "    result = {} \n",
    "    result[\"model\"] = [fit[\"formula\"]]\n",
    "\n",
    "    variables = [v.strip() for v in [\"\"] + fit[\"formula\"].split(\"~\")[1].split( \"+\")]\n",
    "    if format == 'latex':\n",
    "        variables = [v.replace(\"_\", \"\\\\_\") for v in variables]\n",
    "    coefficients = [] \n",
    "\n",
    "    if bootstrap:\n",
    "        bounds = fit[ \"resampled_coefficients\"].quantile([0.025, 0.975])\n",
    "        bounds = bounds.transpose()\n",
    "        bounds = bounds.values.tolist()\n",
    "        for i, b in enumerate(zip(variables, fit[\"coefficients\"], bounds)):\n",
    "            coefficient = [b[0], f\"$\\\\beta_{{{i}}}$\", fmt(b[1], sd), fmt(b[2][0], sd), fmt(b[2][1], sd)]\n",
    "            if is_logistic:\n",
    "                if i == 0:\n",
    "                    coefficient.append(fmt(logistic(b[1]), sd))\n",
    "                else:\n",
    "                    coefficient.append(fmt(b[1]/4, sd))\n",
    "            coefficients.append(coefficient)\n",
    "    else:\n",
    "        for i, b in enumerate(zip(variables, fit[\"coefficients\"])):\n",
    "            coefficients.append([b[0], f\"$\\\\beta_{{{i}}}$\", fmt(b[1], sd)])\n",
    "    result[\"coefficients\"] = coefficients\n",
    "\n",
    "    error = r\"$\\sigma$\"\n",
    "    r_label = r\"$R^2$\"\n",
    "    if is_logistic:\n",
    "        error = \"Error (%)\"\n",
    "        r_label = r\"Efron's $R^2$\"\n",
    "    if bootstrap:\n",
    "        sigma_bounds = stats.mstats.mquantiles( fit[ \"resampled_sigma\"], [0.025, 0.975])\n",
    "        r_bounds = stats.mstats.mquantiles( fit[ \"resampled_r^2\"], [0.025, 0.975])\n",
    "        metrics = [\n",
    "            [error, fmt(fit[\"sigma\"], sd), fmt(sigma_bounds[0], sd), fmt(sigma_bounds[1], sd)], \n",
    "            [r_label, fmt(fit[\"r_squared\"], sd), fmt(r_bounds[0], sd), fmt(r_bounds[1], sd)]]\n",
    "    else:\n",
    "        metrics = [\n",
    "            [error, fmt(fit[\"sigma\"], sd)], \n",
    "            [r_label, fmt(fit[\"r_squared\"], sd)]]\n",
    "\n",
    "    result[\"metrics\"] = metrics\n",
    "\n",
    "    title = f\"Model: {result['model'][0]}\"\n",
    "    rows = []\n",
    "    if bootstrap:\n",
    "        rows.append(boldify([\"\", \"\", \"\", \"95% BCI\"], format))\n",
    "    if is_logistic:\n",
    "        if bootstrap:\n",
    "            header = boldify([\"Coefficients\", \"\", \"Mean\", \"Lo\", \"Hi\", \"P(y=1)\"], format)\n",
    "        else:\n",
    "            header = boldify([\"Coefficients\", \"\", \"Value\"], format)\n",
    "    else:\n",
    "        if bootstrap:\n",
    "            header = boldify([\"Coefficients\", \"\", \"Mean\", \"Lo\", \"Hi\"], format)\n",
    "        else:\n",
    "            header = boldify([\"Coefficients\", \"\", \"Value\"], format)\n",
    "    rows.append(header)\n",
    "\n",
    "    for row in result[\"coefficients\"]:\n",
    "        rows.append(row)\n",
    "\n",
    "    rows.append([])\n",
    "\n",
    "    if bootstrap:\n",
    "        rows.append(boldify([\"Metrics\", \"Mean\", \"Lo\", \"Hi\"], format))\n",
    "    else:\n",
    "        rows.append(boldify([\"Metrics\", \"Value\"], format))\n",
    "    for row in result[\"metrics\"]:\n",
    "        rows.append(row)\n",
    "\n",
    "    return title, rows\n",
    "\n",
    "\n",
    "class ResultsWrapper(object):\n",
    "    def __init__(self, fit, sd=2, bootstrap=False, is_logistic=False):\n",
    "        self.fit = fit\n",
    "        self.sd = sd\n",
    "        self.bootstrap = bootstrap\n",
    "        self.is_logistic = is_logistic\n",
    "\n",
    "    def _repr_markdown_(self):\n",
    "        title, table = results_table(self.fit, self.sd, self.bootstrap, self.is_logistic, format=\"markdown\")\n",
    "        table = tabulate(table, tablefmt=\"github\")\n",
    "        markdown = title + \"\\n\" + table\n",
    "        return markdown\n",
    "\n",
    "    def _repr_html_(self):\n",
    "        title, table = results_table(self.fit, self.sd, self.bootstrap, self.is_logistic, format=\"html\")\n",
    "        table = tabulate(table, tablefmt=\"html\")\n",
    "        table = table.replace(\"&lt;strong&gt;\", \"<strong>\").replace(\"&lt;/strong&gt;\", \"</strong\")\n",
    "        return f\"<p><strong>{title}</strong><br/>{table}</p>\"\n",
    "\n",
    "    def _repr_latex_(self):\n",
    "        title, table = results_table(self.fit, self.sd, self.bootstrap, self.is_logistic, format=\"latex\")\n",
    "\n",
    "        title = title.replace(\"~\", \"$\\\\sim$\").replace(\"_\", \"\\\\_\")\n",
    "\n",
    "        table = tabulate(table, tablefmt=\"latex_booktabs\")\n",
    "        table = table.replace(\"textbackslash{}\", \"\").replace(\"\\^{}\", \"^\").replace(\"\\_\", \"_\")\n",
    "        table = table.replace(\"\\\\$\", \"$\").replace(\"\\\\{\", \"{\").replace(\"\\\\}\", \"}\")\n",
    "        latex = \"\\\\textbf{\" + title + \"}\\n\\n\" + table\n",
    "        return latex\n",
    "\n",
    "\n",
    "def print_csv(table):\n",
    "    print(\"Linear Regression\")\n",
    "    print(\"Coefficients\")\n",
    "    for item in table[\"coefficients\"]:\n",
    "        print(','.join(item))\n",
    "    print(\"Metrics\")\n",
    "    for item in table[\"metrics\"]:\n",
    "        print(','.join(item))\n",
    "    \n",
    "def simple_describe_lr(fit, sd=2):\n",
    "    return ResultsWrapper(fit, sd)\n",
    "\n",
    "def simple_describe_lgr(fit, sd=2):\n",
    "    return ResultsWrapper(fit, sd, False, True)\n",
    "\n",
    "def describe_bootstrap_lr(fit, sd=2):\n",
    "    return ResultsWrapper(fit, sd, True, False)\n",
    "\n",
    "def describe_bootstrap_lgr(fit, sd=2):\n",
    "    return ResultsWrapper(fit, sd, True, True)\n",
    "\n",
    "def strength(pr):\n",
    "    if 0 <= pr <= 0.33:\n",
    "        return \"weak\"\n",
    "    if 0.33 < pr <= 0.66:\n",
    "        return \"mixed\"\n",
    "    return \"strong\"\n",
    "\n",
    "# {\"var1\": \"+\", \"var2\": \"-\"}\n",
    "def evaluate_coefficient_predictions(predictions, result):\n",
    "    coefficients = result[\"resampled_coefficients\"].columns\n",
    "    for coefficient in coefficients:\n",
    "        if coefficient == 'intercept':\n",
    "            continue\n",
    "        if predictions[coefficient] == '+':\n",
    "            pr = np.mean(result[\"resampled_coefficients\"][coefficient] > 0)\n",
    "            print(\"{0} P(>0)={1:.3f} ({2})\".format(coefficient, pr, strength(pr)))\n",
    "        else:\n",
    "            pr = np.mean(result[\"resampled_coefficients\"][coefficient] < 0)\n",
    "            print(\"{0} P(<0)={1:.3f} ({2})\".format(coefficient, pr, strength(pr)))\n",
    "\n",
    "def adjusted_r_squared(result):\n",
    "    adjustment = (result[\"n\"] - 1)/(result[\"n\"] - len(result[\"coefficients\"]) - 1 - 1)\n",
    "    return 1 - (1 - result[\"r_squared\"]) * adjustment\n",
    "\n",
    "def correlations(data, y, xs):\n",
    "    rs = []\n",
    "    rhos = []\n",
    "    for x in xs:\n",
    "        r = stats.pearsonr(data[y], data[x])[0]\n",
    "        rs.append(r)\n",
    "        rho = stats.spearmanr(data[y], data[x])[0]\n",
    "        rhos.append(rho)\n",
    "    return pd.DataFrame({\"feature\": xs, \"r\": rs, \"rho\": rhos})\n",
    "\n",
    "def bootstrap_sample( data, f, n=100):\n",
    "    result = []\n",
    "    m = len( data)\n",
    "    for _ in range( n):\n",
    "        sample = np.random.choice( data, len(data), replace=True)\n",
    "        r = f( sample)\n",
    "        result.append( r)\n",
    "    return np.array( result)"
   ]
  },
  {
   "cell_type": "code",
   "execution_count": null,
   "metadata": {
    "id": "KbVbCmJGx-yq"
   },
   "outputs": [],
   "source": [
    "emails[\"datetime\"] = emails[\"time\"].apply(lambda x: pd.to_datetime(x))\n",
    "emails[\"hour\"] = emails[\"datetime\"].apply(lambda x: x.hour)\n",
    "emails[\"big\"] = emails[\"number\"].apply(lambda x: 1 if x=='big' else 0)\n",
    "emails[\"small\"] = emails[\"number\"].apply(lambda x: 1 if x=='small' else 0)\n",
    "emails['winner_yes'] = emails['winner'].apply(lambda x: 1 if x=='yes' else 0)"
   ]
  },
  {
   "cell_type": "markdown",
   "metadata": {
    "id": "Z3rZg-FqvtkI"
   },
   "source": [
    "## 3.2 Initial Considerations"
   ]
  },
  {
   "cell_type": "markdown",
   "metadata": {
    "id": "Lyc-BRZktnw6"
   },
   "source": [
    "Now that the single variable and pairwise EDA is complete, let's use what we learned from the preceeding sections to formulate a logistic model. The ultimate goal of this model being to successfully classify spam email."
   ]
  },
  {
   "cell_type": "markdown",
   "metadata": {
    "id": "IMX9nA7JuhpV"
   },
   "source": [
    "Let's start by summarizing section 2.2 - the findings from all the pairwise EDAs with `spam`. Using these results we can make predictions how various attributes may be affect the logistic regression model. \n",
    "\n",
    "**Attribute Summary/Predictions**\n",
    "* **to_multiple** - predict variable is not useful as spam detection, spammers can use other means to mass-blast emails\n",
    "* **from** - an empty from field is a strong predictor of spam\n",
    "* **cc** - cc's should be a predictor of spam\n",
    "* **sent_email** - not having sent an email is a predictor of a burner address which is likely to be spam\n",
    "* **image** - having images attach should not be a strong spam predictor\n",
    "* **attach** - having attachment should not be a strong spam predictor\n",
    "* **dollar** - having dollar in an email in and of itself is not a strong spam indicator\n",
    "* **winner** - winner should a spam predictor\n",
    "* **inherit** - inherit likewise should be a spam predictor\n",
    "* **viagra** - viagra is likely a spam term for most people\n",
    "* **password** - password is likely a term in spam emails\n",
    "* **num_char** - the number of character is not predicted to be related to spam emails\n",
    "* **line_breaks** - the number of line breaks should not a predictor of spam emails \n",
    "* **format** - the format of an email may indicate spam\n",
    "* **re_subj** - a response to an email is likely not spam\n",
    "* **exclaim_subj** - exclamation points seem spammy so they may be spam\n",
    "* **urgent_subj** - urgent is more likely to be a work term so not spam\n",
    "* **exclaim_mess** - not a spam predictor\n",
    "* **number** - not a spam predictor\n",
    "* **hour** - non-spam occurs more frequently during regular hours\n"
   ]
  },
  {
   "cell_type": "markdown",
   "metadata": {
    "id": "LZgg42C4wW2J"
   },
   "source": [
    "This gives us a useful starting point when deciding what attributes to include in the model, as well as how we expect them to behave. As an additional step, let's calculate the correlation coefficients and see if there are any that stand out.\n",
    "\n",
    "**Correlation Summary**"
   ]
  },
  {
   "cell_type": "code",
   "execution_count": null,
   "metadata": {
    "colab": {
     "base_uri": "https://localhost:8080/",
     "height": 638
    },
    "executionInfo": {
     "elapsed": 25687,
     "status": "ok",
     "timestamp": 1607486122991,
     "user": {
      "displayName": "Greg Carmean",
      "photoUrl": "",
      "userId": "03862132237162494275"
     },
     "user_tz": 300
    },
    "id": "U0eJSGgHutK_",
    "outputId": "0a6d2afc-6d2d-49b8-8ed1-de271f62ce1c"
   },
   "outputs": [],
   "source": [
    "correlations(emails, \"spam\", [\"to_multiple\", \"from\", \"cc\", \"sent_email\", \"image\", \"attach\",\n",
    "                              \"dollar\", \"inherit\", \"viagra\", \"password\", \"num_char\",\n",
    "                              \"line_breaks\", \"format\", \"re_subj\", \"exclaim_subj\", \"urgent_subj\", \"winner_yes\",\n",
    "                             \"exclaim_mess\",\"hour\"])"
   ]
  },
  {
   "cell_type": "markdown",
   "metadata": {
    "id": "oG3y6EUSzPUj"
   },
   "source": [
    "It seems we have quite a few negative relationships with the `spam` target variable. When it comes to **positive correlations** it seems that our strongest variables are the following:\n",
    "\n",
    "`winner_yes`\n",
    "\n",
    "`urgent_subj`\n",
    "\n",
    "`viagra`\n",
    "\n",
    "`attach`\n",
    "\n",
    "`hour`\n",
    "\n",
    "When it comes to the strongest **negative correlations** we have:\n",
    "\n",
    "`to_multiple`\n",
    "\n",
    "`sent`\n",
    "\n",
    "`num_char`\n",
    "\n",
    "`line_breaks`\n",
    "\n",
    "`format`\n",
    "\n",
    "`re_subj`"
   ]
  },
  {
   "cell_type": "markdown",
   "metadata": {
    "id": "GFdmUUPYzRtq"
   },
   "source": [
    "## 3.3 The Null Model\n",
    "\n",
    "**Null Model**"
   ]
  },
  {
   "cell_type": "markdown",
   "metadata": {
    "id": "UgTqI-hS1kMk"
   },
   "source": [
    "A useful excercise in model building is to always look at the null model. This establishes a baseline for the performance metrics that we can compare to as the model evolves. <br><br>\n",
    "\n",
    "In this case, if we were to simply guess \"not spam\" for every entry we would achieve an overall classification accuracy of $90.6\\%$. This will be accuracy number that we will endevour to beat. It is entirely based on the relative occurance of spam emails in the data set, and may not reflect how often they occur in real life.  <br><br>\n",
    "\n",
    "However, while accuracy is the most important characteristic for a user of the model, it is not the only metric that matters for assessing these models. The  **precision** and **recall** are also considered throughout the analysis, and both are 0 for the null model since there are no spam predictions."
   ]
  },
  {
   "cell_type": "markdown",
   "metadata": {
    "id": "_ai8bbia7TKp"
   },
   "source": [
    "## 3.4 Model Construction"
   ]
  },
  {
   "cell_type": "markdown",
   "metadata": {
    "id": "9zn5omqM8KQj"
   },
   "source": [
    "As a starting point, we will build a model using *all available attributes*. The primary purpose of this to check the signs and credible intervals of the regression coefficients against the initial predictions from section 3.1. From there, we may decide to remove, alter, or transform attributes as needed to improve the model."
   ]
  },
  {
   "cell_type": "code",
   "execution_count": null,
   "metadata": {
    "colab": {
     "base_uri": "https://localhost:8080/",
     "height": 621
    },
    "executionInfo": {
     "elapsed": 147233,
     "status": "ok",
     "timestamp": 1607486244569,
     "user": {
      "displayName": "Greg Carmean",
      "photoUrl": "",
      "userId": "03862132237162494275"
     },
     "user_tz": 300
    },
    "id": "y600cxSIy4U1",
    "outputId": "2eaf1865-3c02-4fc2-c255-03887e89d5ab"
   },
   "outputs": [],
   "source": [
    "model = \"spam ~ to_multiple + cc + sent_email + image +attach + dollar + winner + inherit + viagra + password + num_char + line_breaks + format + re_subj + exclaim_subj + urgent_subj + exclaim_mess + big + small + hour\"\n",
    "result1 = bootstrap_logistic_regression(model, data=emails)\n",
    "describe_bootstrap_lr(result1)"
   ]
  },
  {
   "cell_type": "markdown",
   "metadata": {
    "id": "ZPrIvy11EO0x"
   },
   "source": [
    "So the baseline performance metrics for the default model are $91.6\\%$ classification accuracy and $R^2 = 0.24$. Let's examine the signs and confidence intervals of these regression coefficients and check them against the inital assumptions."
   ]
  },
  {
   "cell_type": "markdown",
   "metadata": {
    "id": "nxq7c5988ZS7"
   },
   "source": [
    "**Checking Initial Predictions**"
   ]
  },
  {
   "cell_type": "markdown",
   "metadata": {
    "id": "WT8dPe8I3owy"
   },
   "source": [
    "* **to_multiple** - predicted positive actual positive CI does not include 0 - keep\n",
    "* **cc** - predicted positive actual negative CI does not include 0 - re-examine\n",
    "* **sent_email** - predicted positive actual positive CI includes 0 - keep\n",
    "* **image** - predicted negative actual negative CI does not include 0 - keep\n",
    "* **attach** - predicted negative actual negative CI does not include 0 - keep\n",
    "* **dollar** - predicted positive actual positive CI does not include 0 - keep\n",
    "* **winner** - predicted positive actual negative CI includes 0 - remove\n",
    "* **inherit** - predicted positive actual positve CI includes 0 - keep\n",
    "* **viagra** - predicted positive actual positive CI includes 0 - keep\n",
    "* **password** - predicted positive actual negative CI does not include 0 - re-examine\n",
    "* **num_char** - predicted negative actual positive CI includes 0 - remove\n",
    "* **line_breaks** - predicted negative actual negative CI does not include 0 - keep\n",
    "* **format** - predicted positive actual negative CI includes 0 - remove\n",
    "* **re_subj** - predicted negative actual negative CI does not include 0 - keep\n",
    "* **exclaim_subj** - predicted positive actual positive CI includes 0 - keep\n",
    "* **urgent_subj** - predicted positive actual positive CI does not include 0 - keep\n",
    "* **exclaim_mess** - predicted negative actual negative CI includes 0 - keep\n",
    "* **big** - predicted negative actual positive CI includes 0- remove\n",
    "* **small** - predicted negative actual negative CI does not include 0- keep\n",
    "* **hour** - predicted negative actual positive CI does not include 0- remove"
   ]
  },
  {
   "cell_type": "markdown",
   "metadata": {
    "id": "RVViIA4zIz5A"
   },
   "source": [
    "Let's remove the attributes we identified above from the model, and observe how the performance changes. We ended up removing these because they affected the model in the opposite way we predicted, and there is a fininte chance the coefficient could be zero."
   ]
  },
  {
   "cell_type": "code",
   "execution_count": null,
   "metadata": {
    "colab": {
     "base_uri": "https://localhost:8080/",
     "height": 516
    },
    "executionInfo": {
     "elapsed": 220174,
     "status": "ok",
     "timestamp": 1607486317541,
     "user": {
      "displayName": "Greg Carmean",
      "photoUrl": "",
      "userId": "03862132237162494275"
     },
     "user_tz": 300
    },
    "id": "ehiizcKe9rYM",
    "outputId": "d59c748f-9265-4cc8-a27b-358316502eb4"
   },
   "outputs": [],
   "source": [
    "model = \"spam ~ to_multiple + cc + sent_email + image +attach + dollar + inherit + viagra + password + line_breaks + re_subj + exclaim_subj + urgent_subj + exclaim_mess + small\"\n",
    "result2 = bootstrap_logistic_regression(model, data=emails)\n",
    "describe_bootstrap_lr(result2)"
   ]
  },
  {
   "cell_type": "markdown",
   "metadata": {
    "id": "LNTfZZuJJXLs"
   },
   "source": [
    "The performance of the model has gotten slightly worse, but it is still close to what it was considering five attributes have been removed from the model. The current performance metrics are $91.1\\%$ accuracy and $R^2 = 0.21$, which sounds good but is still only a minor improvement over the null model."
   ]
  },
  {
   "cell_type": "markdown",
   "metadata": {
    "id": "nT9sZkzZ9AJc"
   },
   "source": [
    "**Variable Transformations**"
   ]
  },
  {
   "cell_type": "markdown",
   "metadata": {
    "id": "uNsUlXoTMocd"
   },
   "source": [
    "Many of the non-categorical attributes in the data set are counting the numerical occurance of some quantity within the email. Whether that is the frequency some word such as \"winner\", or the number of other receipients cc'd on the email. It was discovered in section 1 that these attributes have mostly low values (0 or 1) with a relatively infrequent amount of higher values. This sort of distribution lends itself nicely to **logarithmic transformation**, which has the effect of spreading the data out over a more regular scale. The rule we are going to apply to the data to perform this transformation is:\n",
    "\n",
    "$x' = log(x+1)$\n",
    "\n",
    "(The +1 was included to handle the zero values). Let's apply the transformation now:"
   ]
  },
  {
   "cell_type": "code",
   "execution_count": null,
   "metadata": {
    "id": "lCBpx9pg-6TD"
   },
   "outputs": [],
   "source": [
    "emails[\"log_num_char\"] = emails[\"num_char\"].apply(lambda x: np.log(x+1))\n",
    "emails[\"log_password\"] = emails[\"password\"].apply(lambda x: np.log(x+1))\n",
    "emails[\"log_viagra\"] = emails[\"viagra\"].apply(lambda x: np.log(x+1))\n",
    "emails[\"log_inherit\"] = emails[\"inherit\"].apply(lambda x: np.log(x+1))\n",
    "emails[\"log_dollar\"] = emails[\"dollar\"].apply(lambda x: np.log(x+1))\n",
    "emails[\"log_attach\"] = emails[\"attach\"].apply(lambda x: np.log(x+1))\n",
    "emails[\"log_cc\"] = emails[\"cc\"].apply(lambda x: np.log(x+1))\n",
    "emails[\"log_image\"] = emails[\"image\"].apply(lambda x: np.log(x+1))\n",
    "emails[\"log_line_breaks\"] = emails[\"line_breaks\"].apply(lambda x: np.log(x+1))\n",
    "emails[\"log_exclaim_mess\"] = emails[\"exclaim_mess\"].apply(lambda x: np.log(x+1))"
   ]
  },
  {
   "cell_type": "markdown",
   "metadata": {
    "id": "7Jei2NlEOEFt"
   },
   "source": [
    "And now let's replace all those numeric counting attributes with their logarithmic versions and see if the model gets improved."
   ]
  },
  {
   "cell_type": "code",
   "execution_count": null,
   "metadata": {
    "colab": {
     "base_uri": "https://localhost:8080/",
     "height": 516
    },
    "executionInfo": {
     "elapsed": 230835,
     "status": "ok",
     "timestamp": 1607486328236,
     "user": {
      "displayName": "Greg Carmean",
      "photoUrl": "",
      "userId": "03862132237162494275"
     },
     "user_tz": 300
    },
    "id": "JpX57o8d-Mmx",
    "outputId": "f5523875-1af2-4bfd-c61e-2b02c5f9c9e4"
   },
   "outputs": [],
   "source": [
    "model = \"spam ~ to_multiple + log_cc + sent_email + log_image + log_attach + log_dollar + log_inherit + log_viagra + log_password + log_line_breaks + re_subj + exclaim_subj + urgent_subj + log_exclaim_mess + small\"\n",
    "result2 = bootstrap_logistic_regression(model, data=emails)\n",
    "describe_bootstrap_lr(result2)"
   ]
  },
  {
   "cell_type": "markdown",
   "metadata": {
    "id": "NvXV53ZnOl4v"
   },
   "source": [
    "The logaraithmic transformation has indeed improved the model, and we now have an accuracy of $91.6\\%$ and $R^2=0.27$. This seems to about the best a logistic model is going to do on this data set, so let's move on to generating some validation curves. So far we've been using the entire data set to train the model. **Going forward we are going to split up the data using 10 fold cross-validation, and only report the performance metrics for the test set**. This should simulate how the model will perform again new data. Furthermore we are going to look not only at overall accuracy, but precision and recall as well."
   ]
  },
  {
   "cell_type": "markdown",
   "metadata": {
    "id": "IYofk2S0Cp34"
   },
   "source": [
    "## 3.5 Learning Curve"
   ]
  },
  {
   "cell_type": "markdown",
   "metadata": {
    "id": "iI__iuyxP71G"
   },
   "source": [
    "In order to generate learning curves, the data is split up into test and training sets using 10 fold cross-validation. Then the model is built using ever increasing subsets of the data (10%, 20%, 30%...) and we look at how the resulting perfomance metrics evolve as the data set \"expands\". This process informs us whether additional data could benefit model performance, and we evaluate that by looking at the convergence of the test and training curves.\n",
    "\n",
    "In addition to overall classification accuracy, we are going to be looking at *precision* and *recall* as well. These are arguably better metrics than accuracy, since the purpose of the model is to classify spam correctly (and not non-spam).\n",
    "\n",
    "$recall = \\frac{tp}{tp + fn}$\n",
    "\n",
    "$precision = \\frac{tp}{tp+fp}$\n",
    "\n",
    "Where in plain speech, *recall* is the ratio of correctly identified spam to true spam, and *precision* is the ratio of correctly identified spam to total classified spam."
   ]
  },
  {
   "cell_type": "code",
   "execution_count": null,
   "metadata": {
    "id": "4-sYrXkre_fo"
   },
   "outputs": [],
   "source": [
    "np.random.seed([19900216])\n",
    "\n",
    "import warnings\n",
    "warnings.filterwarnings(\"ignore\")\n",
    "\n",
    "test_accuracy = []\n",
    "train_accuracy = []\n",
    "test_recall = []\n",
    "train_recall = []\n",
    "test_precision = []\n",
    "train_precision = []\n",
    "\n",
    "model = \"spam ~ to_multiple + log_cc + sent_email + log_image + log_attach + log_dollar + log_inherit + log_viagra + log_password + log_line_breaks + re_subj + exclaim_subj + urgent_subj + log_exclaim_mess + small\"\n",
    "\n",
    "for p in range(10):\n",
    "\n",
    "  emails_val = emails.sample(frac = 0.1 + 0.1*p)\n",
    "\n",
    "  kf = KFold(n_splits = 10)\n",
    "\n",
    "  test_accuracy_inner = []\n",
    "  train_accuracy_inner = [] \n",
    "  test_recall_inner = []\n",
    "  train_recall_inner = []\n",
    "  test_precision_inner = []\n",
    "  train_precision_inner = []\n",
    "\n",
    "  for train_index, test_index in kf.split(emails_val, emails_val['spam']):\n",
    "      \n",
    "      emails_train = emails_val.iloc[train_index].reset_index(drop=True)\n",
    "      emails_test =  emails_val.iloc[test_index].reset_index(drop=True) \n",
    "\n",
    "      y_train, X_train = patsy.dmatrices( model, emails_train, return_type=\"matrix\")\n",
    "      y_test, X_test = patsy.dmatrices( model, emails_test, return_type=\"matrix\")\n",
    "      y_train = np.ravel(y_train)\n",
    "      y_test = np.ravel(y_test)  \n",
    "      \n",
    "      result = linear.LogisticRegression( fit_intercept=False, max_iter=10000).fit(X_train, y_train)\n",
    "\n",
    "      train_pred = result.predict(X_train)\n",
    "      test_pred = result.predict(X_test)\n",
    "\n",
    "      train_accuracy_inner.append(1 - np.sum(np.abs(train_pred - y_train))/len(y_train))\n",
    "      test_accuracy_inner.append(1 - np.sum(np.abs(test_pred - y_test))/len(y_test))\n",
    "\n",
    "      cm = confusion_matrix( y_test, test_pred)\n",
    "      tn, fp, fn, tp = cm.ravel()\n",
    "\n",
    "      test_recall_inner.append(tp/(tp+fn))\n",
    "      test_precision_inner.append(tp/(fp+tp))\n",
    "\n",
    "      cm = confusion_matrix( y_train, train_pred)\n",
    "      tn, fp, fn, tp = cm.ravel()\n",
    "\n",
    "      train_recall_inner.append(tp/(tp+fn))\n",
    "      train_precision_inner.append(tp/(fp+tp))\n",
    "\n",
    "\n",
    "  train_accuracy.append(np.nanmean(train_accuracy_inner))\n",
    "  test_accuracy.append(np.nanmean(test_accuracy_inner))\n",
    "  train_recall.append(np.nanmean(train_recall_inner))\n",
    "  test_recall.append(np.nanmean(test_recall_inner))\n",
    "  train_precision.append(np.nanmean(train_precision_inner))\n",
    "  test_precision.append(np.nanmean(test_precision_inner))\n",
    "\n",
    "      "
   ]
  },
  {
   "cell_type": "markdown",
   "metadata": {
    "id": "0rQnDQGXR_ok"
   },
   "source": [
    "Now that the data has been generated, let's plot it up and see how close the training and test curves are to convergence. This will also inform where the model stands in regards to bias/variance tradeoff."
   ]
  },
  {
   "cell_type": "markdown",
   "metadata": {
    "id": "CJvFIFVOUDfg"
   },
   "source": [
    "**Learning Curves**"
   ]
  },
  {
   "cell_type": "code",
   "execution_count": null,
   "metadata": {
    "colab": {
     "base_uri": "https://localhost:8080/",
     "height": 1000
    },
    "executionInfo": {
     "elapsed": 242994,
     "status": "ok",
     "timestamp": 1607486340430,
     "user": {
      "displayName": "Greg Carmean",
      "photoUrl": "",
      "userId": "03862132237162494275"
     },
     "user_tz": 300
    },
    "id": "tvarqVuxh71F",
    "outputId": "fac10347-5fe7-47ba-b68e-994b89db654a"
   },
   "outputs": [],
   "source": [
    "x = [10 + 10*x for x in range(10)]\n",
    "figure = plt.figure(figsize=(8, 20))\n",
    "\n",
    "axes = figure.add_subplot(3, 1, 1)\n",
    "axes.plot(x, train_accuracy, 'o-', color=\"r\",label=\"Training score\")\n",
    "axes.plot(x, test_accuracy, 'o-', color=\"g\",label=\"Test score\")\n",
    "axes.legend(loc=\"best\")\n",
    "\n",
    "axes.set_title( \"Accuracy Learning Curve\")\n",
    "axes.set_ylabel( \"Accuracy\")\n",
    "axes.set_xlabel( \"Amount of Data Used (%)\")\n",
    "\n",
    "axes2 = figure.add_subplot(3, 1, 2)\n",
    "axes2.plot(x, train_precision, 'o-', color=\"r\",label=\"Training score\")\n",
    "axes2.plot(x, test_precision, 'o-', color=\"g\",label=\"Test score\")\n",
    "axes2.legend(loc=\"best\")\n",
    "\n",
    "axes2.set_title( \"Precision Learning Curve\")\n",
    "axes2.set_ylabel( \"Precision\")\n",
    "axes2.set_xlabel( \"Amount of Data Used (%)\")\n",
    "\n",
    "axes3 = figure.add_subplot(3, 1, 3)\n",
    "axes3.plot(x, train_recall, 'o-', color=\"r\",label=\"Training score\")\n",
    "axes3.plot(x, test_recall, 'o-', color=\"g\",label=\"Test score\")\n",
    "axes3.legend(loc=\"best\")\n",
    "\n",
    "axes3.set_title( \"Recall Learning Curve\")\n",
    "axes3.set_ylabel( \"Recall\")\n",
    "axes3.set_xlabel( \"Amount of Data Used (%)\")\n",
    "\n"
   ]
  },
  {
   "cell_type": "markdown",
   "metadata": {
    "id": "KmqRc_UlSv6C"
   },
   "source": [
    "For each of the three perfomance metrics considered (accuracy, precision and recall), the learning curves appear to have converged by the time the whole data set is used. This indicates that the model as it stands would not benefit from additional data, and that we exist in the high bias regime. The *approximate* performance levels that the curves have converged to are:\n",
    "\n",
    "$accuracy = 91.7\\%$ <br>\n",
    "$precision = 67\\%$ <br>\n",
    "$recall = 21\\%$\n",
    "\n",
    "In the next sub-section boostrapping methods will be implemented to get confidence bounds on these metrics."
   ]
  },
  {
   "cell_type": "markdown",
   "metadata": {
    "id": "3oZxvo9rvXta"
   },
   "source": [
    "## 3.6 Posterior Distribution"
   ]
  },
  {
   "cell_type": "markdown",
   "metadata": {
    "id": "u4tUrcrtUSig"
   },
   "source": [
    "Now confidence intervals will be generated for the perfomance metrics of this model. As in the last section, 10 fold cross-validation will be used on the data. For each fold the metrics will be calculated and stored in an array. This will be repeated 3 times, where the data is shuffled between each iteration. Finally, bootstrapping will be used on the resulting arrays to generate posterior distributions for accuracy, precision, and recall. (All applied to the test set/fold)"
   ]
  },
  {
   "cell_type": "code",
   "execution_count": null,
   "metadata": {
    "id": "mJz-uY2PlVpl"
   },
   "outputs": [],
   "source": [
    "import warnings\n",
    "warnings.filterwarnings(\"ignore\")\n",
    "\n",
    "test_accuracy = []\n",
    "test_recall = []\n",
    "test_precision = []\n",
    "\n",
    "model = \"spam ~ to_multiple + log_cc + sent_email + log_image + log_attach + log_dollar + log_inherit + log_viagra + log_password + log_line_breaks + re_subj + exclaim_subj + urgent_subj + log_exclaim_mess + small\"\n",
    "\n",
    "for p in range(3):\n",
    "\n",
    "  emails_val = emails.sample(frac = 1.0)\n",
    "\n",
    "  kf = KFold(n_splits = 10)\n",
    "\n",
    "  for train_index, test_index in kf.split(emails_val, emails_val['spam']):\n",
    "      \n",
    "      emails_train = emails_val.iloc[train_index].reset_index(drop=True)\n",
    "      emails_test =  emails_val.iloc[test_index].reset_index(drop=True) \n",
    "\n",
    "      y_train, X_train = patsy.dmatrices( model, emails_train, return_type=\"matrix\")\n",
    "      y_test, X_test = patsy.dmatrices( model, emails_test, return_type=\"matrix\")\n",
    "      y_train = np.ravel(y_train)\n",
    "      y_test = np.ravel(y_test)  \n",
    "      \n",
    "      result = linear.LogisticRegression( fit_intercept=False, max_iter=10000).fit(X_train, y_train)\n",
    "\n",
    "      test_pred = result.predict(X_test)\n",
    "      test_accuracy.append(1 - np.sum(np.abs(test_pred - y_test))/len(y_test))\n",
    "\n",
    "      cm = confusion_matrix( y_test, test_pred)\n",
    "      tn, fp, fn, tp = cm.ravel()\n",
    "\n",
    "      test_recall.append(tp/(tp+fn))\n",
    "      test_precision.append(tp/(fp+tp))\n",
    "      "
   ]
  },
  {
   "cell_type": "markdown",
   "metadata": {
    "id": "FXXyVJbaVD54"
   },
   "source": [
    "**Bootstrapped Posterior Distributions**"
   ]
  },
  {
   "cell_type": "code",
   "execution_count": null,
   "metadata": {
    "id": "aVPnVVPHuqzo"
   },
   "outputs": [],
   "source": [
    "posterior_accuracy = bootstrap_sample(test_accuracy, np.mean, n=500)\n",
    "posterior_precision = bootstrap_sample(test_precision, np.mean, n=500)\n",
    "posterior_recall = bootstrap_sample(test_recall, np.mean, n=500)"
   ]
  },
  {
   "cell_type": "code",
   "execution_count": null,
   "metadata": {
    "colab": {
     "base_uri": "https://localhost:8080/",
     "height": 355
    },
    "executionInfo": {
     "elapsed": 247858,
     "status": "ok",
     "timestamp": 1607486345330,
     "user": {
      "displayName": "Greg Carmean",
      "photoUrl": "",
      "userId": "03862132237162494275"
     },
     "user_tz": 300
    },
    "id": "60eXxcJdvgdU",
    "outputId": "ec0a0c12-69ca-4c90-ba54-d45cbcfd7310"
   },
   "outputs": [],
   "source": [
    "figure = plt.figure(figsize=(15, 5))\n",
    "\n",
    "axes = figure.add_subplot(1, 3, 1)\n",
    "axes.hist(posterior_accuracy, color = \"dimgray\", density=True)\n",
    "axes.set_title(\"Accuracy Posterior\")\n",
    "axes.set_xlabel(\"Accuracy\")\n",
    "axes.set_ylabel(\"Density\")\n",
    "\n",
    "axes = figure.add_subplot(1, 3, 2)\n",
    "axes.hist(posterior_precision, color = \"dimgray\", density=True)\n",
    "axes.set_title(\"Precision Posterior\")\n",
    "axes.set_xlabel(\"Precision\")\n",
    "axes.set_ylabel(\"Density\")\n",
    "\n",
    "axes = figure.add_subplot(1, 3, 3)\n",
    "axes.hist(posterior_recall, color = \"dimgray\", density=True)\n",
    "axes.set_title(\"Recall Posterior\")\n",
    "axes.set_xlabel(\"Recall\")\n",
    "axes.set_ylabel(\"Density\")\n",
    "\n",
    "\n",
    "plt.show()\n",
    "plt.close()"
   ]
  },
  {
   "cell_type": "markdown",
   "metadata": {
    "id": "S18J4QoBVwoV"
   },
   "source": [
    "Here we can see the three plots of the performance metric posterior distributions. The accuracy distribution is very tight, whereas the precision and recall are somewhat more spread out. Let's explicitly calculate the mean and 95% confidence interval for this final logistic model."
   ]
  },
  {
   "cell_type": "markdown",
   "metadata": {
    "id": "rHJRtU3s6JK5"
   },
   "source": [
    "## 3.7 Balanced Data "
   ]
  },
  {
   "cell_type": "markdown",
   "metadata": {
    "id": "wq_paEez6O-Y"
   },
   "source": [
    "The results from the posterior distributions show that the recall for the model is particulary low. It does a poor job of properly classifying the spam in the dataset. One possible cause of this that was explored is the fact that the original dataset is imbalanced, with over 90% of the data being not spam. This biases the model towards the non spam case. Balancing the training data so that the model is trained off of approximately 50% spam and 50% not spam was used to remove that balance. The goal is to improve the recall of the model with the hope that a model with better recall would also see its overall accuracy improve."
   ]
  },
  {
   "cell_type": "markdown",
   "metadata": {
    "id": "_Dcjqczj7fCy"
   },
   "source": [
    "Two approaches to dataset balancing were applied to the data, undersampling and oversampling. The undersampling approach consisted of using all of the spam training dataset and downsampling the non spam train data so they were approximately equal. There are ten unique combinations of each training data set when undersampled, and ten different training sets are considered below to understand how undersampling impacts the model."
   ]
  },
  {
   "cell_type": "code",
   "execution_count": null,
   "metadata": {
    "id": "NUQCJwHz8s49"
   },
   "outputs": [],
   "source": [
    "def StratifiedTenFoldCV(df,dataName = 'None') :\n",
    "    #initialize return variable\n",
    "    CVList = list()\n",
    "    #extract 10% of the data for tuning\n",
    "    partition = 10\n",
    "    #get counts from each class\n",
    "    uniqueClasses = pd.unique(df.spam.values)\n",
    "    classCounts = pd.DataFrame(df['spam'].value_counts()/(partition))\n",
    "    classCounts = classCounts.reset_index()\n",
    "    classCounts = classCounts.sort_values('index')\n",
    "    tempCV = pd.DataFrame(columns = df.columns)\n",
    "    #split the rest of the data equally into 5 folds\n",
    "    for cv in range(0,10):\n",
    "        partition = 10-cv\n",
    "        # #get counts from each class\n",
    "        # uniqueClasses = pd.unique(df.Class.values)\n",
    "        #determine how many from each class should go in the current cv set\n",
    "        classCounts = pd.DataFrame(df['spam'].value_counts()/(partition))\n",
    "        classCounts = classCounts.reset_index()\n",
    "        uniqueClasses = classCounts.loc[:,'index']\n",
    "        #extract data for this cv set\n",
    "        tempCV = pd.DataFrame(columns = df.columns)\n",
    "        for cl in range(0,uniqueClasses.size):\n",
    "            #create a vector to filter classes from dataset\n",
    "            weights = np.zeros(df.shape[0])\n",
    "            weights[df['spam'] == uniqueClasses[cl]] = 1\n",
    "            #normalize the weights so they can be used to filter classes in sample\n",
    "            total = sum(df['spam'] == uniqueClasses[cl])\n",
    "            weights = weights/float(total)\n",
    "            tempCV2 = df.sample(n = int(math.floor(classCounts.iloc[cl,1])),\n",
    "                                weights=weights,random_state = 100)\n",
    "            tempCV = pd.concat([tempCV,tempCV2])\n",
    "            df = df.drop(tempCV2.index)\n",
    "        #add finished cross validation dataset to the output list\n",
    "        CVList.append(tempCV)\n",
    "    #return the fully stratified dataset \n",
    "    return(CVList)"
   ]
  },
  {
   "cell_type": "code",
   "execution_count": null,
   "metadata": {
    "colab": {
     "base_uri": "https://localhost:8080/",
     "height": 224
    },
    "executionInfo": {
     "elapsed": 247828,
     "status": "ok",
     "timestamp": 1607486345335,
     "user": {
      "displayName": "Greg Carmean",
      "photoUrl": "",
      "userId": "03862132237162494275"
     },
     "user_tz": 300
    },
    "id": "SvvUQa8-_Tbd",
    "outputId": "5a07449d-a6b6-4bf4-af06-7b45ff755f5c"
   },
   "outputs": [],
   "source": [
    "emailsModelData = emails.drop(columns = ['row','hour','time','timestamp','num_char','password','viagra','inherit','dollar',\n",
    "                                        'attach','cc','image','line_breaks','exclaim_mess','number','from','small','winner','datetime'])\n",
    "emailsModelData.head()"
   ]
  },
  {
   "cell_type": "code",
   "execution_count": null,
   "metadata": {
    "id": "wBF1OQAz84sU"
   },
   "outputs": [],
   "source": [
    "X = emailsModelData.drop(columns = ['spam'])\n",
    "y_orig = emails['spam']\n",
    "train_accuracy = []\n",
    "train_precision = []\n",
    "train_recall = []\n",
    "test_accuracy_undersample_lgr = []\n",
    "test_precision_undersample_lgr = []\n",
    "test_recall_undersample_lgr = []\n",
    "for i in range(0,10):\n",
    "    X_train, X_test, y_train, y_test = train_test_split(X, y_orig, random_state=16974, train_size=0.8, stratify = y_orig)\n",
    "    #randomly select entries to fill out training data\n",
    "    y = y_orig\n",
    "    notSpam = y_train[y_train == 0]\n",
    "    spam = y_train[y_train == 1]\n",
    "    notSpam = pd.DataFrame(data = notSpam,columns = ['spam'])\n",
    "    spam = pd.DataFrame(data = spam,columns = ['spam'])\n",
    "    y_ns_indicies = notSpam.index\n",
    "    y_s_indicies = spam.index\n",
    "    X_train_not_spam = X_train.filter(items = y_ns_indicies, axis = 'index')\n",
    "    X_train_spam = X_train.filter(items = y_s_indicies, axis = 'index')\n",
    "    spamTrainingData = pd.concat([X_train_spam,spam], axis = 1)\n",
    "    NSLength = X_train_not_spam.shape[0]\n",
    "    SpamLength = X_train.shape[0] - NSLength\n",
    "    kf = KFold(n_splits=10)\n",
    "    trainingData = X_train_not_spam\n",
    "    trainingDataSpamCol = notSpam\n",
    "    trainingData = pd.concat([trainingData,trainingDataSpamCol],axis = 1)\n",
    "    trainingData = pd.concat([trainingData,spamTrainingData])\n",
    "    trainingData = trainingData.reset_index(drop=True)\n",
    "    trainingDataLists = StratifiedTenFoldCV(trainingData)\n",
    "    #fix for nan precision\n",
    "\n",
    "    for index in range(0,len(trainingDataLists)):\n",
    "        trainingDataIter = trainingDataLists[index]\n",
    "        #print(trainingDataIter.shape)\n",
    "        clf = LogisticRegression(random_state=1)\n",
    "        y = trainingDataIter['spam']\n",
    "        y=y.astype('int')\n",
    "        clf.fit(trainingDataIter.drop(columns = ['spam']), y)\n",
    "        predictions = clf.predict(trainingDataIter.drop(columns = ['spam']))\n",
    "        cm = confusion_matrix( y,predictions)\n",
    "        tn, fp, fn, tp = cm.ravel()\n",
    "        if math.isnan((tp/(fp+tp))) == False:\n",
    "            train_accuracy.append((tp+tn)/(tp+tn+fn+fp))\n",
    "            train_precision.append((tp/(fp+tp)))\n",
    "            train_recall.append(tp/(tp+fn))\n",
    "            predictionsTest = clf.predict(X_test)\n",
    "            cmTest = confusion_matrix( y_test,predictionsTest)\n",
    "            tnTest, fpTest, fnTest, tpTest = cmTest.ravel()\n",
    "            test_accuracy_undersample_lgr.append((tpTest+tnTest)/(tpTest+tnTest+fnTest+fpTest))\n",
    "            test_precision_undersample_lgr.append(tpTest/(fpTest+tpTest))\n",
    "            test_recall_undersample_lgr.append(tpTest/(tpTest+fnTest))"
   ]
  },
  {
   "cell_type": "code",
   "execution_count": null,
   "metadata": {
    "id": "f9floJzNBXMB"
   },
   "outputs": [],
   "source": [
    "posterior_accuracy = bootstrap_sample(test_accuracy_undersample_lgr, np.mean, n=500)\n",
    "posterior_precision = bootstrap_sample(test_precision_undersample_lgr, np.mean, n=500)\n",
    "posterior_recall = bootstrap_sample(test_recall_undersample_lgr, np.mean, n=500)"
   ]
  },
  {
   "cell_type": "code",
   "execution_count": null,
   "metadata": {
    "colab": {
     "base_uri": "https://localhost:8080/"
    },
    "executionInfo": {
     "elapsed": 252887,
     "status": "ok",
     "timestamp": 1607486350428,
     "user": {
      "displayName": "Greg Carmean",
      "photoUrl": "",
      "userId": "03862132237162494275"
     },
     "user_tz": 300
    },
    "id": "FQweZQKnAU8E",
    "outputId": "50640026-2095-484d-a517-e7d4e86b4b3f"
   },
   "outputs": [],
   "source": [
    "ac=np.round_(stats.mstats.mquantiles( posterior_accuracy, [0.025, 0.975]),3)\n",
    "pr=np.round_(stats.mstats.mquantiles( posterior_precision, [0.025, 0.975]),3)\n",
    "re=np.round_(stats.mstats.mquantiles( posterior_recall, [0.025, 0.975]),3)\n",
    "l = [[\"Parameter\",'95% Low','Estimate',\"95% High\"],\n",
    "     [\"Accuracy\",ac[0],np.round(np.mean(posterior_accuracy),3),ac[1]],\n",
    "     [\"Precision\",pr[0],np.round(np.mean(posterior_precision),3),pr[1]],\n",
    "     [\"Recall\",re[0],np.round(np.mean(posterior_recall),3),re[1]] \n",
    "     ]\n",
    "table = tabulate([[\"95% BCI Intervals\"]])\n",
    "print(table)\n",
    "table = tabulate(l)\n",
    "\n",
    "print(table)"
   ]
  },
  {
   "cell_type": "markdown",
   "metadata": {
    "id": "Olx5Zu2RBfC7"
   },
   "source": [
    "Interestingly, counter to expectations the undersampling of the non-spam data did not lead to an increase in the recall, the fitted models recall actually performed definetly worse than the original model"
   ]
  },
  {
   "cell_type": "markdown",
   "metadata": {
    "id": "4h74y1nFCeaL"
   },
   "source": [
    "The other alternative attempted to address the data balancing issue was to up sample the spam data so that it was approximately 50% of the total training data. The advantage to this approach in theory is that the model is more robust because none of the non spam data is eliminated from the training set. However, the oversampling of the spam data risks overfitting those cases "
   ]
  },
  {
   "cell_type": "code",
   "execution_count": null,
   "metadata": {
    "id": "nB8Ofsj6C9Ef"
   },
   "outputs": [],
   "source": [
    "emailsModelData_spam = emailsModelData[emailsModelData['spam']==1]\n",
    "for i in range(0,10):\n",
    "  emailsModelData = pd.concat([emailsModelData,emailsModelData_spam])\n",
    "\n",
    "y_orig = emailsModelData['spam']\n",
    "X = emailsModelData.drop(columns = ['spam'])\n",
    "\n",
    "train_accuracy = []\n",
    "train_precision = []\n",
    "train_recall = []\n",
    "test_accuracy_oversample_lgr = []\n",
    "test_precision_oversample_lgr = []\n",
    "test_recall_oversample_lgr = []\n",
    "for i in range(0,3):\n",
    "    X_train, X_test, y_train, y_test = train_test_split(X, y_orig, random_state=16974, train_size=0.8, stratify = y_orig)\n",
    "    #randomly select entries to fill out training data\n",
    "    #fix for nan precision\n",
    "    clf = LogisticRegression(random_state=1,max_iter = 200)\n",
    "    clf.fit(X_train, y_train)\n",
    "    predictions = clf.predict(X_train)\n",
    "    cm = confusion_matrix( y_train,predictions)\n",
    "    tn, fp, fn, tp = cm.ravel()\n",
    "    #if math.isnan((tp/(fp+tp))) == False:\n",
    "    train_accuracy.append((tp+tn)/(tp+tn+fn+fp))\n",
    "    train_precision.append((tp/(fp+tp)))\n",
    "    train_recall.append(tp/(tp+fn))\n",
    "    predictionsTest = clf.predict(X_test)\n",
    "    cmTest = confusion_matrix( y_test,predictionsTest)\n",
    "    tnTest, fpTest, fnTest, tpTest = cmTest.ravel()\n",
    "    test_accuracy_oversample_lgr.append((tpTest+tnTest)/(tpTest+tnTest+fnTest+fpTest))\n",
    "    test_precision_oversample_lgr.append(tpTest/(fpTest+tpTest))\n",
    "    test_recall_oversample_lgr.append(tpTest/(tpTest+fnTest))"
   ]
  },
  {
   "cell_type": "code",
   "execution_count": null,
   "metadata": {
    "id": "5pkEin0hDDUF"
   },
   "outputs": [],
   "source": [
    "posterior_accuracy_oversample_lgr = bootstrap_sample(test_accuracy_oversample_lgr, np.mean, n=500)\n",
    "posterior_precision_oversample_lgr = bootstrap_sample(test_precision_oversample_lgr, np.mean, n=500)\n",
    "posterior_recall_oversample_lgr = bootstrap_sample(test_recall_oversample_lgr, np.mean, n=500)"
   ]
  },
  {
   "cell_type": "code",
   "execution_count": null,
   "metadata": {
    "colab": {
     "base_uri": "https://localhost:8080/"
    },
    "executionInfo": {
     "elapsed": 254030,
     "status": "ok",
     "timestamp": 1607486351594,
     "user": {
      "displayName": "Greg Carmean",
      "photoUrl": "",
      "userId": "03862132237162494275"
     },
     "user_tz": 300
    },
    "id": "PKwk0LQ2DXvD",
    "outputId": "04da9ba1-134b-4443-d326-40af1534cc12"
   },
   "outputs": [],
   "source": [
    "ac=np.round_(stats.mstats.mquantiles( posterior_accuracy_oversample_lgr, [0.025, 0.975]),3)\n",
    "pr=np.round_(stats.mstats.mquantiles( posterior_precision_oversample_lgr, [0.025, 0.975]),3)\n",
    "re=np.round_(stats.mstats.mquantiles( posterior_recall_oversample_lgr, [0.025, 0.975]),3)\n",
    "l = [[\"Parameter\",'95% Low','Estimate',\"95% High\"],\n",
    "     [\"Accuracy\",ac[0],np.round(np.mean(posterior_accuracy_oversample_lgr),3),ac[1]],\n",
    "     [\"Precision\",pr[0],np.round(np.mean(posterior_precision_oversample_lgr),3),pr[1]],\n",
    "     [\"Recall\",re[0],np.round(np.mean(posterior_recall_oversample_lgr),3),re[1]] \n",
    "     ]\n",
    "table = tabulate([[\"95% BCI Intervals\"]])\n",
    "print(table)\n",
    "table = tabulate(l)\n",
    "\n",
    "print(table)"
   ]
  },
  {
   "cell_type": "markdown",
   "metadata": {
    "id": "P2TNq-LaHciE"
   },
   "source": [
    "The credible intervals show that oversampling the spam data was able to solve the recall issue with the model. This model trained on a balanced dataset is now able to correctly identify 90% of the spam in the test data. However, the cost of this was a reduction in the overall accuracy of the model. Overfitting the spam data caused the overall model accuracy to drop to 85.5% from 91%, so this data balancing was not used to train the final logistic regression model."
   ]
  },
  {
   "cell_type": "markdown",
   "metadata": {
    "id": "Ou5sTPwNYBEt"
   },
   "source": [
    "## 3.8 Logistic Model Summary"
   ]
  },
  {
   "cell_type": "markdown",
   "metadata": {
    "id": "mPur2kIXIJ67"
   },
   "source": [
    "The logistic regression model resulting from this process is the one found at the end of section 3.4, reproduced here for convience"
   ]
  },
  {
   "cell_type": "code",
   "execution_count": null,
   "metadata": {
    "colab": {
     "base_uri": "https://localhost:8080/",
     "height": 516
    },
    "executionInfo": {
     "elapsed": 254012,
     "status": "ok",
     "timestamp": 1607486351597,
     "user": {
      "displayName": "Greg Carmean",
      "photoUrl": "",
      "userId": "03862132237162494275"
     },
     "user_tz": 300
    },
    "id": "mmaFZtYlIVdz",
    "outputId": "5aaec709-ff51-4b95-be90-6c77e6aa0391"
   },
   "outputs": [],
   "source": [
    "describe_bootstrap_lr(result2)"
   ]
  },
  {
   "cell_type": "code",
   "execution_count": null,
   "metadata": {
    "colab": {
     "base_uri": "https://localhost:8080/"
    },
    "executionInfo": {
     "elapsed": 253995,
     "status": "ok",
     "timestamp": 1607486351598,
     "user": {
      "displayName": "Greg Carmean",
      "photoUrl": "",
      "userId": "03862132237162494275"
     },
     "user_tz": 300
    },
    "id": "FybdTpAWXUYT",
    "outputId": "ee975eea-e7b5-4643-ac56-220a92bcb290"
   },
   "outputs": [],
   "source": [
    "ac=np.round_(stats.mstats.mquantiles( posterior_accuracy, [0.025, 0.975]),3)\n",
    "pr=np.round_(stats.mstats.mquantiles( posterior_precision, [0.025, 0.975]),3)\n",
    "re=np.round_(stats.mstats.mquantiles( posterior_recall, [0.025, 0.975]),3)\n",
    "l = [[\"Parameter\",'95% Low','Estimate',\"95% High\"],\n",
    "     [\"Accuracy\",ac[0],np.round(np.mean(posterior_accuracy),3),ac[1]],\n",
    "     [\"Precision\",pr[0],np.round(np.mean(posterior_precision),3),pr[1]],\n",
    "     [\"Recall\",re[0],np.round(np.mean(posterior_recall),3),re[1]] \n",
    "     ]\n",
    "table = tabulate([[\"95% BCI Intervals\"]])\n",
    "print(table)\n",
    "table = tabulate(l)\n",
    "\n",
    "print(table)"
   ]
  },
  {
   "cell_type": "markdown",
   "metadata": {
    "id": "yh4Ej2HnIb2J"
   },
   "source": [
    "The accuracy of this model outperforms that of the null model, although the recall shows it struggles to capture the spam in the dataset."
   ]
  },
  {
   "cell_type": "markdown",
   "metadata": {
    "id": "2-P7jG_JTcv9"
   },
   "source": [
    "# 4 KNN Model\n",
    "\n",
    "We will also use a K nearest neighbors model to classify our data.  We will use the sklearn implementation of the algorithm.  The general workflow of this section is: \n",
    "1. Downselect, transform, and scale relevant features\n",
    "2. Identify the null model\n",
    "3. Fit kNN model, select K, and training curve\n",
    "4. Bootstrap our predictions to inform accuracy distribution. \n"
   ]
  },
  {
   "cell_type": "markdown",
   "metadata": {
    "id": "e8SN5_ugW10M"
   },
   "source": [
    "## 4.1 Features\n",
    "Let's start by summarizing the pairwise EDA to idenify if any features are not useful or need to be transformed\n",
    "\n",
    "### **Feature** Summary and **Inclusion**\n",
    "* **to_multiple** - Spam emails are underrepresented in emails sent to multiple people. **Include.**\n",
    "* **from** - Empty fields are only found in spam emails. **Include.**\n",
    "* **cc** - There is no appreciable difference in CC distribution. **Exclude.**\n",
    "* **sent_email** - No spam emails have been emailed before. **Include.**\n",
    "* **image** - Spam emails have at most 1 image. **Include**\n",
    "* **attach** - There is no appreciable difference in attachment distribution. **Exclude.**\n",
    "* **dollar** - There is no appreciable difference in dollar distribution. **Exclude.**\n",
    "* **winner** - \"winner\" is found in spam emails at a higher rate. **Include**\n",
    "* **inherit** - There is no appreciable difference in \"inherit\" distribution. **Exclude.**\n",
    "* **viagra** - Only one non-zero datapoint. **Exclude**\n",
    "* **password** - There is no appreciable difference in \"password\" distribution. **Exclude.**\n",
    "* **num_char** -There is no appreciable difference in the character length distribution. **Exclude.**\n",
    "* **line_breaks** - There is no appreciable difference in the  distribution of line breaks. **Exclude.**\n",
    "* **format** - Spam emails tend not to HTML formatted. **Include**\n",
    "* **re_subj** - Spam emails tend to not have \"re\" in their subject. **Include**\n",
    "* **exclaim_subj** - There is no appreciable difference in exclamation point frequency. **Exclude**\n",
    "* **urgent_subj** - Spam emails tend to be labeled \"Urgent\" **Include**\n",
    "* **exclaim_mess** -  There is no appreciable difference in exclamation point frequency. **Exclude**\n",
    "* **number** - Spam emails tend not to have numbers **Include**\n",
    "* **hour** - Spams emails are uniformly distributed while nonspam emails are sent during working hours **Include**\n",
    "\n",
    "### To summarize we will include the following features in our KNN model:\n",
    "* **to_multiple**\n",
    "* **from** \n",
    "* **sent_email**\n",
    "* **image** \n",
    "* **winner** \n",
    "* **format**\n",
    "* **re_subj** \n",
    "* **urgent_subj** \n",
    "* **number** \n",
    "* **hour** \n",
    "\n",
    "Now lets do some data wrangling and scale the data before fitting the model. We will convert the hour feature from \"hour of the day\" to number of hours from noon.  This will decrease the distance from 11pm to 1 am from 22 hours to 0 hours.   "
   ]
  },
  {
   "cell_type": "code",
   "execution_count": null,
   "metadata": {
    "colab": {
     "base_uri": "https://localhost:8080/"
    },
    "executionInfo": {
     "elapsed": 253981,
     "status": "ok",
     "timestamp": 1607486351602,
     "user": {
      "displayName": "Greg Carmean",
      "photoUrl": "",
      "userId": "03862132237162494275"
     },
     "user_tz": 300
    },
    "id": "EGn5A_6gUfWi",
    "outputId": "ba47cc6a-fc8e-458f-9b92-1c855dd596b3"
   },
   "outputs": [],
   "source": [
    "knn_x=emails[[\"to_multiple\",\"from\",\"sent_email\",\"image\",\"winner\",\"format\",\"re_subj\",\"urgent_subj\",\"number\",\"hour\"]]\n",
    "knn_y=emails[\"spam\"]\n",
    "knn_x.info()"
   ]
  },
  {
   "cell_type": "code",
   "execution_count": null,
   "metadata": {
    "colab": {
     "base_uri": "https://localhost:8080/",
     "height": 204
    },
    "executionInfo": {
     "elapsed": 253964,
     "status": "ok",
     "timestamp": 1607486351605,
     "user": {
      "displayName": "Greg Carmean",
      "photoUrl": "",
      "userId": "03862132237162494275"
     },
     "user_tz": 300
    },
    "id": "jIda0PPKkb4K",
    "outputId": "c9aa528b-6c08-4861-dc17-fbf72d186560"
   },
   "outputs": [],
   "source": [
    "knn_x[\"winner\"] = knn_x[\"winner\"].apply(lambda x: 1 if x=='yes' else 0)\n",
    "knn_x[\"hour\"] = abs(knn_x[\"hour\"].astype(int)-12)\n",
    "knn_x[\"big_number\"] = knn_x[\"number\"].apply(lambda x: 1 if x=='big' else 0)\n",
    "knn_x[\"small_number\"] = knn_x[\"number\"].apply(lambda x: 1 if x=='small' else 0)\n",
    "knn_x[\"none_number\"] = knn_x[\"number\"].apply(lambda x: 1 if x=='none' else 0)\n",
    "knn_x=knn_x.drop([\"number\"],axis=1)\n",
    "knn_x.head()"
   ]
  },
  {
   "cell_type": "code",
   "execution_count": null,
   "metadata": {
    "id": "fFurCqGNn3As"
   },
   "outputs": [],
   "source": [
    "scaler = MinMaxScaler()\n",
    "knn_x_scaled = scaler.fit_transform(knn_x)\n",
    "np.random.seed(20201208)\n",
    "knn_x_train, knn_x_test, knn_y_train, knn_y_test = train_test_split(knn_x_scaled, knn_y, test_size=0.50)"
   ]
  },
  {
   "cell_type": "markdown",
   "metadata": {
    "id": "9avudlZxn4bU"
   },
   "source": [
    "## 4.2 The Null Model\n",
    "For the KNN model we'll specify the null model as guess \"not-spam\" for each email we encounter.  For our testing data set this yields $90.46\\%$accuracy. \n"
   ]
  },
  {
   "cell_type": "code",
   "execution_count": null,
   "metadata": {
    "colab": {
     "base_uri": "https://localhost:8080/"
    },
    "executionInfo": {
     "elapsed": 253948,
     "status": "ok",
     "timestamp": 1607486351611,
     "user": {
      "displayName": "Greg Carmean",
      "photoUrl": "",
      "userId": "03862132237162494275"
     },
     "user_tz": 300
    },
    "id": "UxoXn9KsoOAy",
    "outputId": "95941b1a-4407-4856-849d-c3752ea50634"
   },
   "outputs": [],
   "source": [
    "knn_y_test.value_counts(normalize=True)"
   ]
  },
  {
   "cell_type": "markdown",
   "metadata": {
    "id": "c9ueXOxxo4T_"
   },
   "source": [
    "## 4.3 KNN Model\n",
    "Now we will fit the KNN model, select K by varying and plotting accuracy vs k, and validate.\n",
    "\n"
   ]
  },
  {
   "cell_type": "code",
   "execution_count": null,
   "metadata": {
    "colab": {
     "base_uri": "https://localhost:8080/",
     "height": 410
    },
    "executionInfo": {
     "elapsed": 257098,
     "status": "ok",
     "timestamp": 1607486354783,
     "user": {
      "displayName": "Greg Carmean",
      "photoUrl": "",
      "userId": "03862132237162494275"
     },
     "user_tz": 300
    },
    "id": "8OXWbCJ0NerH",
    "outputId": "7d9e9e22-698a-4164-9b22-28ba3c203d82"
   },
   "outputs": [],
   "source": [
    "pred_accuracy=np.zeros([21,1])\n",
    "for i in range(1,21,1):\n",
    "  cl = KNeighborsClassifier(n_neighbors=i)\n",
    "  cl.fit(knn_x_train, knn_y_train)\n",
    "  pred_accuracy[i]=cl.score(knn_x_test, knn_y_test)\n",
    "figure = plt.figure(figsize=(10, 6))\n",
    "axes = figure.add_subplot(1, 2, 1)\n",
    "axes.plot([*range(21)],pred_accuracy.reshape([1,21])[0].tolist(),label=\"KNN Model Accuracy\")\n",
    "axes.plot([-5,25],[1-knn_y_test.mean(),1-knn_y_test.mean()],label=\"Null Model Accuracy\")\n",
    "plt.axis([0, 20, 0, 1])\n",
    "axes.set_xlabel('K')\n",
    "axes.set_ylabel('Prediction accuracy')\n",
    "axes.set_title('K selection')\n",
    "plt.legend(loc='lower right')\n",
    "\n",
    "axes = figure.add_subplot(1, 2, 2)\n",
    "axes.plot([*range(21)],pred_accuracy.reshape([1,21])[0].tolist(),label=\"KNN Model Accuracy\")\n",
    "axes.plot([-5,25],[1-knn_y_test.mean(),1-knn_y_test.mean()],label=\"Null Model Accuracy\")\n",
    "plt.axis([0, 20, .85, .95])\n",
    "axes.set_xlabel('K')\n",
    "axes.set_ylabel('Prediction accuracy')\n",
    "axes.set_title('K selection (Zoomed In)')\n",
    "plt.show()"
   ]
  },
  {
   "cell_type": "code",
   "execution_count": null,
   "metadata": {
    "colab": {
     "base_uri": "https://localhost:8080/"
    },
    "executionInfo": {
     "elapsed": 257080,
     "status": "ok",
     "timestamp": 1607486354784,
     "user": {
      "displayName": "Greg Carmean",
      "photoUrl": "",
      "userId": "03862132237162494275"
     },
     "user_tz": 300
    },
    "id": "n8YXi7tlxBMb",
    "outputId": "0c549ea3-2693-4947-f288-c44708335566"
   },
   "outputs": [],
   "source": [
    "cl = KNeighborsClassifier(n_neighbors=2)\n",
    "cl.fit(knn_x_train, knn_y_train)\n",
    "cl.score(knn_x_test, knn_y_test)"
   ]
  },
  {
   "cell_type": "markdown",
   "metadata": {
    "id": "VgJ_rvCE4gNm"
   },
   "source": [
    "$k = 2$ appears to give us the highest accuracy although this is only .$5\\%$ more accurate than the null model.\n",
    "\n",
    "Now let's finish with a learning curve to see how we could improve this model."
   ]
  },
  {
   "cell_type": "code",
   "execution_count": null,
   "metadata": {
    "colab": {
     "base_uri": "https://localhost:8080/",
     "height": 301
    },
    "executionInfo": {
     "elapsed": 453781,
     "status": "ok",
     "timestamp": 1607486551506,
     "user": {
      "displayName": "Greg Carmean",
      "photoUrl": "",
      "userId": "03862132237162494275"
     },
     "user_tz": 300
    },
    "id": "0iEc67WszRFy",
    "outputId": "509fce01-ed61-4de1-ad05-551d43352af9"
   },
   "outputs": [],
   "source": [
    "cl = KNeighborsClassifier(n_neighbors=2)\n",
    "sizes = [i / 40 for i in range(1, 41, 1)]\n",
    "train_sizes, train_scores, test_scores = learning_curve(cl, knn_x_scaled, knn_y, \n",
    "                                                        train_sizes = sizes, cv=40)\n",
    "train_scores_mean = np.mean(train_scores, axis=1) \n",
    "train_scores_std = np.std(train_scores, axis=1) \n",
    "test_scores_mean = np.mean(test_scores, axis=1) \n",
    "test_scores_std = np.std(test_scores, axis=1)\n",
    "fig = plt.figure()\n",
    "\n",
    "axes = fig.add_subplot()\n",
    "axes.plot(train_sizes, train_scores_mean, label=\"Train Score\")\n",
    "plt.fill_between(train_sizes, train_scores_mean - train_scores_std, \n",
    "                 train_scores_mean + train_scores_std, alpha=0.2)\n",
    "\n",
    "axes.plot(train_sizes, test_scores_mean, label=\"Test Score\")\n",
    "plt.fill_between(train_sizes, test_scores_mean - test_scores_std, \n",
    "                 train_scores_mean + train_scores_std, alpha=0.2)\n",
    "\n",
    "axes.set_xlabel(\"Number of Training Points\")\n",
    "axes.set_ylabel(\"Accuracy score\")\n",
    "axes.set_title(\"Learning curve\")\n",
    "\n",
    "plt.legend()\n",
    "plt.show()"
   ]
  },
  {
   "cell_type": "markdown",
   "metadata": {
    "id": "0l-aTAum210O"
   },
   "source": [
    "Unfortunately this learning curve is a bit concerning.  There doesn't appear to be much benefit at all of increasing the number of datapoints in our training data set.  While increasing the number of data points does decrease the standard deviation of the testing score (shaded in orange) it increases the standard deviation of the training score.  \n",
    "\n",
    "Overall this suggests that the model is not \"learning\" much and that the underlying data does not capture the variation in \"spam\" well.  "
   ]
  },
  {
   "cell_type": "markdown",
   "metadata": {
    "id": "HsQUJPG1D4l7"
   },
   "source": [
    "## 4.4 Bootstrap"
   ]
  },
  {
   "cell_type": "markdown",
   "metadata": {
    "id": "vFdq9FwUtjJP"
   },
   "source": [
    " With our model constructed, we will do a quick bootstrap on the accuracy score, recall and percision.  First let's look at how inaccurate classifications are distributed by ploting a table of predicted vs actual spam values. \n",
    "\n",
    "**First Normalized Frequencies**\n"
   ]
  },
  {
   "cell_type": "code",
   "execution_count": null,
   "metadata": {
    "colab": {
     "base_uri": "https://localhost:8080/",
     "height": 103
    },
    "executionInfo": {
     "elapsed": 453759,
     "status": "ok",
     "timestamp": 1607486551508,
     "user": {
      "displayName": "Greg Carmean",
      "photoUrl": "",
      "userId": "03862132237162494275"
     },
     "user_tz": 300
    },
    "id": "juxZ6CQd4gBA",
    "outputId": "f4edeaa9-bed6-46ae-dc1e-f9db4de7dcdd"
   },
   "outputs": [],
   "source": [
    "cl.fit(knn_x_train, knn_y_train)\n",
    "\n",
    "knn_2_pred=pd.DataFrame(cl.predict(knn_x_test),index=knn_y_test.index)\n",
    "knn_2_pred.columns = [\"predicted\"]\n",
    "knn_2_pred[\"predicted\"]\n",
    "knn_2_scoring = pd.crosstab(pd.DataFrame(knn_y_test)[\"spam\"], knn_2_pred[\"predicted\"], normalize='all')\n",
    "knn_2_scoring.style.background_gradient(axis=1)\n"
   ]
  },
  {
   "cell_type": "markdown",
   "metadata": {
    "id": "856e-RubDbz4"
   },
   "source": [
    "**Now Raw Counts**"
   ]
  },
  {
   "cell_type": "code",
   "execution_count": null,
   "metadata": {
    "colab": {
     "base_uri": "https://localhost:8080/",
     "height": 103
    },
    "executionInfo": {
     "elapsed": 453894,
     "status": "ok",
     "timestamp": 1607486551666,
     "user": {
      "displayName": "Greg Carmean",
      "photoUrl": "",
      "userId": "03862132237162494275"
     },
     "user_tz": 300
    },
    "id": "wIFx9GEW-moa",
    "outputId": "52a0bcb8-d0f9-493f-c03a-a252e711c685"
   },
   "outputs": [],
   "source": [
    "knn_2_scoring1 = pd.crosstab(pd.DataFrame(knn_y_test)[\"spam\"], knn_2_pred[\"predicted\"])\n",
    "knn_2_scoring1.style.background_gradient(axis=1)\n"
   ]
  },
  {
   "cell_type": "code",
   "execution_count": null,
   "metadata": {
    "colab": {
     "base_uri": "https://localhost:8080/"
    },
    "executionInfo": {
     "elapsed": 453876,
     "status": "ok",
     "timestamp": 1607486551667,
     "user": {
      "displayName": "Greg Carmean",
      "photoUrl": "",
      "userId": "03862132237162494275"
     },
     "user_tz": 300
    },
    "id": "Wm2sVPrXAXIT",
    "outputId": "9d8979ff-2103-4919-8708-99dd58a2852a"
   },
   "outputs": [],
   "source": [
    "print(\"Final model accuracy is :\" ,np.round_(knn_2_scoring[1][1]+knn_2_scoring[0][0],3))\n",
    "print(\"Final model precision is :\" ,knn_2_scoring[1][1]/(knn_2_scoring[1][0]+knn_2_scoring[1][1]))\n",
    "print(\"Final model recall is :\" ,np.round_(knn_2_scoring[1][1]/(knn_2_scoring[0][1]+knn_2_scoring[1][1]),3))"
   ]
  },
  {
   "cell_type": "markdown",
   "metadata": {
    "id": "W37rgOO_Efnu"
   },
   "source": [
    "**Now Let's calculate the boot strap.**\n",
    "\n",
    "With 1000 bootstraps and calculate 95% BCI for accuracy, precision, and recall."
   ]
  },
  {
   "cell_type": "code",
   "execution_count": null,
   "metadata": {
    "id": "iCjjd3iOElAL"
   },
   "outputs": [],
   "source": [
    "knn_2_pred[\"spam\"]=knn_y_test\n",
    "accuracies=np.zeros([1000,1])\n",
    "precisions=np.zeros([1000,1])\n",
    "recalls=np.zeros([1000,1])\n",
    "np.random.seed(20201208)\n",
    "for i in range(1000):\n",
    "  temp=knn_2_pred.sample(1961,replace=True)\n",
    "  knn_2_scoring_temp = pd.crosstab(temp[\"spam\"], temp[\"predicted\"],normalize=\"all\")\n",
    "  accuracies[i]=knn_2_scoring_temp[1][1]+knn_2_scoring_temp[0][0]\n",
    "  precisions[i]=knn_2_scoring_temp[1][1]/(knn_2_scoring_temp[1][0]+knn_2_scoring_temp[1][1])\n",
    "  recalls[i]=knn_2_scoring_temp[1][1]/(knn_2_scoring_temp[0][1]+knn_2_scoring_temp[1][1])\n",
    "\n"
   ]
  },
  {
   "cell_type": "code",
   "execution_count": null,
   "metadata": {
    "colab": {
     "base_uri": "https://localhost:8080/"
    },
    "executionInfo": {
     "elapsed": 464904,
     "status": "ok",
     "timestamp": 1607486562719,
     "user": {
      "displayName": "Greg Carmean",
      "photoUrl": "",
      "userId": "03862132237162494275"
     },
     "user_tz": 300
    },
    "id": "FjpHSIaiJMY1",
    "outputId": "823dfe1f-2a9a-4c60-8e96-8a2186dd8526"
   },
   "outputs": [],
   "source": [
    "np.round_(stats.mstats.mquantiles( accuracies, [0.025, 0.975]),3)"
   ]
  },
  {
   "cell_type": "code",
   "execution_count": null,
   "metadata": {
    "colab": {
     "base_uri": "https://localhost:8080/"
    },
    "executionInfo": {
     "elapsed": 464889,
     "status": "ok",
     "timestamp": 1607486562721,
     "user": {
      "displayName": "Greg Carmean",
      "photoUrl": "",
      "userId": "03862132237162494275"
     },
     "user_tz": 300
    },
    "id": "AbJtsLPdG8XG",
    "outputId": "66d63ae4-e953-48e2-cc44-e5151a05f9bc"
   },
   "outputs": [],
   "source": [
    "ac=np.round_(stats.mstats.mquantiles( accuracies, [0.025, 0.975]),3)\n",
    "pr=np.round_(stats.mstats.mquantiles( precisions, [0.025, 0.975]),3)\n",
    "re=np.round_(stats.mstats.mquantiles( recalls, [0.025, 0.975]),3)\n",
    "l = [[\"Parameter\",'95% Low','Estimate',\"95% High\"],\n",
    "     [\"Accuracy\",ac[0],np.round_(knn_2_scoring[1][1]+knn_2_scoring[0][0],3),ac[1]],\n",
    "     [\"Precision\",pr[0],np.round_(knn_2_scoring[1][1]/(knn_2_scoring[1][0]+knn_2_scoring[1][1]),3),pr[1]],\n",
    "     [\"Recall\",re[0],np.round_(knn_2_scoring[1][1]/(knn_2_scoring[0][1]+knn_2_scoring[1][1]),3),re[1]] \n",
    "     ]\n",
    "table = tabulate([[\"95% BCI Intervals\"]])\n",
    "print(table)\n",
    "table = tabulate(l)\n",
    "\n",
    "print(table)"
   ]
  },
  {
   "cell_type": "markdown",
   "metadata": {
    "id": "2OhszF1IKy3j"
   },
   "source": [
    "## 4.5 KNN Summary\n",
    "Unfortunately it looks like the KNN model was not well suited to classifying this data set. In developing this model we tried a number of resampling and data balancing techniques but did not include them as they did not improve the model much at all. Downsampling and upsampling produced similar results on KNN models as they did on the logistic regression models, reducing the overall accuracy of the classifer. The accuracy of the KNN model was comparable to the null model (all emails assumed non-spam).  The model was relatively precise meaning the majority of predicted spam messages were actually spam.  However, total recall was low and the majority of spam messages were misclassified. The training curve suggests that additional data points would not increase model accuracy, instead the diversity of spam messages was not well captured by these features.  "
   ]
  },
  {
   "cell_type": "markdown",
   "metadata": {
    "id": "H-OtL5XM-zp3"
   },
   "source": [
    "# 5 Final Model Selection"
   ]
  },
  {
   "cell_type": "markdown",
   "metadata": {
    "id": "oOe7rZ-l-5Zm"
   },
   "source": [
    "Sections 3 and 4 contain the statistics for the final logistic and KNN classifiers respectively. Both of the final model accuracy, precision and recall statistics are comparable, so a closer analysis needs to be done to determine which model will be selected as the classifier.\n",
    "\n",
    "The best way to discern the differences in model performance is to perform a side by side comparison where they are trained and tested on the same data with the parameters generated in the model construction sections."
   ]
  },
  {
   "cell_type": "code",
   "execution_count": null,
   "metadata": {
    "id": "vcEJZ7LlBDl6"
   },
   "outputs": [],
   "source": [
    "import warnings\n",
    "warnings.filterwarnings(\"ignore\")\n",
    "\n",
    "np.random.seed([1914855])\n",
    "\n",
    "test_accuracy_LGR = []\n",
    "test_recall_LGR = []\n",
    "test_precision_LGR = []\n",
    "\n",
    "test_accuracy_KNN = []\n",
    "test_recall_KNN = []\n",
    "test_precision_KNN = []\n",
    "\n",
    "LGR_model = \"spam ~ to_multiple + log_cc + sent_email + log_image + log_attach + log_dollar + log_inherit + log_viagra + log_password + log_line_breaks + re_subj + exclaim_subj + urgent_subj + log_exclaim_mess\"\n",
    "\n",
    "for p in range(3):\n",
    "\n",
    "  emails_val = emails.sample(frac = 1.0)\n",
    "\n",
    "  kf = KFold(n_splits = 10)\n",
    "\n",
    "  for train_index, test_index in kf.split(emails_val, emails_val['spam']):\n",
    "      \n",
    "      emails_train = emails_val.iloc[train_index].reset_index(drop=True)\n",
    "      emails_test =  emails_val.iloc[test_index].reset_index(drop=True) \n",
    "\n",
    "      y_train, X_train = patsy.dmatrices( LGR_model, emails_train, return_type=\"matrix\")\n",
    "      y_test, X_test = patsy.dmatrices( LGR_model, emails_test, return_type=\"matrix\")\n",
    "      y_train = np.ravel(y_train)\n",
    "      y_test = np.ravel(y_test)  \n",
    "      \n",
    "      result = linear.LogisticRegression( fit_intercept=False, max_iter=10000).fit(X_train, y_train)\n",
    "\n",
    "      test_pred_LGR = result.predict(X_test)\n",
    "      test_accuracy_LGR.append(accuracy_score(y_test, test_pred_LGR))\n",
    "      test_precision_LGR.append(precision_score(y_test, test_pred_LGR))\n",
    "      test_recall_LGR.append(recall_score(y_test, test_pred_LGR))\n",
    "\n",
    "      #KNN portion to be replaced with model resulting from section 4\n",
    "      emails_train_knn_x =emails_train[[\"to_multiple\",\"from\",\"sent_email\",\"image\",\"winner\",\"format\",\"re_subj\",\"urgent_subj\",\"number\",\"hour\"]]\n",
    "      emails_train_knn_y =emails_train[\"spam\"]\n",
    "      pipe = Pipeline([('scaler', StandardScaler()), \n",
    "                 ('knn', KNeighborsClassifier(n_neighbors=2, weights='uniform', p=2))])\n",
    "\n",
    "      pipe.fit(X_train, y_train)\n",
    "      test_pred_KNN = pipe.predict(X_test)\n",
    "\n",
    "      test_accuracy_KNN.append(accuracy_score(y_test,  test_pred_KNN))\n",
    "      test_precision_KNN.append(precision_score(y_test,  test_pred_KNN))\n",
    "      test_recall_KNN.append(recall_score(y_test,  test_pred_KNN))"
   ]
  },
  {
   "cell_type": "code",
   "execution_count": null,
   "metadata": {
    "id": "7ebkHCjxijm_"
   },
   "outputs": [],
   "source": [
    "posterior_accuracy_LGR = bootstrap_sample(test_accuracy_LGR, np.mean, n=500)\n",
    "posterior_accuracy_KNN = bootstrap_sample(test_accuracy_KNN, np.mean, n=500)\n",
    "posterior_precision_LGR = bootstrap_sample(test_precision_LGR, np.mean, n=500)\n",
    "posterior_precision_KNN = bootstrap_sample(test_precision_KNN, np.mean, n=500)\n",
    "posterior_recall_LGR = bootstrap_sample(test_recall_LGR, np.mean, n=500)\n",
    "posterior_recall_KNN = bootstrap_sample(test_recall_KNN, np.mean, n=500)"
   ]
  },
  {
   "cell_type": "markdown",
   "metadata": {
    "id": "5lAbUXtUimQ2"
   },
   "source": [
    "We now have posterior distributions for three performance metrics of each of the two models. Lets start by looking at the distributions of each metric side by side"
   ]
  },
  {
   "cell_type": "markdown",
   "metadata": {
    "id": "qO1GSpBuiq55"
   },
   "source": [
    "The histogram of each models accuracy metric distribution are shown below. The accuracy metric assesses whether or not an email was classified as spam correctly."
   ]
  },
  {
   "cell_type": "code",
   "execution_count": null,
   "metadata": {
    "colab": {
     "base_uri": "https://localhost:8080/",
     "height": 355
    },
    "executionInfo": {
     "elapsed": 472221,
     "status": "ok",
     "timestamp": 1607486570079,
     "user": {
      "displayName": "Greg Carmean",
      "photoUrl": "",
      "userId": "03862132237162494275"
     },
     "user_tz": 300
    },
    "id": "GsHpAF2diu0G",
    "outputId": "9264de7e-5ddb-4d0e-acc9-af888b06ac30"
   },
   "outputs": [],
   "source": [
    "figure = plt.figure(figsize=(10, 5))\n",
    "\n",
    "axes = figure.add_subplot(1, 2, 1)\n",
    "axes.hist(posterior_accuracy_LGR, color = \"dimgray\", density=True)\n",
    "axes.set_title(\"Accuracy Posterior Logistic Regression\")\n",
    "axes.set_xlabel(\"Accuracy\")\n",
    "axes.set_ylabel(\"Density\")\n",
    "axes.set_xlim(0.9,0.93)\n",
    "axes.set_ylim(0,180)\n",
    "\n",
    "axes2 = figure.add_subplot(1, 2, 2)\n",
    "axes2.hist(posterior_accuracy_KNN, color = \"dimgray\", density=True)\n",
    "axes2.set_title(\"Accuracy Posterior K-NN\")\n",
    "axes2.set_xlabel(\"Accuracy\")\n",
    "axes2.set_ylabel(\"Density\")\n",
    "axes2.set_xlim(0.9,0.93)\n",
    "axes2.set_ylim(0,180)\n",
    "\n",
    "plt.show()\n",
    "\n",
    "plt.close()"
   ]
  },
  {
   "cell_type": "markdown",
   "metadata": {
    "id": "lQRiuylJixJM"
   },
   "source": [
    "Both distributions appear normal and have a similar width. From simple distribution inspection, KNN appears to be the more accurate classifier."
   ]
  },
  {
   "cell_type": "markdown",
   "metadata": {
    "id": "vAC45ByvizTr"
   },
   "source": [
    "\n",
    "The BCI's reveal more information about the separation between the two accuracy metrics between the models"
   ]
  },
  {
   "cell_type": "code",
   "execution_count": null,
   "metadata": {
    "colab": {
     "base_uri": "https://localhost:8080/"
    },
    "executionInfo": {
     "elapsed": 472202,
     "status": "ok",
     "timestamp": 1607486570081,
     "user": {
      "displayName": "Greg Carmean",
      "photoUrl": "",
      "userId": "03862132237162494275"
     },
     "user_tz": 300
    },
    "id": "L5xtKA3Ji01P",
    "outputId": "0f476143-8489-4283-c31e-51dc27c2c1e9"
   },
   "outputs": [],
   "source": [
    "ac_lgr=np.round_(stats.mstats.mquantiles( posterior_accuracy_LGR, [0.025,0.5, 0.975]),3)\n",
    "ac_knn=np.round_(stats.mstats.mquantiles( posterior_accuracy_KNN, [0.025,0.5, 0.975]),3)\n",
    "l = [[\"Accuracy\",'95% Low','Estimate',\"95% High\"],\n",
    "     [\"Logistic Regression\",ac_lgr[0],ac_lgr[1],ac_lgr[2]],\n",
    "     [\"KNN\",ac_knn[0],ac_knn[1],ac_knn[2]],\n",
    "     \n",
    "     ]\n",
    "table = tabulate([[\"95% Accuracy Credible Interval\"]])\n",
    "print(table)\n",
    "table = tabulate(l)\n",
    "\n",
    "print(table)\n"
   ]
  },
  {
   "cell_type": "markdown",
   "metadata": {
    "id": "1RBFc5TVi4ZE"
   },
   "source": [
    "While the separation seen in the distribution visualization is seen in the higher bound of the KNN BCI, there is still a substantial overlap between the BCI's between the two models. Therefore the models cannot be differentiated on accuracy alone. It is worth noting that both of the models accuracy performance exceeds that of the null model."
   ]
  },
  {
   "cell_type": "markdown",
   "metadata": {
    "id": "G5m8kiJTi-Dk"
   },
   "source": [
    "Another measure of classification performance is the precision of the classifier. Precision assesses how many spam predicitions produced by the model were actually correct. "
   ]
  },
  {
   "cell_type": "code",
   "execution_count": null,
   "metadata": {
    "colab": {
     "base_uri": "https://localhost:8080/",
     "height": 355
    },
    "executionInfo": {
     "elapsed": 472760,
     "status": "ok",
     "timestamp": 1607486570660,
     "user": {
      "displayName": "Greg Carmean",
      "photoUrl": "",
      "userId": "03862132237162494275"
     },
     "user_tz": 300
    },
    "id": "mq55bMD2i_xQ",
    "outputId": "d2fa4a69-eab7-48fd-9e6f-b2ad5dea9fce"
   },
   "outputs": [],
   "source": [
    "#precision plots\n",
    "figure = plt.figure(figsize=(10, 5))\n",
    "\n",
    "axes = figure.add_subplot(1, 2, 1)\n",
    "axes.hist(posterior_precision_LGR, color = \"dimgray\", density=True)\n",
    "axes.set_title(\"Precision Posterior Logistic Regression\")\n",
    "axes.set_xlabel(\"Precision\")\n",
    "axes.set_ylabel(\"Density\")\n",
    "axes.set_xlim(0.55,0.85)\n",
    "axes.set_ylim(0,18)\n",
    "\n",
    "axes2 = figure.add_subplot(1, 2, 2)\n",
    "axes2.hist(posterior_precision_KNN, color = \"dimgray\", density=True)\n",
    "axes2.set_title(\"Precision Posterior K-NN\")\n",
    "axes2.set_xlabel(\"Precision\")\n",
    "axes2.set_ylabel(\"Density\")\n",
    "axes2.set_xlim(0.55,0.85)\n",
    "axes2.set_ylim(0,18)\n",
    "\n",
    "plt.show()\n",
    "\n",
    "plt.close()"
   ]
  },
  {
   "cell_type": "markdown",
   "metadata": {
    "id": "rPEIAAl6jCEx"
   },
   "source": [
    "While the distributions both appear normal and have a similar width, they clear do not overlap. The Logistic regression model precision is higher than the KNN precision"
   ]
  },
  {
   "cell_type": "markdown",
   "metadata": {
    "id": "romMlRLcjC9k"
   },
   "source": [
    "The BCI's for precision from each model confirm the takeaway from the distributions"
   ]
  },
  {
   "cell_type": "code",
   "execution_count": null,
   "metadata": {
    "colab": {
     "base_uri": "https://localhost:8080/"
    },
    "executionInfo": {
     "elapsed": 472742,
     "status": "ok",
     "timestamp": 1607486570662,
     "user": {
      "displayName": "Greg Carmean",
      "photoUrl": "",
      "userId": "03862132237162494275"
     },
     "user_tz": 300
    },
    "id": "F8mv0OK-jGRw",
    "outputId": "c087edf7-324d-4645-dd6f-4113a5d44b1e"
   },
   "outputs": [],
   "source": [
    "pr_lgr=np.round_(stats.mstats.mquantiles( posterior_precision_LGR, [0.025,0.5, 0.975]),3)\n",
    "pr_knn=np.round_(stats.mstats.mquantiles( posterior_precision_KNN, [0.025,0.5, 0.975]),3)\n",
    "l = [[\"Precision\",'95% Low','Estimate',\"95% High\"],\n",
    "     [\"Logistic Regression\",pr_lgr[0],pr_lgr[1],pr_lgr[2]],\n",
    "     [\"KNN\",pr_knn[0],pr_knn[1],pr_knn[2]],\n",
    "     \n",
    "     ]\n",
    "table = tabulate([[\"95% Precision Credible Interval\"]])\n",
    "print(table)\n",
    "table = tabulate(l)\n",
    "\n",
    "print(table)\n"
   ]
  },
  {
   "cell_type": "markdown",
   "metadata": {
    "id": "H2UZ02tjjIIS"
   },
   "source": [
    "The impact of the logistic regression models higher precision is that, in the context of the spam classifier, it has a smaller proportion of non-spam emails getting stuck in the spam filter and not reaching the users inbox. "
   ]
  },
  {
   "cell_type": "markdown",
   "metadata": {
    "id": "SEu33Z59jKbO"
   },
   "source": [
    "Finally, the histograms of the posterior recall distributions are shown below. The recall tracks what percentage of the spam in the test data is correctly classified."
   ]
  },
  {
   "cell_type": "code",
   "execution_count": null,
   "metadata": {
    "colab": {
     "base_uri": "https://localhost:8080/",
     "height": 355
    },
    "executionInfo": {
     "elapsed": 473339,
     "status": "ok",
     "timestamp": 1607486571284,
     "user": {
      "displayName": "Greg Carmean",
      "photoUrl": "",
      "userId": "03862132237162494275"
     },
     "user_tz": 300
    },
    "id": "SKZRH48kjMkg",
    "outputId": "e88e32f5-8cf9-4b90-b687-aa309f3e094f"
   },
   "outputs": [],
   "source": [
    "figure = plt.figure(figsize=(10, 5))\n",
    "\n",
    "axes = figure.add_subplot(1, 2, 1)\n",
    "axes.hist(posterior_recall_LGR, color = \"dimgray\", density=True)\n",
    "axes.set_title(\"Recall Posterior Logistic Regression\")\n",
    "axes.set_xlabel(\"Recall\")\n",
    "axes.set_ylabel(\"Density\")\n",
    "axes.set_xlim(0.15,0.45)\n",
    "axes.set_ylim(0,35)\n",
    "\n",
    "axes2 = figure.add_subplot(1, 2, 2)\n",
    "axes2.hist(posterior_recall_KNN, color = \"dimgray\", density=True)\n",
    "axes2.set_title(\"Recall Posterior K-NN\")\n",
    "axes2.set_xlabel(\"Recall\")\n",
    "axes2.set_ylabel(\"Density\")\n",
    "axes2.set_xlim(0.15,0.45)\n",
    "axes2.set_ylim(0,35)\n",
    "\n",
    "plt.show()\n",
    "\n",
    "plt.close()"
   ]
  },
  {
   "cell_type": "markdown",
   "metadata": {
    "id": "bE4tto0EjNS6"
   },
   "source": [
    "Once again, the distribution appear normal with similar widths. The KNN recall is clearly higher than the logistic regression recall"
   ]
  },
  {
   "cell_type": "markdown",
   "metadata": {
    "id": "qLzBnbrvjSCw"
   },
   "source": [
    "The BCI's for each models recall are shown below"
   ]
  },
  {
   "cell_type": "code",
   "execution_count": null,
   "metadata": {
    "colab": {
     "base_uri": "https://localhost:8080/"
    },
    "executionInfo": {
     "elapsed": 473322,
     "status": "ok",
     "timestamp": 1607486571285,
     "user": {
      "displayName": "Greg Carmean",
      "photoUrl": "",
      "userId": "03862132237162494275"
     },
     "user_tz": 300
    },
    "id": "70qnuiW1jqfZ",
    "outputId": "507ae606-3ed9-49ec-f615-2b9e36d2ec65"
   },
   "outputs": [],
   "source": [
    "rc_lgr=np.round_(stats.mstats.mquantiles( posterior_recall_LGR, [0.025,0.5, 0.975]),3)\n",
    "rc_knn=np.round_(stats.mstats.mquantiles( posterior_recall_KNN, [0.025,0.5, 0.975]),3)\n",
    "l = [[\"Recall\",'95% Low','Estimate',\"95% High\"],\n",
    "     [\"Logistic Regression\",rc_lgr[0],rc_lgr[1],rc_lgr[2]],\n",
    "     [\"KNN\",rc_knn[0],rc_knn[1],rc_knn[2]],\n",
    "     \n",
    "     ]\n",
    "table = tabulate([[\"95% Recall Credible Interval\"]])\n",
    "print(table)\n",
    "table = tabulate(l)\n",
    "\n",
    "print(table)"
   ]
  },
  {
   "cell_type": "markdown",
   "metadata": {
    "id": "BeS7HxBnjuQL"
   },
   "source": [
    "The KNN model definetively has the better recall. In the context of the problem, this means a higher percentage of the actual spam would be caught in the spam filter."
   ]
  },
  {
   "cell_type": "markdown",
   "metadata": {
    "id": "YVVlJsF9jxEQ"
   },
   "source": [
    "## 5.1 Model Selection"
   ]
  },
  {
   "cell_type": "markdown",
   "metadata": {
    "id": "ONId7gsqjy_T"
   },
   "source": [
    "There is no clear answer as to which model is the preferred model based solely on the most important performance indicator to the end user, accuracy. The accuracies are not significantly different, and while the KNN model has a higher recall the logisitic regression model has a higher precision. From a users perspective, it is more important to have a higher precision than a higher recall when the accuracies are similar. A higher precision means that fewer non-spam emails are getting stuck in the spam filter where they may be missed. Therefore, the logistic regression model is selected as the final spam classifier."
   ]
  },
  {
   "cell_type": "markdown",
   "metadata": {
    "id": "zaGQI5xllSwj"
   },
   "source": [
    "# 6 Final Model Description"
   ]
  },
  {
   "cell_type": "markdown",
   "metadata": {
    "id": "v2gGp1SJ_I0z"
   },
   "source": [
    "Our final Logistic Regression Model is comprised of 15 parameters"
   ]
  },
  {
   "cell_type": "code",
   "execution_count": null,
   "metadata": {
    "colab": {
     "base_uri": "https://localhost:8080/",
     "height": 516
    },
    "executionInfo": {
     "elapsed": 473304,
     "status": "ok",
     "timestamp": 1607486571286,
     "user": {
      "displayName": "Greg Carmean",
      "photoUrl": "",
      "userId": "03862132237162494275"
     },
     "user_tz": 300
    },
    "id": "Oj9FJduF_I0z",
    "outputId": "a0ed0f75-2d84-42b2-b31c-14971a415ad6"
   },
   "outputs": [],
   "source": [
    "describe_bootstrap_lgr(result2)"
   ]
  },
  {
   "cell_type": "markdown",
   "metadata": {
    "id": "HUG74id8sVot"
   },
   "source": [
    "## 6.1 Model Coefficients"
   ]
  },
  {
   "cell_type": "markdown",
   "metadata": {
    "id": "t5Q-wC9Usbov"
   },
   "source": [
    "The coefficients in the logisitic model represent the increase (or decrease) in log odds. A rule of thumb for interpreting these coefficient is the divide by 4 rule which means dividing the coefficient by 4 generates an estimate of the change in predictive probability for one unit of the feature associated with the coefficient.  The P(y=1) column give us the information on how the log odds impact the percentage chance an email with that characterisitc is classified as spam. This allows us to details the impact each of these features of emails has on whether or not it is spam."
   ]
  },
  {
   "cell_type": "markdown",
   "metadata": {
    "id": "VN5832SBscUv"
   },
   "source": [
    "### 6.1.1 The Intercept"
   ]
  },
  {
   "cell_type": "markdown",
   "metadata": {
    "id": "atwBOyKGsgW1"
   },
   "source": [
    "The intercept's mean value is 1.77 with a credible interval value of between 1.37 and 2.19. This indicates that before considering any features the model is biased to predict the email as spam."
   ]
  },
  {
   "cell_type": "markdown",
   "metadata": {
    "id": "G3SABZZpshA0"
   },
   "source": [
    "### 6.1.2 To Multiple"
   ]
  },
  {
   "cell_type": "markdown",
   "metadata": {
    "id": "ospkYJ3Xskqc"
   },
   "source": [
    "The coefficient related to the to multiple variable has an average value -2.23 log odds with a credible interval from -2.7 to -1.86. This indicates that the emails with multiple values in the to fields are 56% less likely to be spam then emails with only one address in the to field."
   ]
  },
  {
   "cell_type": "markdown",
   "metadata": {
    "id": "YOzFPEP2slkE"
   },
   "source": [
    "### 6.1.3 log CC"
   ]
  },
  {
   "cell_type": "markdown",
   "metadata": {
    "id": "jHUuo-7hspUT"
   },
   "source": [
    "The coefficient related to log of the cc's on the email tracks has an average log odds of -0.05 with a credible interval between -0.51 and 0.23. This coefficient is more complicated. The percentage an email is spam decreases by 1% for every log(cc)'s present on the email. For example, since this transformation was performed with a log(x+1) transform to account for the 0 values, if there are 9 addresses cc'ed on an email, then the email is 2.3% less likely to be spam than an email with no cc's"
   ]
  },
  {
   "cell_type": "markdown",
   "metadata": {
    "id": "Mn8RDqRTs9nt"
   },
   "source": []
  },
  {
   "cell_type": "markdown",
   "metadata": {
    "id": "XSOuEJuTspwf"
   },
   "source": [
    "### 6.1.4 Sent Email"
   ]
  },
  {
   "cell_type": "markdown",
   "metadata": {
    "id": "JksfOzhmsscY"
   },
   "source": [
    "The coefficient for the sent_email has an average value of-3.91\twith a credible interval between -4.10and-3.74. Accounts where the recipient had already received another email from in the last 30 days proves to be a strong predictor of an email not being spam, as the chances that the email is spam decrease by 0.98% if this is the case. In the EDA, this was identified as a strong spam predictor. These results are consistent since the intercept biases the model towards spam, so first time emails will be likely to be considered spam all else equal."
   ]
  },
  {
   "cell_type": "markdown",
   "metadata": {
    "id": "vNpx-8xrswTz"
   },
   "source": [
    "### 6.1.5 log Image"
   ]
  },
  {
   "cell_type": "markdown",
   "metadata": {
    "id": "vqL0E8sJszVi"
   },
   "source": [
    "The coefficient for log image has an average value of -1.25\twith a credible interval from -1.78 to-0.77. For every log image attached to the document, the probability that it will be classified as spam decreases by 31%. For an email with 1 image attached, this equates to a 21% decrease in the probability that it is spam, due to the ln(x+1) transform."
   ]
  },
  {
   "cell_type": "markdown",
   "metadata": {
    "id": "BnJ_aJils35D"
   },
   "source": [
    "### 6.1.6 log Attach"
   ]
  },
  {
   "cell_type": "markdown",
   "metadata": {
    "id": "2ycqqV_Ms602"
   },
   "source": [
    "The coefficient for the log attachment feature has an average value of 1.27\twith a credible interval of 0.87 to 1.72. One log_attachment increases the probability the email is classified as spam by 32%. For example, in the case where an email has 1 attachement, the probability the email is spam increases by 22%."
   ]
  },
  {
   "cell_type": "markdown",
   "metadata": {
    "id": "TKfdVkSWs-yk"
   },
   "source": [
    "### 6.1.7 log Dollar"
   ]
  },
  {
   "cell_type": "markdown",
   "metadata": {
    "id": "iTbBuKxotBHN"
   },
   "source": [
    "The coefficient for the log dollar feature has an average value of 0.11\tand a credible interval between -0.09\tand 0.30, indicating that it is not a decisively predictive feature. The presence of 1 log_dollar in an email increases the probability an email is spam by 3%. The presence of a dollar sign in the email would increase the probability it is spam by 2%."
   ]
  },
  {
   "cell_type": "markdown",
   "metadata": {
    "id": "Xc9Jm3iotDtN"
   },
   "source": [
    "### 6.1.8 log Inherit"
   ]
  },
  {
   "cell_type": "markdown",
   "metadata": {
    "id": "iDwBTjr2tHMZ"
   },
   "source": [
    "The coefficient associated with the log viagra feature has an average value of 0.61 with a credible interval from 0 to 1.05, which indicates it is an indicator of spam email. An email with a log_viagra unit is 15% more likely to be spam. One mention of viagra will increase an emails probability of being spam by 10%."
   ]
  },
  {
   "cell_type": "markdown",
   "metadata": {
    "id": "yJlReOGvug_F"
   },
   "source": [
    "### 6.1.9 log Viagra"
   ]
  },
  {
   "cell_type": "markdown",
   "metadata": {
    "id": "0LlKhqdKukqC"
   },
   "source": [
    "The coefficient associated with the log viagra feature has an average value of 0.61 with a credible interval from 0 to 1.05, which indicates it is an indicator of spam email. An email with a log_viagra unit is 15% more likely to be spam. One mention of viagra will increase an emails probability of being spam by 10%."
   ]
  },
  {
   "cell_type": "markdown",
   "metadata": {
    "id": "-L0-9fgXtJLM"
   },
   "source": [
    "### 6.1.10 log Password"
   ]
  },
  {
   "cell_type": "markdown",
   "metadata": {
    "id": "Ltoq7wm0tK9j"
   },
   "source": [
    "The coefficient for the log password feature has an average value of -1.04 log odds with a credible interval from -1.66 to -0.48, so it is a consistent predictor of emails that are not spam. A log password units presence in the email decreases the probability it is spam by 26%. An email with 1 password mention in it decreases the probability it is spam by 18%."
   ]
  },
  {
   "cell_type": "markdown",
   "metadata": {
    "id": "kgkgcYATtON0"
   },
   "source": [
    "### 6.1.11 log Line Breaks"
   ]
  },
  {
   "cell_type": "markdown",
   "metadata": {
    "id": "4btd9b1ttSAw"
   },
   "source": [
    "The coefficient for the log line breaks feature has an average value fo -0.69 log odds with a credible interval for -0.81 to -0.56, making it a predictor of emails not being spam. A log unit of line breaks decreases the probability an email is spam by 17%."
   ]
  },
  {
   "cell_type": "markdown",
   "metadata": {
    "id": "pTNwsRAjtT6N"
   },
   "source": [
    "### 6.1.12 re_subj"
   ]
  },
  {
   "cell_type": "markdown",
   "metadata": {
    "id": "ZybR-c48tWVY"
   },
   "source": [
    "The coefficient for the re_subj feature has an average value of -1.2 log odds with a credible interval from -1.93 to -0.68, so it is a consistent predictor of emails that are not spam. An email whose subject starts with some form of \"RE\" decreases the probability it is spam by 30%."
   ]
  },
  {
   "cell_type": "markdown",
   "metadata": {
    "id": "uOPUXz2WtYYH"
   },
   "source": [
    "### 6.1.13 exclaim_subj"
   ]
  },
  {
   "cell_type": "markdown",
   "metadata": {
    "id": "zF5-SKMItbO6"
   },
   "source": [
    "The coefficient for emails with exclamation points in the subject has an average value of 0.38 which a credible interval between -0.11 and 0.77, which does not make it a strong predictor of whether or not the email is spam. An email with exclamations points in the subject line is 10% more likely to be spam."
   ]
  },
  {
   "cell_type": "markdown",
   "metadata": {
    "id": "g1Vh98PAtc4P"
   },
   "source": [
    "### 6.1.14 urgent_subj"
   ]
  },
  {
   "cell_type": "markdown",
   "metadata": {
    "id": "GMnBYuBtte5q"
   },
   "source": [
    "The coefficient for emails with urgent in the subject line has an average value of 1.56 with a credible interval from -0.1 to 2.57. This a wide credible interval, indicating more uncertainty about the magnitude of the effect from urgent in the subject line. Its presence makes an email 39% more likely to be spam."
   ]
  },
  {
   "cell_type": "markdown",
   "metadata": {
    "id": "TBC8P0Dwtgpf"
   },
   "source": [
    "### 6.1.15 log exclaim_mess"
   ]
  },
  {
   "cell_type": "markdown",
   "metadata": {
    "id": "_G3wwVYFtjzg"
   },
   "source": [
    "The coefficient for the number of exclamation points in the email has an average value of -0.14\twith a credible interval of -0.38 to\t0.08. This makes  it not a strong predictor of an email not being spam. One log exclamation point decreases the probability an email is spam by 4%. An email with 1 exclamation point is 2% less likely to be spam."
   ]
  },
  {
   "cell_type": "markdown",
   "metadata": {
    "id": "EZpTtt43tl04"
   },
   "source": [
    "### 6.1.16 small"
   ]
  },
  {
   "cell_type": "markdown",
   "metadata": {
    "id": "pPIo3TmZtnz9"
   },
   "source": [
    "the coefficient for emails with small numbers in them, where a small number is one less than 1 million dollars, has an average value of\t-0.85 and a credible interval from -1.15 to\t-0.61\t. This indicates small numbers are a reliable predictor that an email is not spam. Emails with small numbers are 21% less likely to be spam"
   ]
  },
  {
   "cell_type": "markdown",
   "metadata": {
    "id": "uoST7mU9rjTQ"
   },
   "source": [
    "### 6.1.17 Summary"
   ]
  },
  {
   "cell_type": "markdown",
   "metadata": {
    "id": "tsbeHBoark1r"
   },
   "source": [
    "The two largest predictors that an email is not spam were having some form of \"RE\" in the subject and being from an address that had emailed the destination address within the last thirty days. The strongest predictors that an email is spam are having urgent and exclaimation points in the subject line. Emails with attachment were also more likely to be spam."
   ]
  },
  {
   "cell_type": "markdown",
   "metadata": {
    "id": "E22sPEIQt7dO"
   },
   "source": [
    "## 6.2 Metrics"
   ]
  },
  {
   "cell_type": "markdown",
   "metadata": {
    "id": "n9H7JvP0L2r2"
   },
   "source": [
    "As previously discussed, the dataset contains 90.6% spam, so for our null model where we predict everything to be spam our error rate is 9.4%. For our model we have an error rate of 8.39% which is slightly better.\n",
    "Logistic Regression doesn't have an actual R^2 metric but we can measure Efron's Psuedo R^2 instead. The psuedo R^2 value tells us the percent of variability in  explained by the model, which is 27% for this data. Unfortunately, the model does not capture the majority of the variability between spam and not spam data."
   ]
  },
  {
   "cell_type": "markdown",
   "metadata": {
    "id": "a-1IcLRbRRqr"
   },
   "source": [
    "Ultimately our model performed slightly better than the null model while improving the precision and recall of the model. Moving forwards ideally we would be able to work with a dataset with a more balanced set of spam emails to improve our results"
   ]
  }
 ],
 "metadata": {
  "colab": {
   "collapsed_sections": [],
   "name": "Group 3 PS6.ipynb",
   "provenance": [
    {
     "file_id": "1WcmKhBthPbcaXmPUQFnWMDsNwIU_BiZR",
     "timestamp": 1607485566743
    }
   ]
  },
  "kernelspec": {
   "display_name": "Python (en685648)",
   "language": "python",
   "name": "en685648"
  },
  "language_info": {
   "codemirror_mode": {
    "name": "ipython",
    "version": 3
   },
   "file_extension": ".py",
   "mimetype": "text/x-python",
   "name": "python",
   "nbconvert_exporter": "python",
   "pygments_lexer": "ipython3",
   "version": "3.7.7"
  }
 },
 "nbformat": 4,
 "nbformat_minor": 4
}
